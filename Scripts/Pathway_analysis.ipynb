{
 "cells": [
  {
   "cell_type": "markdown",
   "metadata": {},
   "source": [
    "# Pathway analysis of metagenomic data\n",
    "\n",
    "First, install the libraries and import them\n"
   ]
  },
  {
   "cell_type": "code",
   "execution_count": null,
   "metadata": {
    "vscode": {
     "languageId": "r"
    }
   },
   "outputs": [],
   "source": [
    "if (!require(\"BiocManager\", quietly = TRUE))\n",
    "    install.packages(\"BiocManager\")\n",
    "\n",
    "BiocManager::install(\"clusterProfiler\")\n",
    "BiocManager::install(\"org.Hs.eg.db\")\n",
    "BiocManager::install(\"org.EcK12.eg.db\")\n",
    "BiocManager::install(\"KEGGREST\")"
   ]
  },
  {
   "cell_type": "code",
   "execution_count": null,
   "metadata": {
    "vscode": {
     "languageId": "r"
    }
   },
   "outputs": [],
   "source": [
    "library(clusterProfiler)\n",
    "library(KEGGREST)\n",
    "library(org.Hs.eg.db)\n",
    "library(org.EcK12.eg.db)\n",
    "#keytypes(org.EcK12.eg.db)"
   ]
  },
  {
   "cell_type": "code",
   "execution_count": 3,
   "metadata": {
    "vscode": {
     "languageId": "r"
    }
   },
   "outputs": [
    {
     "data": {
      "text/html": [
       "<table class=\"dataframe\">\n",
       "<caption>A data.frame: 6 × 1640</caption>\n",
       "<thead>\n",
       "\t<tr><th></th><th scope=col>Gene.Family</th><th scope=col>Name.Organism</th><th scope=col>CSM5FZ4M</th><th scope=col>CSM5MCUO</th><th scope=col>CSM5MCVL</th><th scope=col>CSM5MCVN</th><th scope=col>CSM5MCW6</th><th scope=col>CSM5MCWC</th><th scope=col>CSM5MCWE</th><th scope=col>CSM5MCWG</th><th scope=col>...</th><th scope=col>CSM5MCVJ_P</th><th scope=col>CSM5MCWI_P</th><th scope=col>MSM5LLHA_P</th><th scope=col>HSM5MD59_P</th><th scope=col>HSM5MD8N_P</th><th scope=col>CSM6J2H9_P</th><th scope=col>HSM5MD4A_P</th><th scope=col>CSM5MCUW_P</th><th scope=col>ESM5MEBA_P</th><th scope=col>HSM5FZC2_P</th></tr>\n",
       "\t<tr><th></th><th scope=col>&lt;chr&gt;</th><th scope=col>&lt;chr&gt;</th><th scope=col>&lt;chr&gt;</th><th scope=col>&lt;dbl&gt;</th><th scope=col>&lt;dbl&gt;</th><th scope=col>&lt;dbl&gt;</th><th scope=col>&lt;dbl&gt;</th><th scope=col>&lt;dbl&gt;</th><th scope=col>&lt;dbl&gt;</th><th scope=col>&lt;dbl&gt;</th><th scope=col>...</th><th scope=col>&lt;dbl&gt;</th><th scope=col>&lt;dbl&gt;</th><th scope=col>&lt;dbl&gt;</th><th scope=col>&lt;dbl&gt;</th><th scope=col>&lt;dbl&gt;</th><th scope=col>&lt;dbl&gt;</th><th scope=col>&lt;dbl&gt;</th><th scope=col>&lt;dbl&gt;</th><th scope=col>&lt;dbl&gt;</th><th scope=col>&lt;dbl&gt;</th></tr>\n",
       "</thead>\n",
       "<tbody>\n",
       "\t<tr><th scope=row>1</th><td>1.1.1.100</td><td> 3-oxoacyl-[acyl-carrier-protein] reductase                                                </td><td>0.00183508</td><td>0.00147242</td><td>0.00157135</td><td>0.00117332</td><td>0.000246863</td><td>0.00238904</td><td>0.000922349</td><td>0.000573488</td><td>...</td><td>0.00172861</td><td>0.00180843</td><td>0.000636998</td><td>0.00190471</td><td>0.00168832</td><td>0.00183791</td><td>0.00191878</td><td>0.00139149</td><td>0.00124719</td><td>0.000429274</td></tr>\n",
       "\t<tr><th scope=row>2</th><td>1.1.1.100</td><td> 3-oxoacyl-[acyl-carrier-protein] reductase|g__Aggregatibacter.s__Aggregatibacter_segnis   </td><td>0         </td><td>0.00000000</td><td>0.00000000</td><td>0.00000000</td><td>0.000000000</td><td>0.00000000</td><td>0.000000000</td><td>0.000000000</td><td>...</td><td>0.00000000</td><td>0.00000000</td><td>0.000000000</td><td>0.00000000</td><td>0.00000000</td><td>0.00000000</td><td>0.00000000</td><td>0.00000000</td><td>0.00000000</td><td>0.000000000</td></tr>\n",
       "\t<tr><th scope=row>3</th><td>1.1.1.100</td><td> 3-oxoacyl-[acyl-carrier-protein] reductase|g__Alloprevotella.s__Alloprevotella_tannerae   </td><td>0         </td><td>0.00000000</td><td>0.00000000</td><td>0.00000000</td><td>0.000000000</td><td>0.00000000</td><td>0.000000000</td><td>0.000000000</td><td>...</td><td>0.00000000</td><td>0.00000000</td><td>0.000000000</td><td>0.00000000</td><td>0.00000000</td><td>0.00000000</td><td>0.00000000</td><td>0.00000000</td><td>0.00000000</td><td>0.000000000</td></tr>\n",
       "\t<tr><th scope=row>4</th><td>1.1.1.100</td><td> 3-oxoacyl-[acyl-carrier-protein] reductase|g__Anaerococcus.s__Anaerococcus_obesiensis     </td><td>0         </td><td>0.00000000</td><td>0.00000000</td><td>0.00000000</td><td>0.000000000</td><td>0.00000000</td><td>0.000000000</td><td>0.000000000</td><td>...</td><td>0.00000000</td><td>0.00000000</td><td>0.000000000</td><td>0.00000000</td><td>0.00000000</td><td>0.00000000</td><td>0.00000000</td><td>0.00000000</td><td>0.00000000</td><td>0.000000000</td></tr>\n",
       "\t<tr><th scope=row>5</th><td>1.1.1.100</td><td> 3-oxoacyl-[acyl-carrier-protein] reductase|g__Anaerococcus.s__Anaerococcus_vaginalis      </td><td>0         </td><td>0.00000000</td><td>0.00000000</td><td>0.00000000</td><td>0.000000000</td><td>0.00000000</td><td>0.000000000</td><td>0.000000000</td><td>...</td><td>0.00000000</td><td>0.00000000</td><td>0.000000000</td><td>0.00000000</td><td>0.00000000</td><td>0.00000000</td><td>0.00000000</td><td>0.00000000</td><td>0.00000000</td><td>0.000000000</td></tr>\n",
       "\t<tr><th scope=row>6</th><td>1.1.1.100</td><td> 3-oxoacyl-[acyl-carrier-protein] reductase|g__Anaerofustis.s__Anaerofustis_stercorihominis</td><td>0         </td><td>0.00000000</td><td>0.00000000</td><td>0.00000000</td><td>0.000000000</td><td>0.00000000</td><td>0.000000000</td><td>0.000000000</td><td>...</td><td>0.00000000</td><td>0.00000000</td><td>0.000000000</td><td>0.00000000</td><td>0.00000000</td><td>0.00000000</td><td>0.00000000</td><td>0.00000000</td><td>0.00000000</td><td>0.000000000</td></tr>\n",
       "</tbody>\n",
       "</table>\n"
      ],
      "text/latex": [
       "A data.frame: 6 × 1640\n",
       "\\begin{tabular}{r|lllllllllllllllllllll}\n",
       "  & Gene.Family & Name.Organism & CSM5FZ4M & CSM5MCUO & CSM5MCVL & CSM5MCVN & CSM5MCW6 & CSM5MCWC & CSM5MCWE & CSM5MCWG & ... & CSM5MCVJ\\_P & CSM5MCWI\\_P & MSM5LLHA\\_P & HSM5MD59\\_P & HSM5MD8N\\_P & CSM6J2H9\\_P & HSM5MD4A\\_P & CSM5MCUW\\_P & ESM5MEBA\\_P & HSM5FZC2\\_P\\\\\n",
       "  & <chr> & <chr> & <chr> & <dbl> & <dbl> & <dbl> & <dbl> & <dbl> & <dbl> & <dbl> & ... & <dbl> & <dbl> & <dbl> & <dbl> & <dbl> & <dbl> & <dbl> & <dbl> & <dbl> & <dbl>\\\\\n",
       "\\hline\n",
       "\t1 & 1.1.1.100 &  3-oxoacyl-{[}acyl-carrier-protein{]} reductase                                                 & 0.00183508 & 0.00147242 & 0.00157135 & 0.00117332 & 0.000246863 & 0.00238904 & 0.000922349 & 0.000573488 & ... & 0.00172861 & 0.00180843 & 0.000636998 & 0.00190471 & 0.00168832 & 0.00183791 & 0.00191878 & 0.00139149 & 0.00124719 & 0.000429274\\\\\n",
       "\t2 & 1.1.1.100 &  3-oxoacyl-{[}acyl-carrier-protein{]} reductase\\textbar{}g\\_\\_Aggregatibacter.s\\_\\_Aggregatibacter\\_segnis    & 0          & 0.00000000 & 0.00000000 & 0.00000000 & 0.000000000 & 0.00000000 & 0.000000000 & 0.000000000 & ... & 0.00000000 & 0.00000000 & 0.000000000 & 0.00000000 & 0.00000000 & 0.00000000 & 0.00000000 & 0.00000000 & 0.00000000 & 0.000000000\\\\\n",
       "\t3 & 1.1.1.100 &  3-oxoacyl-{[}acyl-carrier-protein{]} reductase\\textbar{}g\\_\\_Alloprevotella.s\\_\\_Alloprevotella\\_tannerae    & 0          & 0.00000000 & 0.00000000 & 0.00000000 & 0.000000000 & 0.00000000 & 0.000000000 & 0.000000000 & ... & 0.00000000 & 0.00000000 & 0.000000000 & 0.00000000 & 0.00000000 & 0.00000000 & 0.00000000 & 0.00000000 & 0.00000000 & 0.000000000\\\\\n",
       "\t4 & 1.1.1.100 &  3-oxoacyl-{[}acyl-carrier-protein{]} reductase\\textbar{}g\\_\\_Anaerococcus.s\\_\\_Anaerococcus\\_obesiensis      & 0          & 0.00000000 & 0.00000000 & 0.00000000 & 0.000000000 & 0.00000000 & 0.000000000 & 0.000000000 & ... & 0.00000000 & 0.00000000 & 0.000000000 & 0.00000000 & 0.00000000 & 0.00000000 & 0.00000000 & 0.00000000 & 0.00000000 & 0.000000000\\\\\n",
       "\t5 & 1.1.1.100 &  3-oxoacyl-{[}acyl-carrier-protein{]} reductase\\textbar{}g\\_\\_Anaerococcus.s\\_\\_Anaerococcus\\_vaginalis       & 0          & 0.00000000 & 0.00000000 & 0.00000000 & 0.000000000 & 0.00000000 & 0.000000000 & 0.000000000 & ... & 0.00000000 & 0.00000000 & 0.000000000 & 0.00000000 & 0.00000000 & 0.00000000 & 0.00000000 & 0.00000000 & 0.00000000 & 0.000000000\\\\\n",
       "\t6 & 1.1.1.100 &  3-oxoacyl-{[}acyl-carrier-protein{]} reductase\\textbar{}g\\_\\_Anaerofustis.s\\_\\_Anaerofustis\\_stercorihominis & 0          & 0.00000000 & 0.00000000 & 0.00000000 & 0.000000000 & 0.00000000 & 0.000000000 & 0.000000000 & ... & 0.00000000 & 0.00000000 & 0.000000000 & 0.00000000 & 0.00000000 & 0.00000000 & 0.00000000 & 0.00000000 & 0.00000000 & 0.000000000\\\\\n",
       "\\end{tabular}\n"
      ],
      "text/markdown": [
       "\n",
       "A data.frame: 6 × 1640\n",
       "\n",
       "| <!--/--> | Gene.Family &lt;chr&gt; | Name.Organism &lt;chr&gt; | CSM5FZ4M &lt;chr&gt; | CSM5MCUO &lt;dbl&gt; | CSM5MCVL &lt;dbl&gt; | CSM5MCVN &lt;dbl&gt; | CSM5MCW6 &lt;dbl&gt; | CSM5MCWC &lt;dbl&gt; | CSM5MCWE &lt;dbl&gt; | CSM5MCWG &lt;dbl&gt; | ... ... | CSM5MCVJ_P &lt;dbl&gt; | CSM5MCWI_P &lt;dbl&gt; | MSM5LLHA_P &lt;dbl&gt; | HSM5MD59_P &lt;dbl&gt; | HSM5MD8N_P &lt;dbl&gt; | CSM6J2H9_P &lt;dbl&gt; | HSM5MD4A_P &lt;dbl&gt; | CSM5MCUW_P &lt;dbl&gt; | ESM5MEBA_P &lt;dbl&gt; | HSM5FZC2_P &lt;dbl&gt; |\n",
       "|---|---|---|---|---|---|---|---|---|---|---|---|---|---|---|---|---|---|---|---|---|---|\n",
       "| 1 | 1.1.1.100 |  3-oxoacyl-[acyl-carrier-protein] reductase                                                 | 0.00183508 | 0.00147242 | 0.00157135 | 0.00117332 | 0.000246863 | 0.00238904 | 0.000922349 | 0.000573488 | ... | 0.00172861 | 0.00180843 | 0.000636998 | 0.00190471 | 0.00168832 | 0.00183791 | 0.00191878 | 0.00139149 | 0.00124719 | 0.000429274 |\n",
       "| 2 | 1.1.1.100 |  3-oxoacyl-[acyl-carrier-protein] reductase|g__Aggregatibacter.s__Aggregatibacter_segnis    | 0          | 0.00000000 | 0.00000000 | 0.00000000 | 0.000000000 | 0.00000000 | 0.000000000 | 0.000000000 | ... | 0.00000000 | 0.00000000 | 0.000000000 | 0.00000000 | 0.00000000 | 0.00000000 | 0.00000000 | 0.00000000 | 0.00000000 | 0.000000000 |\n",
       "| 3 | 1.1.1.100 |  3-oxoacyl-[acyl-carrier-protein] reductase|g__Alloprevotella.s__Alloprevotella_tannerae    | 0          | 0.00000000 | 0.00000000 | 0.00000000 | 0.000000000 | 0.00000000 | 0.000000000 | 0.000000000 | ... | 0.00000000 | 0.00000000 | 0.000000000 | 0.00000000 | 0.00000000 | 0.00000000 | 0.00000000 | 0.00000000 | 0.00000000 | 0.000000000 |\n",
       "| 4 | 1.1.1.100 |  3-oxoacyl-[acyl-carrier-protein] reductase|g__Anaerococcus.s__Anaerococcus_obesiensis      | 0          | 0.00000000 | 0.00000000 | 0.00000000 | 0.000000000 | 0.00000000 | 0.000000000 | 0.000000000 | ... | 0.00000000 | 0.00000000 | 0.000000000 | 0.00000000 | 0.00000000 | 0.00000000 | 0.00000000 | 0.00000000 | 0.00000000 | 0.000000000 |\n",
       "| 5 | 1.1.1.100 |  3-oxoacyl-[acyl-carrier-protein] reductase|g__Anaerococcus.s__Anaerococcus_vaginalis       | 0          | 0.00000000 | 0.00000000 | 0.00000000 | 0.000000000 | 0.00000000 | 0.000000000 | 0.000000000 | ... | 0.00000000 | 0.00000000 | 0.000000000 | 0.00000000 | 0.00000000 | 0.00000000 | 0.00000000 | 0.00000000 | 0.00000000 | 0.000000000 |\n",
       "| 6 | 1.1.1.100 |  3-oxoacyl-[acyl-carrier-protein] reductase|g__Anaerofustis.s__Anaerofustis_stercorihominis | 0          | 0.00000000 | 0.00000000 | 0.00000000 | 0.000000000 | 0.00000000 | 0.000000000 | 0.000000000 | ... | 0.00000000 | 0.00000000 | 0.000000000 | 0.00000000 | 0.00000000 | 0.00000000 | 0.00000000 | 0.00000000 | 0.00000000 | 0.000000000 |\n",
       "\n"
      ],
      "text/plain": [
       "  Gene.Family\n",
       "1 1.1.1.100  \n",
       "2 1.1.1.100  \n",
       "3 1.1.1.100  \n",
       "4 1.1.1.100  \n",
       "5 1.1.1.100  \n",
       "6 1.1.1.100  \n",
       "  Name.Organism                                                                              \n",
       "1  3-oxoacyl-[acyl-carrier-protein] reductase                                                \n",
       "2  3-oxoacyl-[acyl-carrier-protein] reductase|g__Aggregatibacter.s__Aggregatibacter_segnis   \n",
       "3  3-oxoacyl-[acyl-carrier-protein] reductase|g__Alloprevotella.s__Alloprevotella_tannerae   \n",
       "4  3-oxoacyl-[acyl-carrier-protein] reductase|g__Anaerococcus.s__Anaerococcus_obesiensis     \n",
       "5  3-oxoacyl-[acyl-carrier-protein] reductase|g__Anaerococcus.s__Anaerococcus_vaginalis      \n",
       "6  3-oxoacyl-[acyl-carrier-protein] reductase|g__Anaerofustis.s__Anaerofustis_stercorihominis\n",
       "  CSM5FZ4M   CSM5MCUO   CSM5MCVL   CSM5MCVN   CSM5MCW6    CSM5MCWC  \n",
       "1 0.00183508 0.00147242 0.00157135 0.00117332 0.000246863 0.00238904\n",
       "2 0          0.00000000 0.00000000 0.00000000 0.000000000 0.00000000\n",
       "3 0          0.00000000 0.00000000 0.00000000 0.000000000 0.00000000\n",
       "4 0          0.00000000 0.00000000 0.00000000 0.000000000 0.00000000\n",
       "5 0          0.00000000 0.00000000 0.00000000 0.000000000 0.00000000\n",
       "6 0          0.00000000 0.00000000 0.00000000 0.000000000 0.00000000\n",
       "  CSM5MCWE    CSM5MCWG    ... CSM5MCVJ_P CSM5MCWI_P MSM5LLHA_P  HSM5MD59_P\n",
       "1 0.000922349 0.000573488 ... 0.00172861 0.00180843 0.000636998 0.00190471\n",
       "2 0.000000000 0.000000000 ... 0.00000000 0.00000000 0.000000000 0.00000000\n",
       "3 0.000000000 0.000000000 ... 0.00000000 0.00000000 0.000000000 0.00000000\n",
       "4 0.000000000 0.000000000 ... 0.00000000 0.00000000 0.000000000 0.00000000\n",
       "5 0.000000000 0.000000000 ... 0.00000000 0.00000000 0.000000000 0.00000000\n",
       "6 0.000000000 0.000000000 ... 0.00000000 0.00000000 0.000000000 0.00000000\n",
       "  HSM5MD8N_P CSM6J2H9_P HSM5MD4A_P CSM5MCUW_P ESM5MEBA_P HSM5FZC2_P \n",
       "1 0.00168832 0.00183791 0.00191878 0.00139149 0.00124719 0.000429274\n",
       "2 0.00000000 0.00000000 0.00000000 0.00000000 0.00000000 0.000000000\n",
       "3 0.00000000 0.00000000 0.00000000 0.00000000 0.00000000 0.000000000\n",
       "4 0.00000000 0.00000000 0.00000000 0.00000000 0.00000000 0.000000000\n",
       "5 0.00000000 0.00000000 0.00000000 0.00000000 0.00000000 0.000000000\n",
       "6 0.00000000 0.00000000 0.00000000 0.00000000 0.00000000 0.000000000"
      ]
     },
     "metadata": {},
     "output_type": "display_data"
    }
   ],
   "source": [
    "# Import the metagenomics data\n",
    "metagenomics <- read.csv(file = '../Data/ecs_relab_split.csv', sep = '\\t', header = TRUE)\n",
    "head(metagenomics)"
   ]
  },
  {
   "cell_type": "code",
   "execution_count": 4,
   "metadata": {
    "vscode": {
     "languageId": "r"
    }
   },
   "outputs": [
    {
     "data": {
      "text/html": [
       "<table class=\"dataframe\">\n",
       "<caption>A data.frame: 6 × 1640</caption>\n",
       "<thead>\n",
       "\t<tr><th></th><th scope=col>Gene.Family</th><th scope=col>Name.Organism</th><th scope=col>CSM5FZ4M</th><th scope=col>CSM5MCUO</th><th scope=col>CSM5MCVL</th><th scope=col>CSM5MCVN</th><th scope=col>CSM5MCW6</th><th scope=col>CSM5MCWC</th><th scope=col>CSM5MCWE</th><th scope=col>CSM5MCWG</th><th scope=col>...</th><th scope=col>CSM5MCVJ_P</th><th scope=col>CSM5MCWI_P</th><th scope=col>MSM5LLHA_P</th><th scope=col>HSM5MD59_P</th><th scope=col>HSM5MD8N_P</th><th scope=col>CSM6J2H9_P</th><th scope=col>HSM5MD4A_P</th><th scope=col>CSM5MCUW_P</th><th scope=col>ESM5MEBA_P</th><th scope=col>HSM5FZC2_P</th></tr>\n",
       "\t<tr><th></th><th scope=col>&lt;chr&gt;</th><th scope=col>&lt;chr&gt;</th><th scope=col>&lt;chr&gt;</th><th scope=col>&lt;dbl&gt;</th><th scope=col>&lt;dbl&gt;</th><th scope=col>&lt;dbl&gt;</th><th scope=col>&lt;dbl&gt;</th><th scope=col>&lt;dbl&gt;</th><th scope=col>&lt;dbl&gt;</th><th scope=col>&lt;dbl&gt;</th><th scope=col>...</th><th scope=col>&lt;dbl&gt;</th><th scope=col>&lt;dbl&gt;</th><th scope=col>&lt;dbl&gt;</th><th scope=col>&lt;dbl&gt;</th><th scope=col>&lt;dbl&gt;</th><th scope=col>&lt;dbl&gt;</th><th scope=col>&lt;dbl&gt;</th><th scope=col>&lt;dbl&gt;</th><th scope=col>&lt;dbl&gt;</th><th scope=col>&lt;dbl&gt;</th></tr>\n",
       "</thead>\n",
       "<tbody>\n",
       "\t<tr><th scope=row>72</th><td>1.1.1.100</td><td> 3-oxoacyl-[acyl-carrier-protein] reductase|g__Escherichia.s__Escherichia_coli   </td><td>4.1268e-06 </td><td>9.91858e-06</td><td>5.74953e-06</td><td>0.0000e+00</td><td>0</td><td>3.55339e-05</td><td>0.000111472</td><td>0.000305886</td><td>...</td><td>2.89118e-05</td><td>2.52982e-05</td><td>5.73950e-05</td><td>3.89813e-06</td><td>0.0000e+00</td><td>0</td><td>4.10781e-06</td><td>2.61897e-04</td><td>0</td><td>4.94513e-06</td></tr>\n",
       "\t<tr><th scope=row>209</th><td>1.1.1.103</td><td> L-threonine 3-dehydrogenase|g__Escherichia.s__Escherichia_coli                  </td><td>4.10204e-06</td><td>5.64941e-06</td><td>7.84576e-06</td><td>0.0000e+00</td><td>0</td><td>7.52441e-05</td><td>0.000275560</td><td>0.000665927</td><td>...</td><td>4.38022e-06</td><td>1.80096e-05</td><td>1.18570e-05</td><td>9.38069e-06</td><td>1.5674e-06</td><td>0</td><td>2.81095e-06</td><td>9.14451e-05</td><td>0</td><td>4.35009e-06</td></tr>\n",
       "\t<tr><th scope=row>250</th><td>1.1.1.11 </td><td> D-arabinitol 4-dehydrogenase|g__Escherichia.s__Escherichia_coli                 </td><td>0          </td><td>0.00000e+00</td><td>0.00000e+00</td><td>0.0000e+00</td><td>0</td><td>0.00000e+00</td><td>0.000000000</td><td>0.000000000</td><td>...</td><td>0.00000e+00</td><td>0.00000e+00</td><td>0.00000e+00</td><td>0.00000e+00</td><td>0.0000e+00</td><td>0</td><td>0.00000e+00</td><td>0.00000e+00</td><td>0</td><td>0.00000e+00</td></tr>\n",
       "\t<tr><th scope=row>288</th><td>1.1.1.127</td><td> 2-dehydro-3-deoxy-D-gluconate 5-dehydrogenase|g__Escherichia.s__Escherichia_coli</td><td>0          </td><td>6.37618e-07</td><td>9.84720e-06</td><td>1.8641e-06</td><td>0</td><td>1.36083e-04</td><td>0.000637147</td><td>0.001320120</td><td>...</td><td>2.43733e-05</td><td>4.50702e-05</td><td>2.57285e-05</td><td>1.16513e-05</td><td>0.0000e+00</td><td>0</td><td>1.88847e-05</td><td>1.64357e-04</td><td>0</td><td>3.02259e-06</td></tr>\n",
       "\t<tr><th scope=row>306</th><td>1.1.1.130</td><td> 3-dehydro-L-gulonate 2-dehydrogenase|g__Escherichia.s__Escherichia_coli         </td><td>1.05122e-06</td><td>4.19287e-06</td><td>9.47301e-06</td><td>2.8743e-06</td><td>0</td><td>7.07101e-05</td><td>0.000361889</td><td>0.000844426</td><td>...</td><td>2.53331e-05</td><td>2.87693e-05</td><td>3.11684e-05</td><td>8.45031e-06</td><td>0.0000e+00</td><td>0</td><td>4.34527e-06</td><td>2.28527e-04</td><td>0</td><td>5.24028e-06</td></tr>\n",
       "\t<tr><th scope=row>356</th><td>1.1.1.133</td><td> dTDP-4-dehydrorhamnose reductase|g__Escherichia.s__Escherichia_coli             </td><td>0          </td><td>0.00000e+00</td><td>0.00000e+00</td><td>0.0000e+00</td><td>0</td><td>3.03047e-05</td><td>0.000133478</td><td>0.000215957</td><td>...</td><td>0.00000e+00</td><td>0.00000e+00</td><td>0.00000e+00</td><td>6.65494e-07</td><td>0.0000e+00</td><td>0</td><td>0.00000e+00</td><td>2.66236e-04</td><td>0</td><td>9.27221e-06</td></tr>\n",
       "</tbody>\n",
       "</table>\n"
      ],
      "text/latex": [
       "A data.frame: 6 × 1640\n",
       "\\begin{tabular}{r|lllllllllllllllllllll}\n",
       "  & Gene.Family & Name.Organism & CSM5FZ4M & CSM5MCUO & CSM5MCVL & CSM5MCVN & CSM5MCW6 & CSM5MCWC & CSM5MCWE & CSM5MCWG & ... & CSM5MCVJ\\_P & CSM5MCWI\\_P & MSM5LLHA\\_P & HSM5MD59\\_P & HSM5MD8N\\_P & CSM6J2H9\\_P & HSM5MD4A\\_P & CSM5MCUW\\_P & ESM5MEBA\\_P & HSM5FZC2\\_P\\\\\n",
       "  & <chr> & <chr> & <chr> & <dbl> & <dbl> & <dbl> & <dbl> & <dbl> & <dbl> & <dbl> & ... & <dbl> & <dbl> & <dbl> & <dbl> & <dbl> & <dbl> & <dbl> & <dbl> & <dbl> & <dbl>\\\\\n",
       "\\hline\n",
       "\t72 & 1.1.1.100 &  3-oxoacyl-{[}acyl-carrier-protein{]} reductase\\textbar{}g\\_\\_Escherichia.s\\_\\_Escherichia\\_coli    & 4.1268e-06  & 9.91858e-06 & 5.74953e-06 & 0.0000e+00 & 0 & 3.55339e-05 & 0.000111472 & 0.000305886 & ... & 2.89118e-05 & 2.52982e-05 & 5.73950e-05 & 3.89813e-06 & 0.0000e+00 & 0 & 4.10781e-06 & 2.61897e-04 & 0 & 4.94513e-06\\\\\n",
       "\t209 & 1.1.1.103 &  L-threonine 3-dehydrogenase\\textbar{}g\\_\\_Escherichia.s\\_\\_Escherichia\\_coli                   & 4.10204e-06 & 5.64941e-06 & 7.84576e-06 & 0.0000e+00 & 0 & 7.52441e-05 & 0.000275560 & 0.000665927 & ... & 4.38022e-06 & 1.80096e-05 & 1.18570e-05 & 9.38069e-06 & 1.5674e-06 & 0 & 2.81095e-06 & 9.14451e-05 & 0 & 4.35009e-06\\\\\n",
       "\t250 & 1.1.1.11  &  D-arabinitol 4-dehydrogenase\\textbar{}g\\_\\_Escherichia.s\\_\\_Escherichia\\_coli                  & 0           & 0.00000e+00 & 0.00000e+00 & 0.0000e+00 & 0 & 0.00000e+00 & 0.000000000 & 0.000000000 & ... & 0.00000e+00 & 0.00000e+00 & 0.00000e+00 & 0.00000e+00 & 0.0000e+00 & 0 & 0.00000e+00 & 0.00000e+00 & 0 & 0.00000e+00\\\\\n",
       "\t288 & 1.1.1.127 &  2-dehydro-3-deoxy-D-gluconate 5-dehydrogenase\\textbar{}g\\_\\_Escherichia.s\\_\\_Escherichia\\_coli & 0           & 6.37618e-07 & 9.84720e-06 & 1.8641e-06 & 0 & 1.36083e-04 & 0.000637147 & 0.001320120 & ... & 2.43733e-05 & 4.50702e-05 & 2.57285e-05 & 1.16513e-05 & 0.0000e+00 & 0 & 1.88847e-05 & 1.64357e-04 & 0 & 3.02259e-06\\\\\n",
       "\t306 & 1.1.1.130 &  3-dehydro-L-gulonate 2-dehydrogenase\\textbar{}g\\_\\_Escherichia.s\\_\\_Escherichia\\_coli          & 1.05122e-06 & 4.19287e-06 & 9.47301e-06 & 2.8743e-06 & 0 & 7.07101e-05 & 0.000361889 & 0.000844426 & ... & 2.53331e-05 & 2.87693e-05 & 3.11684e-05 & 8.45031e-06 & 0.0000e+00 & 0 & 4.34527e-06 & 2.28527e-04 & 0 & 5.24028e-06\\\\\n",
       "\t356 & 1.1.1.133 &  dTDP-4-dehydrorhamnose reductase\\textbar{}g\\_\\_Escherichia.s\\_\\_Escherichia\\_coli              & 0           & 0.00000e+00 & 0.00000e+00 & 0.0000e+00 & 0 & 3.03047e-05 & 0.000133478 & 0.000215957 & ... & 0.00000e+00 & 0.00000e+00 & 0.00000e+00 & 6.65494e-07 & 0.0000e+00 & 0 & 0.00000e+00 & 2.66236e-04 & 0 & 9.27221e-06\\\\\n",
       "\\end{tabular}\n"
      ],
      "text/markdown": [
       "\n",
       "A data.frame: 6 × 1640\n",
       "\n",
       "| <!--/--> | Gene.Family &lt;chr&gt; | Name.Organism &lt;chr&gt; | CSM5FZ4M &lt;chr&gt; | CSM5MCUO &lt;dbl&gt; | CSM5MCVL &lt;dbl&gt; | CSM5MCVN &lt;dbl&gt; | CSM5MCW6 &lt;dbl&gt; | CSM5MCWC &lt;dbl&gt; | CSM5MCWE &lt;dbl&gt; | CSM5MCWG &lt;dbl&gt; | ... ... | CSM5MCVJ_P &lt;dbl&gt; | CSM5MCWI_P &lt;dbl&gt; | MSM5LLHA_P &lt;dbl&gt; | HSM5MD59_P &lt;dbl&gt; | HSM5MD8N_P &lt;dbl&gt; | CSM6J2H9_P &lt;dbl&gt; | HSM5MD4A_P &lt;dbl&gt; | CSM5MCUW_P &lt;dbl&gt; | ESM5MEBA_P &lt;dbl&gt; | HSM5FZC2_P &lt;dbl&gt; |\n",
       "|---|---|---|---|---|---|---|---|---|---|---|---|---|---|---|---|---|---|---|---|---|---|\n",
       "| 72 | 1.1.1.100 |  3-oxoacyl-[acyl-carrier-protein] reductase|g__Escherichia.s__Escherichia_coli    | 4.1268e-06  | 9.91858e-06 | 5.74953e-06 | 0.0000e+00 | 0 | 3.55339e-05 | 0.000111472 | 0.000305886 | ... | 2.89118e-05 | 2.52982e-05 | 5.73950e-05 | 3.89813e-06 | 0.0000e+00 | 0 | 4.10781e-06 | 2.61897e-04 | 0 | 4.94513e-06 |\n",
       "| 209 | 1.1.1.103 |  L-threonine 3-dehydrogenase|g__Escherichia.s__Escherichia_coli                   | 4.10204e-06 | 5.64941e-06 | 7.84576e-06 | 0.0000e+00 | 0 | 7.52441e-05 | 0.000275560 | 0.000665927 | ... | 4.38022e-06 | 1.80096e-05 | 1.18570e-05 | 9.38069e-06 | 1.5674e-06 | 0 | 2.81095e-06 | 9.14451e-05 | 0 | 4.35009e-06 |\n",
       "| 250 | 1.1.1.11  |  D-arabinitol 4-dehydrogenase|g__Escherichia.s__Escherichia_coli                  | 0           | 0.00000e+00 | 0.00000e+00 | 0.0000e+00 | 0 | 0.00000e+00 | 0.000000000 | 0.000000000 | ... | 0.00000e+00 | 0.00000e+00 | 0.00000e+00 | 0.00000e+00 | 0.0000e+00 | 0 | 0.00000e+00 | 0.00000e+00 | 0 | 0.00000e+00 |\n",
       "| 288 | 1.1.1.127 |  2-dehydro-3-deoxy-D-gluconate 5-dehydrogenase|g__Escherichia.s__Escherichia_coli | 0           | 6.37618e-07 | 9.84720e-06 | 1.8641e-06 | 0 | 1.36083e-04 | 0.000637147 | 0.001320120 | ... | 2.43733e-05 | 4.50702e-05 | 2.57285e-05 | 1.16513e-05 | 0.0000e+00 | 0 | 1.88847e-05 | 1.64357e-04 | 0 | 3.02259e-06 |\n",
       "| 306 | 1.1.1.130 |  3-dehydro-L-gulonate 2-dehydrogenase|g__Escherichia.s__Escherichia_coli          | 1.05122e-06 | 4.19287e-06 | 9.47301e-06 | 2.8743e-06 | 0 | 7.07101e-05 | 0.000361889 | 0.000844426 | ... | 2.53331e-05 | 2.87693e-05 | 3.11684e-05 | 8.45031e-06 | 0.0000e+00 | 0 | 4.34527e-06 | 2.28527e-04 | 0 | 5.24028e-06 |\n",
       "| 356 | 1.1.1.133 |  dTDP-4-dehydrorhamnose reductase|g__Escherichia.s__Escherichia_coli              | 0           | 0.00000e+00 | 0.00000e+00 | 0.0000e+00 | 0 | 3.03047e-05 | 0.000133478 | 0.000215957 | ... | 0.00000e+00 | 0.00000e+00 | 0.00000e+00 | 6.65494e-07 | 0.0000e+00 | 0 | 0.00000e+00 | 2.66236e-04 | 0 | 9.27221e-06 |\n",
       "\n"
      ],
      "text/plain": [
       "    Gene.Family\n",
       "72  1.1.1.100  \n",
       "209 1.1.1.103  \n",
       "250 1.1.1.11   \n",
       "288 1.1.1.127  \n",
       "306 1.1.1.130  \n",
       "356 1.1.1.133  \n",
       "    Name.Organism                                                                    \n",
       "72   3-oxoacyl-[acyl-carrier-protein] reductase|g__Escherichia.s__Escherichia_coli   \n",
       "209  L-threonine 3-dehydrogenase|g__Escherichia.s__Escherichia_coli                  \n",
       "250  D-arabinitol 4-dehydrogenase|g__Escherichia.s__Escherichia_coli                 \n",
       "288  2-dehydro-3-deoxy-D-gluconate 5-dehydrogenase|g__Escherichia.s__Escherichia_coli\n",
       "306  3-dehydro-L-gulonate 2-dehydrogenase|g__Escherichia.s__Escherichia_coli         \n",
       "356  dTDP-4-dehydrorhamnose reductase|g__Escherichia.s__Escherichia_coli             \n",
       "    CSM5FZ4M    CSM5MCUO    CSM5MCVL    CSM5MCVN   CSM5MCW6 CSM5MCWC   \n",
       "72  4.1268e-06  9.91858e-06 5.74953e-06 0.0000e+00 0        3.55339e-05\n",
       "209 4.10204e-06 5.64941e-06 7.84576e-06 0.0000e+00 0        7.52441e-05\n",
       "250 0           0.00000e+00 0.00000e+00 0.0000e+00 0        0.00000e+00\n",
       "288 0           6.37618e-07 9.84720e-06 1.8641e-06 0        1.36083e-04\n",
       "306 1.05122e-06 4.19287e-06 9.47301e-06 2.8743e-06 0        7.07101e-05\n",
       "356 0           0.00000e+00 0.00000e+00 0.0000e+00 0        3.03047e-05\n",
       "    CSM5MCWE    CSM5MCWG    ... CSM5MCVJ_P  CSM5MCWI_P  MSM5LLHA_P  HSM5MD59_P \n",
       "72  0.000111472 0.000305886 ... 2.89118e-05 2.52982e-05 5.73950e-05 3.89813e-06\n",
       "209 0.000275560 0.000665927 ... 4.38022e-06 1.80096e-05 1.18570e-05 9.38069e-06\n",
       "250 0.000000000 0.000000000 ... 0.00000e+00 0.00000e+00 0.00000e+00 0.00000e+00\n",
       "288 0.000637147 0.001320120 ... 2.43733e-05 4.50702e-05 2.57285e-05 1.16513e-05\n",
       "306 0.000361889 0.000844426 ... 2.53331e-05 2.87693e-05 3.11684e-05 8.45031e-06\n",
       "356 0.000133478 0.000215957 ... 0.00000e+00 0.00000e+00 0.00000e+00 6.65494e-07\n",
       "    HSM5MD8N_P CSM6J2H9_P HSM5MD4A_P  CSM5MCUW_P  ESM5MEBA_P HSM5FZC2_P \n",
       "72  0.0000e+00 0          4.10781e-06 2.61897e-04 0          4.94513e-06\n",
       "209 1.5674e-06 0          2.81095e-06 9.14451e-05 0          4.35009e-06\n",
       "250 0.0000e+00 0          0.00000e+00 0.00000e+00 0          0.00000e+00\n",
       "288 0.0000e+00 0          1.88847e-05 1.64357e-04 0          3.02259e-06\n",
       "306 0.0000e+00 0          4.34527e-06 2.28527e-04 0          5.24028e-06\n",
       "356 0.0000e+00 0          0.00000e+00 2.66236e-04 0          9.27221e-06"
      ]
     },
     "metadata": {},
     "output_type": "display_data"
    }
   ],
   "source": [
    "# Subset Escherichia coli\n",
    "metagenomics_Ecoli <- metagenomics[grepl(\"Escherichia_coli\", metagenomics$Name.Organism, fixed = TRUE),]\n",
    "head(metagenomics_Ecoli)"
   ]
  },
  {
   "cell_type": "markdown",
   "metadata": {},
   "source": [
    "# Differential gene expression analysis"
   ]
  },
  {
   "cell_type": "code",
   "execution_count": null,
   "metadata": {
    "vscode": {
     "languageId": "r"
    }
   },
   "outputs": [],
   "source": [
    "# Import metadata file\n",
    "metadata <- read.csv(file = '../Data/hmp2_metadata_2018-08-20.csv', sep = ',', header = TRUE)\n",
    "# Select metagenomics\n",
    "metagenomics_metadata <- metadata[metadata$data_type=='metagenomics',]\n",
    "# Write metagenomics metadata file into csv\n",
    "write.csv(metagenomics_metadata,\"..\\\\Data\\\\Metagenomics_metadata.csv\", row.names = FALSE)"
   ]
  },
  {
   "cell_type": "code",
   "execution_count": 5,
   "metadata": {
    "vscode": {
     "languageId": "r"
    }
   },
   "outputs": [
    {
     "data": {
      "text/html": [
       "<table class=\"dataframe\">\n",
       "<caption>A data.frame: 6 × 2</caption>\n",
       "<thead>\n",
       "\t<tr><th></th><th scope=col>External.ID</th><th scope=col>diagnosis</th></tr>\n",
       "\t<tr><th></th><th scope=col>&lt;chr&gt;</th><th scope=col>&lt;chr&gt;</th></tr>\n",
       "</thead>\n",
       "<tbody>\n",
       "\t<tr><th scope=row>1</th><td>CSM5FZ3N_P</td><td>CD</td></tr>\n",
       "\t<tr><th scope=row>2</th><td>CSM5FZ3R_P</td><td>CD</td></tr>\n",
       "\t<tr><th scope=row>3</th><td>CSM5YRY7_P</td><td>CD</td></tr>\n",
       "\t<tr><th scope=row>4</th><td>CSM5FZ3V_P</td><td>CD</td></tr>\n",
       "\t<tr><th scope=row>5</th><td>CSM5FZ4C_P</td><td>CD</td></tr>\n",
       "\t<tr><th scope=row>6</th><td>CSM5MCVD_P</td><td>CD</td></tr>\n",
       "</tbody>\n",
       "</table>\n"
      ],
      "text/latex": [
       "A data.frame: 6 × 2\n",
       "\\begin{tabular}{r|ll}\n",
       "  & External.ID & diagnosis\\\\\n",
       "  & <chr> & <chr>\\\\\n",
       "\\hline\n",
       "\t1 & CSM5FZ3N\\_P & CD\\\\\n",
       "\t2 & CSM5FZ3R\\_P & CD\\\\\n",
       "\t3 & CSM5YRY7\\_P & CD\\\\\n",
       "\t4 & CSM5FZ3V\\_P & CD\\\\\n",
       "\t5 & CSM5FZ4C\\_P & CD\\\\\n",
       "\t6 & CSM5MCVD\\_P & CD\\\\\n",
       "\\end{tabular}\n"
      ],
      "text/markdown": [
       "\n",
       "A data.frame: 6 × 2\n",
       "\n",
       "| <!--/--> | External.ID &lt;chr&gt; | diagnosis &lt;chr&gt; |\n",
       "|---|---|---|\n",
       "| 1 | CSM5FZ3N_P | CD |\n",
       "| 2 | CSM5FZ3R_P | CD |\n",
       "| 3 | CSM5YRY7_P | CD |\n",
       "| 4 | CSM5FZ3V_P | CD |\n",
       "| 5 | CSM5FZ4C_P | CD |\n",
       "| 6 | CSM5MCVD_P | CD |\n",
       "\n"
      ],
      "text/plain": [
       "  External.ID diagnosis\n",
       "1 CSM5FZ3N_P  CD       \n",
       "2 CSM5FZ3R_P  CD       \n",
       "3 CSM5YRY7_P  CD       \n",
       "4 CSM5FZ3V_P  CD       \n",
       "5 CSM5FZ4C_P  CD       \n",
       "6 CSM5MCVD_P  CD       "
      ]
     },
     "metadata": {},
     "output_type": "display_data"
    }
   ],
   "source": [
    "#head(metagenomics_metadata)\n",
    "metagenomics_metadata <- read.csv(file = '../Data/Metagenomics_metadata.csv', sep = ',', header = TRUE)\n",
    "metagenomics_metadata_subset <- subset(metagenomics_metadata, select= c(External.ID, diagnosis))\n",
    "head(metagenomics_metadata_subset)"
   ]
  },
  {
   "cell_type": "code",
   "execution_count": 6,
   "metadata": {
    "vscode": {
     "languageId": "r"
    }
   },
   "outputs": [],
   "source": [
    "# Separate CD, UC and nonIBD\n",
    "cd <- metagenomics_metadata_subset[metagenomics_metadata_subset$diagnosis==\"CD\",]\n",
    "uc <- metagenomics_metadata_subset[metagenomics_metadata_subset$diagnosis==\"UC\",]\n",
    "nonIBD <- metagenomics_metadata_subset[metagenomics_metadata_subset$diagnosis==\"nonIBD\",]"
   ]
  },
  {
   "cell_type": "code",
   "execution_count": 7,
   "metadata": {
    "vscode": {
     "languageId": "r"
    }
   },
   "outputs": [],
   "source": [
    "# select metagenomics data from CD, UC and nonIBD\n",
    "metagenomics_cd <- subset(metagenomics_Ecoli, select= c(\"Gene.Family\", cd$External.ID))\n",
    "metagenomics_uc <- subset(metagenomics_Ecoli, select= c(\"Gene.Family\", uc$External.ID))\n",
    "metagenomics_nonIBD <- subset(metagenomics_Ecoli, select= c(\"Gene.Family\", nonIBD$External.ID))"
   ]
  },
  {
   "cell_type": "code",
   "execution_count": 8,
   "metadata": {
    "vscode": {
     "languageId": "r"
    }
   },
   "outputs": [],
   "source": [
    "# Compute statistical significance (using t-test)\n",
    "pvalue_cd = NULL # Empty list for the p-values\n",
    "tstat_cd = NULL # Empty list of the t test statistics\n",
    "\n",
    "for(i in 1 : nrow(metagenomics_Ecoli)) { # For each gene : \n",
    "\tx = metagenomics_nonIBD[i,-1] # control of gene number i\n",
    "\ty = metagenomics_cd[i,-1] # CD of gene number i\n",
    "\t\n",
    "\t# Compute t-test between the two conditions\n",
    "\tt = t.test(x, y)\n",
    "\t\n",
    "\t# Put the current p-value in the pvalues list\n",
    "\tpvalue_cd[i] = t$p.value\n",
    "\t# Put the current t-statistic in the tstats list\n",
    "\ttstat_cd[i] = t$statistic\n",
    "}"
   ]
  },
  {
   "cell_type": "code",
   "execution_count": 45,
   "metadata": {
    "vscode": {
     "languageId": "r"
    }
   },
   "outputs": [],
   "source": [
    "# Compute statistical significance (using t-test)\n",
    "subset_NA = NULL\n",
    "\n",
    "for(i in 1 : nrow(metagenomics_Ecoli)) { # For each gene : \n",
    "\n",
    "\tx = metagenomics_nonIBD[i,-1] # Control of gene number i\n",
    "\ty = metagenomics_uc[i,-1] # UC of gene number i\n",
    "\n",
    "\tmetagenomics_nonIBD_NA = all(is.na(x)) || length(is.na(x)==FALSE)<2\n",
    "\tmetagenomics_uc_NA = all(is.na(y)) || length(is.na(y)==FALSE)<2\n",
    "\tsubset_NA[i] = metagenomics_nonIBD_NA || metagenomics_uc_NA\n",
    "\t\n",
    "}\n",
    "metagenomics_uc_nonNA <- metagenomics_uc[!subset_NA,]\n",
    "metagenomics_nonIBD_nonNA <- metagenomics_nonIBD[!subset_NA,]"
   ]
  },
  {
   "cell_type": "code",
   "execution_count": 56,
   "metadata": {
    "vscode": {
     "languageId": "r"
    }
   },
   "outputs": [
    {
     "data": {
      "text/html": [
       "<table class=\"dataframe\">\n",
       "<caption>A data.frame: 6 × 429</caption>\n",
       "<thead>\n",
       "\t<tr><th></th><th scope=col>CSM67UH7</th><th scope=col>CSM79HGR_P</th><th scope=col>CSM79HGV_P</th><th scope=col>CSM79HGX</th><th scope=col>CSM79HGZ</th><th scope=col>CSM79HOV</th><th scope=col>CSM79HOX</th><th scope=col>CSM79HOZ</th><th scope=col>CSM79HP2</th><th scope=col>CSM79HP4</th><th scope=col>...</th><th scope=col>PSM7J15O</th><th scope=col>PSM7J15Q</th><th scope=col>PSM7J15S</th><th scope=col>PSM7J15U</th><th scope=col>PSMA265D</th><th scope=col>PSMA265F</th><th scope=col>PSMA265L</th><th scope=col>PSMA265J</th><th scope=col>PSMA265J_TR</th><th scope=col>PSMA265H</th></tr>\n",
       "\t<tr><th></th><th scope=col>&lt;dbl&gt;</th><th scope=col>&lt;dbl&gt;</th><th scope=col>&lt;dbl&gt;</th><th scope=col>&lt;dbl&gt;</th><th scope=col>&lt;dbl&gt;</th><th scope=col>&lt;dbl&gt;</th><th scope=col>&lt;dbl&gt;</th><th scope=col>&lt;dbl&gt;</th><th scope=col>&lt;dbl&gt;</th><th scope=col>&lt;dbl&gt;</th><th scope=col>...</th><th scope=col>&lt;dbl&gt;</th><th scope=col>&lt;dbl&gt;</th><th scope=col>&lt;dbl&gt;</th><th scope=col>&lt;dbl&gt;</th><th scope=col>&lt;dbl&gt;</th><th scope=col>&lt;dbl&gt;</th><th scope=col>&lt;dbl&gt;</th><th scope=col>&lt;dbl&gt;</th><th scope=col>&lt;dbl&gt;</th><th scope=col>&lt;dbl&gt;</th></tr>\n",
       "</thead>\n",
       "<tbody>\n",
       "\t<tr><th scope=row>72</th><td>0.00000e+00</td><td>0</td><td>0</td><td>0</td><td>0</td><td>0</td><td>0</td><td>0</td><td>0</td><td>0</td><td>...</td><td>8.49766e-06</td><td>6.38756e-05</td><td>9.93303e-05</td><td>6.21903e-06</td><td>6.01953e-06</td><td>5.31100e-06</td><td>9.83266e-06</td><td>0</td><td>0</td><td>4.58077e-06</td></tr>\n",
       "\t<tr><th scope=row>209</th><td>9.56723e-07</td><td>0</td><td>0</td><td>0</td><td>0</td><td>0</td><td>0</td><td>0</td><td>0</td><td>0</td><td>...</td><td>0.00000e+00</td><td>5.84134e-05</td><td>4.75249e-05</td><td>2.91376e-06</td><td>9.37089e-06</td><td>8.32464e-06</td><td>3.33269e-06</td><td>0</td><td>0</td><td>1.31750e-06</td></tr>\n",
       "\t<tr><th scope=row>250</th><td>0.00000e+00</td><td>0</td><td>0</td><td>0</td><td>0</td><td>0</td><td>0</td><td>0</td><td>0</td><td>0</td><td>...</td><td>0.00000e+00</td><td>0.00000e+00</td><td>0.00000e+00</td><td>0.00000e+00</td><td>9.84184e-06</td><td>0.00000e+00</td><td>1.20764e-06</td><td>0</td><td>0</td><td>0.00000e+00</td></tr>\n",
       "\t<tr><th scope=row>288</th><td>0.00000e+00</td><td>0</td><td>0</td><td>0</td><td>0</td><td>0</td><td>0</td><td>0</td><td>0</td><td>0</td><td>...</td><td>2.21955e-06</td><td>8.23359e-05</td><td>6.23181e-05</td><td>5.44864e-06</td><td>8.31676e-06</td><td>5.42947e-06</td><td>4.03108e-06</td><td>0</td><td>0</td><td>9.10054e-07</td></tr>\n",
       "\t<tr><th scope=row>306</th><td>0.00000e+00</td><td>0</td><td>0</td><td>0</td><td>0</td><td>0</td><td>0</td><td>0</td><td>0</td><td>0</td><td>...</td><td>1.13029e-06</td><td>5.14381e-05</td><td>6.66647e-05</td><td>2.00626e-06</td><td>2.90075e-06</td><td>3.01273e-06</td><td>7.23129e-06</td><td>0</td><td>0</td><td>3.96959e-06</td></tr>\n",
       "\t<tr><th scope=row>356</th><td>0.00000e+00</td><td>0</td><td>0</td><td>0</td><td>0</td><td>0</td><td>0</td><td>0</td><td>0</td><td>0</td><td>...</td><td>5.70374e-06</td><td>2.64899e-06</td><td>4.82797e-05</td><td>7.67681e-06</td><td>1.45357e-06</td><td>0.00000e+00</td><td>2.42753e-06</td><td>0</td><td>0</td><td>6.09955e-06</td></tr>\n",
       "</tbody>\n",
       "</table>\n"
      ],
      "text/latex": [
       "A data.frame: 6 × 429\n",
       "\\begin{tabular}{r|lllllllllllllllllllll}\n",
       "  & CSM67UH7 & CSM79HGR\\_P & CSM79HGV\\_P & CSM79HGX & CSM79HGZ & CSM79HOV & CSM79HOX & CSM79HOZ & CSM79HP2 & CSM79HP4 & ... & PSM7J15O & PSM7J15Q & PSM7J15S & PSM7J15U & PSMA265D & PSMA265F & PSMA265L & PSMA265J & PSMA265J\\_TR & PSMA265H\\\\\n",
       "  & <dbl> & <dbl> & <dbl> & <dbl> & <dbl> & <dbl> & <dbl> & <dbl> & <dbl> & <dbl> & ... & <dbl> & <dbl> & <dbl> & <dbl> & <dbl> & <dbl> & <dbl> & <dbl> & <dbl> & <dbl>\\\\\n",
       "\\hline\n",
       "\t72 & 0.00000e+00 & 0 & 0 & 0 & 0 & 0 & 0 & 0 & 0 & 0 & ... & 8.49766e-06 & 6.38756e-05 & 9.93303e-05 & 6.21903e-06 & 6.01953e-06 & 5.31100e-06 & 9.83266e-06 & 0 & 0 & 4.58077e-06\\\\\n",
       "\t209 & 9.56723e-07 & 0 & 0 & 0 & 0 & 0 & 0 & 0 & 0 & 0 & ... & 0.00000e+00 & 5.84134e-05 & 4.75249e-05 & 2.91376e-06 & 9.37089e-06 & 8.32464e-06 & 3.33269e-06 & 0 & 0 & 1.31750e-06\\\\\n",
       "\t250 & 0.00000e+00 & 0 & 0 & 0 & 0 & 0 & 0 & 0 & 0 & 0 & ... & 0.00000e+00 & 0.00000e+00 & 0.00000e+00 & 0.00000e+00 & 9.84184e-06 & 0.00000e+00 & 1.20764e-06 & 0 & 0 & 0.00000e+00\\\\\n",
       "\t288 & 0.00000e+00 & 0 & 0 & 0 & 0 & 0 & 0 & 0 & 0 & 0 & ... & 2.21955e-06 & 8.23359e-05 & 6.23181e-05 & 5.44864e-06 & 8.31676e-06 & 5.42947e-06 & 4.03108e-06 & 0 & 0 & 9.10054e-07\\\\\n",
       "\t306 & 0.00000e+00 & 0 & 0 & 0 & 0 & 0 & 0 & 0 & 0 & 0 & ... & 1.13029e-06 & 5.14381e-05 & 6.66647e-05 & 2.00626e-06 & 2.90075e-06 & 3.01273e-06 & 7.23129e-06 & 0 & 0 & 3.96959e-06\\\\\n",
       "\t356 & 0.00000e+00 & 0 & 0 & 0 & 0 & 0 & 0 & 0 & 0 & 0 & ... & 5.70374e-06 & 2.64899e-06 & 4.82797e-05 & 7.67681e-06 & 1.45357e-06 & 0.00000e+00 & 2.42753e-06 & 0 & 0 & 6.09955e-06\\\\\n",
       "\\end{tabular}\n"
      ],
      "text/markdown": [
       "\n",
       "A data.frame: 6 × 429\n",
       "\n",
       "| <!--/--> | CSM67UH7 &lt;dbl&gt; | CSM79HGR_P &lt;dbl&gt; | CSM79HGV_P &lt;dbl&gt; | CSM79HGX &lt;dbl&gt; | CSM79HGZ &lt;dbl&gt; | CSM79HOV &lt;dbl&gt; | CSM79HOX &lt;dbl&gt; | CSM79HOZ &lt;dbl&gt; | CSM79HP2 &lt;dbl&gt; | CSM79HP4 &lt;dbl&gt; | ... ... | PSM7J15O &lt;dbl&gt; | PSM7J15Q &lt;dbl&gt; | PSM7J15S &lt;dbl&gt; | PSM7J15U &lt;dbl&gt; | PSMA265D &lt;dbl&gt; | PSMA265F &lt;dbl&gt; | PSMA265L &lt;dbl&gt; | PSMA265J &lt;dbl&gt; | PSMA265J_TR &lt;dbl&gt; | PSMA265H &lt;dbl&gt; |\n",
       "|---|---|---|---|---|---|---|---|---|---|---|---|---|---|---|---|---|---|---|---|---|---|\n",
       "| 72 | 0.00000e+00 | 0 | 0 | 0 | 0 | 0 | 0 | 0 | 0 | 0 | ... | 8.49766e-06 | 6.38756e-05 | 9.93303e-05 | 6.21903e-06 | 6.01953e-06 | 5.31100e-06 | 9.83266e-06 | 0 | 0 | 4.58077e-06 |\n",
       "| 209 | 9.56723e-07 | 0 | 0 | 0 | 0 | 0 | 0 | 0 | 0 | 0 | ... | 0.00000e+00 | 5.84134e-05 | 4.75249e-05 | 2.91376e-06 | 9.37089e-06 | 8.32464e-06 | 3.33269e-06 | 0 | 0 | 1.31750e-06 |\n",
       "| 250 | 0.00000e+00 | 0 | 0 | 0 | 0 | 0 | 0 | 0 | 0 | 0 | ... | 0.00000e+00 | 0.00000e+00 | 0.00000e+00 | 0.00000e+00 | 9.84184e-06 | 0.00000e+00 | 1.20764e-06 | 0 | 0 | 0.00000e+00 |\n",
       "| 288 | 0.00000e+00 | 0 | 0 | 0 | 0 | 0 | 0 | 0 | 0 | 0 | ... | 2.21955e-06 | 8.23359e-05 | 6.23181e-05 | 5.44864e-06 | 8.31676e-06 | 5.42947e-06 | 4.03108e-06 | 0 | 0 | 9.10054e-07 |\n",
       "| 306 | 0.00000e+00 | 0 | 0 | 0 | 0 | 0 | 0 | 0 | 0 | 0 | ... | 1.13029e-06 | 5.14381e-05 | 6.66647e-05 | 2.00626e-06 | 2.90075e-06 | 3.01273e-06 | 7.23129e-06 | 0 | 0 | 3.96959e-06 |\n",
       "| 356 | 0.00000e+00 | 0 | 0 | 0 | 0 | 0 | 0 | 0 | 0 | 0 | ... | 5.70374e-06 | 2.64899e-06 | 4.82797e-05 | 7.67681e-06 | 1.45357e-06 | 0.00000e+00 | 2.42753e-06 | 0 | 0 | 6.09955e-06 |\n",
       "\n"
      ],
      "text/plain": [
       "    CSM67UH7    CSM79HGR_P CSM79HGV_P CSM79HGX CSM79HGZ CSM79HOV CSM79HOX\n",
       "72  0.00000e+00 0          0          0        0        0        0       \n",
       "209 9.56723e-07 0          0          0        0        0        0       \n",
       "250 0.00000e+00 0          0          0        0        0        0       \n",
       "288 0.00000e+00 0          0          0        0        0        0       \n",
       "306 0.00000e+00 0          0          0        0        0        0       \n",
       "356 0.00000e+00 0          0          0        0        0        0       \n",
       "    CSM79HOZ CSM79HP2 CSM79HP4 ... PSM7J15O    PSM7J15Q    PSM7J15S   \n",
       "72  0        0        0        ... 8.49766e-06 6.38756e-05 9.93303e-05\n",
       "209 0        0        0        ... 0.00000e+00 5.84134e-05 4.75249e-05\n",
       "250 0        0        0        ... 0.00000e+00 0.00000e+00 0.00000e+00\n",
       "288 0        0        0        ... 2.21955e-06 8.23359e-05 6.23181e-05\n",
       "306 0        0        0        ... 1.13029e-06 5.14381e-05 6.66647e-05\n",
       "356 0        0        0        ... 5.70374e-06 2.64899e-06 4.82797e-05\n",
       "    PSM7J15U    PSMA265D    PSMA265F    PSMA265L    PSMA265J PSMA265J_TR\n",
       "72  6.21903e-06 6.01953e-06 5.31100e-06 9.83266e-06 0        0          \n",
       "209 2.91376e-06 9.37089e-06 8.32464e-06 3.33269e-06 0        0          \n",
       "250 0.00000e+00 9.84184e-06 0.00000e+00 1.20764e-06 0        0          \n",
       "288 5.44864e-06 8.31676e-06 5.42947e-06 4.03108e-06 0        0          \n",
       "306 2.00626e-06 2.90075e-06 3.01273e-06 7.23129e-06 0        0          \n",
       "356 7.67681e-06 1.45357e-06 0.00000e+00 2.42753e-06 0        0          \n",
       "    PSMA265H   \n",
       "72  4.58077e-06\n",
       "209 1.31750e-06\n",
       "250 0.00000e+00\n",
       "288 9.10054e-07\n",
       "306 3.96959e-06\n",
       "356 6.09955e-06"
      ]
     },
     "metadata": {},
     "output_type": "display_data"
    },
    {
     "name": "stderr",
     "output_type": "stream",
     "text": [
      "Warning message in mean.default(y):\n",
      "\"argument is not numeric or logical: returning NA\"\n"
     ]
    },
    {
     "ename": "ERROR",
     "evalue": "Error in if (stderr < 10 * .Machine$double.eps * max(abs(mx), abs(my))) stop(\"data are essentially constant\"): missing value where TRUE/FALSE needed\n",
     "output_type": "error",
     "traceback": [
      "Error in if (stderr < 10 * .Machine$double.eps * max(abs(mx), abs(my))) stop(\"data are essentially constant\"): missing value where TRUE/FALSE needed\nTraceback:\n",
      "1. t.test(x, y)",
      "2. t.test.default(x, y)"
     ]
    }
   ],
   "source": [
    "# Compute statistical significance (using t-test)\n",
    "head(metagenomics_nonIBD_nonNA[,-1])\n",
    "pvalue_uc = NULL # Empty list for the p-values\n",
    "tstat_uc = NULL # Empty list of the t test statistics\n",
    "\n",
    "for(i in 1 : nrow(metagenomics_nonIBD_nonNA)) { # For each gene : \n",
    "\tx = metagenomics_nonIBD_nonNA[i,-1] # control of gene number i\n",
    "\ty = metagenomics_uc_nonNA[i,-1] # UC of gene number i\n",
    "\t\n",
    "\t\n",
    "\t# Compute t-test between the two conditions\n",
    "\tt = t.test(x, y)\n",
    "\t\n",
    "\t# Put the current p-value in the pvalues list\n",
    "\tpvalue_uc[i] = t$p.value\n",
    "\t# Put the current t-statistic in the tstats list\n",
    "\ttstat_uc[i] = t$statistic\n",
    "}\n",
    "pvalue_uc"
   ]
  },
  {
   "cell_type": "code",
   "execution_count": 60,
   "metadata": {
    "vscode": {
     "languageId": "r"
    }
   },
   "outputs": [],
   "source": [
    "#metagenomics_Ecoli$pvalue_cd <- pvalue_cd\n",
    "#metagenomics_Ecoli$pvalue_uc <- pvalue_uc\n",
    "cd_genes <- subset(metagenomics_Ecoli[metagenomics_Ecoli$pvalue_cd<=0.05,], select=\"Gene.Family\")\n",
    "uc_genes <- metagenomics_Ecoli[metagenomics_Ecoli$pvalue_uc<=0.05,]\n"
   ]
  },
  {
   "cell_type": "code",
   "execution_count": 64,
   "metadata": {
    "vscode": {
     "languageId": "r"
    }
   },
   "outputs": [
    {
     "data": {
      "text/html": [
       "<table class=\"dataframe\">\n",
       "<caption>A data.frame: 6 × 1</caption>\n",
       "<thead>\n",
       "\t<tr><th></th><th scope=col>Gene.Family</th></tr>\n",
       "\t<tr><th></th><th scope=col>&lt;chr&gt;</th></tr>\n",
       "</thead>\n",
       "<tbody>\n",
       "\t<tr><th scope=row>72</th><td>1.1.1.100</td></tr>\n",
       "\t<tr><th scope=row>209</th><td>1.1.1.103</td></tr>\n",
       "\t<tr><th scope=row>288</th><td>1.1.1.127</td></tr>\n",
       "\t<tr><th scope=row>306</th><td>1.1.1.130</td></tr>\n",
       "\t<tr><th scope=row>356</th><td>1.1.1.133</td></tr>\n",
       "\t<tr><th scope=row>407</th><td>1.1.1.140</td></tr>\n",
       "</tbody>\n",
       "</table>\n"
      ],
      "text/latex": [
       "A data.frame: 6 × 1\n",
       "\\begin{tabular}{r|l}\n",
       "  & Gene.Family\\\\\n",
       "  & <chr>\\\\\n",
       "\\hline\n",
       "\t72 & 1.1.1.100\\\\\n",
       "\t209 & 1.1.1.103\\\\\n",
       "\t288 & 1.1.1.127\\\\\n",
       "\t306 & 1.1.1.130\\\\\n",
       "\t356 & 1.1.1.133\\\\\n",
       "\t407 & 1.1.1.140\\\\\n",
       "\\end{tabular}\n"
      ],
      "text/markdown": [
       "\n",
       "A data.frame: 6 × 1\n",
       "\n",
       "| <!--/--> | Gene.Family &lt;chr&gt; |\n",
       "|---|---|\n",
       "| 72 | 1.1.1.100 |\n",
       "| 209 | 1.1.1.103 |\n",
       "| 288 | 1.1.1.127 |\n",
       "| 306 | 1.1.1.130 |\n",
       "| 356 | 1.1.1.133 |\n",
       "| 407 | 1.1.1.140 |\n",
       "\n"
      ],
      "text/plain": [
       "    Gene.Family\n",
       "72  1.1.1.100  \n",
       "209 1.1.1.103  \n",
       "288 1.1.1.127  \n",
       "306 1.1.1.130  \n",
       "356 1.1.1.133  \n",
       "407 1.1.1.140  "
      ]
     },
     "metadata": {},
     "output_type": "display_data"
    }
   ],
   "source": [
    "head(cd_genes)"
   ]
  },
  {
   "cell_type": "markdown",
   "metadata": {},
   "source": [
    "## KEGG pathway over-representation analysis\n",
    "\n",
    "Codes for KEGG organisms can be found here (https://www.genome.jp/kegg/catalog/org_list.html)"
   ]
  },
  {
   "cell_type": "code",
   "execution_count": 65,
   "metadata": {
    "vscode": {
     "languageId": "r"
    }
   },
   "outputs": [
    {
     "name": "stderr",
     "output_type": "stream",
     "text": [
      "'select()' returned 1:many mapping between keys and columns\n",
      "\n",
      "Warning message in clusterProfiler::bitr(cd_genes$Gene.Family, fromType = \"ENZYME\", :\n",
      "\"37.15% of input gene IDs are fail to map...\"\n"
     ]
    }
   ],
   "source": [
    "# Convert EC numbers to Entrez IDs\n",
    "gene <- clusterProfiler::bitr(cd_genes$Gene.Family, fromType = \"ENZYME\", toType = \"ENTREZID\", OrgDb = org.EcK12.eg.db)\n",
    "\n",
    "# Convert Entrez IDs to KEGG IDs\n",
    "geneList <- sub(\"^\", \"ncbi-geneid:\", gene[,2])\n",
    "geneList <- keggConv(\"eco\", geneList)"
   ]
  },
  {
   "cell_type": "code",
   "execution_count": 66,
   "metadata": {
    "vscode": {
     "languageId": "r"
    }
   },
   "outputs": [
    {
     "name": "stderr",
     "output_type": "stream",
     "text": [
      "Reading KEGG annotation online:\n",
      "\n",
      "\n",
      "Reading KEGG annotation online:\n",
      "\n",
      "\n"
     ]
    },
    {
     "data": {
      "text/html": [
       "<table class=\"dataframe\">\n",
       "<caption>A data.frame: 6 × 9</caption>\n",
       "<thead>\n",
       "\t<tr><th></th><th scope=col>ID</th><th scope=col>Description</th><th scope=col>GeneRatio</th><th scope=col>BgRatio</th><th scope=col>pvalue</th><th scope=col>p.adjust</th><th scope=col>qvalue</th><th scope=col>geneID</th><th scope=col>Count</th></tr>\n",
       "\t<tr><th></th><th scope=col>&lt;chr&gt;</th><th scope=col>&lt;chr&gt;</th><th scope=col>&lt;chr&gt;</th><th scope=col>&lt;chr&gt;</th><th scope=col>&lt;dbl&gt;</th><th scope=col>&lt;dbl&gt;</th><th scope=col>&lt;dbl&gt;</th><th scope=col>&lt;chr&gt;</th><th scope=col>&lt;int&gt;</th></tr>\n",
       "</thead>\n",
       "<tbody>\n",
       "\t<tr><th scope=row>eco01110</th><td>eco01110</td><td>Biosynthesis of secondary metabolites       </td><td>253/754</td><td>339/1722</td><td>7.637723e-38</td><td>6.339310e-36</td><td>2.492310e-36</td><td>b1093/b2040/b0425/b0356/b1241/b1478/b3589/b2508/b2020/b3281/b0173/b1692/b3236/b0002/b3940/b1136/b2029/b1852/b1033/b0073/b3774/b3608/b2913/b2979/b0124/b2241/b2242/b2243/b3426/b2210/b1732/b3942/b3433/b1779/b3958/b0243/b1210/b0596/b1288/b2436/b3867/b3213/b3212/b0386/b0116/b3368/b3803/b0261/b3829/b2232/b2905/b0134/b2551/b1849/b2500/b0273/b4254/b2465/b2935/b0008/b2464/b0078/b3671/b3670/b3769/b0077/b2264/b0115/b1090/b3059/b4041/b3845/b2342/b2818/b3607/b1092/b4013/b3018/b0727/b2224/b2844/b0074/b4014/b2976/b1896/b3429/b3416/b2312/b2019/b4384/b0238/b0125/b0421/b0908/b0174/b2414/b3939/b0754/b1704/b2601/b3805/b2942/b3930/b1662/b3359/b0928/b2290/b3770/b0907/b4054/b3572/b2021/b4042/b1723/b3916/b4268/b3437/b1208/b2388/b0514/b3124/b0003/b1676/b1854/b0394/b0388/b3390/b0242/b2926/b4024/b3959/b0474/b2518/b1207/b2039/b3789/b3430/b0175/b1409/b2752/b2751/b0594/b2747/b1236/b2042/b2585/b0767/b3821/b3925/b4232/b1897/b3385/b2533/b4388/b2744/b0480/b1927/b3571/b0403/b1197/b3519/b1617/b3957/b1767/b2957/b1277/b3918/b0131/b1493/b3517/b0693/b2965/b2838/b3403/b4160/b2097/b2925/b0870/b4015/b1263/b1264/b2262/b4039/b3041/b1693/b2261/b2779/b1393/b3846/b2341/b1261/b1260/b0369/b1611/b1612/b4122/b0072/b0071/b0118/b0771/b1276/b2041/b3788/b3804/b3771/b0004/b3389/b2329/b2263/b1814/b2797/b4471/b3117/b3772/b3960/b1131/b1622/b3008/b2746/b0475/b3809/b1780/b3386/b0756/b2024/b3919/b2914/b4090/b1613/b4025/b2889/b0688/b2048/b0154/b0593/b2265/b0523/b2400/b4069/b2260/b0728/b0729/b3744/b0133/b2476/b2499/b4005/b3256/b0522/b3172/b0674/b0185/b2316</td><td>253</td></tr>\n",
       "\t<tr><th scope=row>eco01230</th><td>eco01230</td><td>Biosynthesis of amino acids                 </td><td>103/754</td><td>117/1722</td><td>6.268310e-25</td><td>2.601349e-23</td><td>1.022724e-23</td><td>b2020/b3281/b0002/b3940/b1136/b0073/b3774/b2913/b3433/b1779/b3958/b0243/b3213/b3212/b0386/b3829/b2551/b0273/b4254/b2465/b2935/b0008/b2464/b0078/b3671/b3670/b3769/b0077/b0166/b2818/b3607/b4013/b0074/b2019/b0908/b2414/b2421/b3939/b0754/b1704/b2601/b2942/b3359/b0928/b2290/b3770/b0907/b4054/b2021/b1723/b3916/b0003/b1676/b1854/b0388/b3390/b0242/b2926/b4024/b3959/b1207/b4388/b0159/b3957/b2472/b2838/b2097/b2925/b0870/b1263/b1264/b1693/b2779/b1261/b1260/b0072/b0071/b0118/b0771/b1276/b3771/b0004/b3389/b2329/b1814/b2797/b4471/b3117/b3772/b3960/b2687/b1622/b3008/b3809/b3386/b2024/b3919/b2914/b4090/b3744/b3870/b3172/b0674                                                                                                                                                                                                                                                                                                                                                                                                                                                                                                                                                                                                                                                                                                                                                                                                                                                                                                                                    </td><td>103</td></tr>\n",
       "\t<tr><th scope=row>eco01120</th><td>eco01120</td><td>Microbial metabolism in diverse environments</td><td>181/754</td><td>268/1722</td><td>1.317302e-17</td><td>3.644535e-16</td><td>1.432855e-16</td><td>b0356/b1241/b1478/b3589/b1380/b2133/b3236/b0002/b3940/b1136/b2029/b1852/b2799/b1033/b2913/b2979/b2210/b2994/b0972/b0973/b2997/b0348/b2539/b2538/b0284/b0285/b2866/b2867/b2542/b0351/b3433/b1779/b2661/b1444/b1415/b3892/b3894/b3893/b4079/b1385/b1210/b3213/b3212/b1761/b3941/b0578/b4070/b1225/b1224/b1227/b1468/b1465/b1467/b2206/b2763/b2764/b0116/b2762/b3368/b3803/b2551/b2465/b2935/b0008/b2464/b0166/b0115/b3845/b2342/b3607/b0903/b3114/b0727/b2224/b2844/b4014/b2976/b2414/b3805/b3359/b1302/b2662/b0907/b3073/b1723/b3916/b4268/b3437/b3355/b2750/b2388/b0514/b3124/b0003/b1676/b1854/b3526/b2803/b3904/b2167/b4195/b4194/b2296/b0521/b0323/b2874/b2926/b4024/b1207/b2752/b2751/b2521/b2222/b2221/b0767/b3830/b0355/b2154/b1002/b3925/b4232/b4388/b2472/b1970/b0512/b0968/b1493/b3517/b2838/b3403/b3581/b4196/b2097/b2925/b2800/b3902/b0870/b4015/b0352/b2779/b1851/b1393/b1394/b3846/b2341/b0369/b1611/b1612/b4122/b0118/b0771/b1276/b4478/b3804/b0350/b0004/b0963/b3809/b1780/b3386/b4197/b0756/b0061/b3583/b4198/b3903/b3919/b2802/b2914/b4090/b4025/b0688/b0154/b2400/b4069/b0728/b0729/b3870/b3256/b0185/b2316                                                                                                                                                                                                                                                                                                                                                                                                                                                </td><td>181</td></tr>\n",
       "\t<tr><th scope=row>eco01200</th><td>eco01200</td><td>Carbon metabolism                           </td><td>82/754 </td><td>110/1722</td><td>1.351434e-11</td><td>2.804226e-10</td><td>1.102486e-10</td><td>b0356/b3236/b1479/b1136/b2029/b1852/b2913/b2210/b1732/b1779/b3892/b3894/b3893/b4079/b3941/b0116/b2905/b2551/b2465/b2935/b0008/b2464/b0115/b3607/b0727/b2224/b2844/b4014/b2976/b2414/b0907/b1723/b3916/b4268/b3437/b3355/b2388/b1676/b1854/b3526/b2296/b0521/b0323/b2874/b2926/b1207/b0767/b0355/b2154/b3925/b4232/b4388/b3403/b2097/b2925/b4015/b2779/b1851/b3846/b2341/b1611/b1612/b4122/b0118/b0771/b1276/b1814/b2797/b4471/b3117/b3772/b3386/b3919/b2914/b4090/b4025/b4069/b0728/b0729/b3256/b0185/b2316                                                                                                                                                                                                                                                                                                                                                                                                                                                                                                                                                                                                                                                                                                                                                                                                                                                                                                                                                                                                                                                                  </td><td> 82</td></tr>\n",
       "\t<tr><th scope=row>eco01240</th><td>eco01240</td><td>Biosynthesis of cofactors                   </td><td>96/754 </td><td>140/1722</td><td>6.063165e-10</td><td>1.006485e-08</td><td>3.957013e-09</td><td>b1093/b0425/b2028/b0052/b2320/b1210/b2927/b1288/b2436/b3867/b2574/b0048/b0116/b3368/b3803/b2232/b0134/b2551/b4245/b2264/b2323/b0776/b3642/b0109/b1991/b3177/b1270/b2459/b3993/b3805/b2942/b0750/b3930/b1662/b3770/b0907/b0774/b1812/b3360/b2564/b1993/b2615/b0103/b3974/b1636/b2418/b2103/b2104/b0417/b0171/b0474/b2518/b0142/b0639/b3634/b4386/b1236/b2042/b1992/b0775/b2530/b0628/b0638/b1617/b1768/b1062/b2153/b1277/b0131/b1281/b3058/b2262/b1096/b4039/b3041/b2261/b0369/b3804/b2263/b1131/b0475/b1613/b0154/b2265/b2400/b2260/b1740/b0133/b2688/b2947/b1593/b0778/b2780/b4177/b0033/b0032                                                                                                                                                                                                                                                                                                                                                                                                                                                                                                                                                                                                                                                                                                                                                                                                                                                                                                                                                                              </td><td> 96</td></tr>\n",
       "\t<tr><th scope=row>eco01210</th><td>eco01210</td><td>2-Oxocarboxylic acid metabolism             </td><td>25/754 </td><td>26/1722 </td><td>1.313247e-08</td><td>1.816658e-07</td><td>7.142218e-08</td><td>b1136/b0073/b3774/b3433/b3958/b0078/b3671/b3670/b3769/b0077/b2818/b0074/b3359/b0928/b2290/b3770/b4024/b3959/b3957/b0072/b0071/b0118/b0771/b1276/b3771                                                                                                                                                                                                                                                                                                                                                                                                                                                                                                                                                                                                                                                                                                                                                                                                                                                                                                                                                                                                                                                                                                                                                                                                                                                                                                                                                                                                                        </td><td> 25</td></tr>\n",
       "</tbody>\n",
       "</table>\n"
      ],
      "text/latex": [
       "A data.frame: 6 × 9\n",
       "\\begin{tabular}{r|lllllllll}\n",
       "  & ID & Description & GeneRatio & BgRatio & pvalue & p.adjust & qvalue & geneID & Count\\\\\n",
       "  & <chr> & <chr> & <chr> & <chr> & <dbl> & <dbl> & <dbl> & <chr> & <int>\\\\\n",
       "\\hline\n",
       "\teco01110 & eco01110 & Biosynthesis of secondary metabolites        & 253/754 & 339/1722 & 7.637723e-38 & 6.339310e-36 & 2.492310e-36 & b1093/b2040/b0425/b0356/b1241/b1478/b3589/b2508/b2020/b3281/b0173/b1692/b3236/b0002/b3940/b1136/b2029/b1852/b1033/b0073/b3774/b3608/b2913/b2979/b0124/b2241/b2242/b2243/b3426/b2210/b1732/b3942/b3433/b1779/b3958/b0243/b1210/b0596/b1288/b2436/b3867/b3213/b3212/b0386/b0116/b3368/b3803/b0261/b3829/b2232/b2905/b0134/b2551/b1849/b2500/b0273/b4254/b2465/b2935/b0008/b2464/b0078/b3671/b3670/b3769/b0077/b2264/b0115/b1090/b3059/b4041/b3845/b2342/b2818/b3607/b1092/b4013/b3018/b0727/b2224/b2844/b0074/b4014/b2976/b1896/b3429/b3416/b2312/b2019/b4384/b0238/b0125/b0421/b0908/b0174/b2414/b3939/b0754/b1704/b2601/b3805/b2942/b3930/b1662/b3359/b0928/b2290/b3770/b0907/b4054/b3572/b2021/b4042/b1723/b3916/b4268/b3437/b1208/b2388/b0514/b3124/b0003/b1676/b1854/b0394/b0388/b3390/b0242/b2926/b4024/b3959/b0474/b2518/b1207/b2039/b3789/b3430/b0175/b1409/b2752/b2751/b0594/b2747/b1236/b2042/b2585/b0767/b3821/b3925/b4232/b1897/b3385/b2533/b4388/b2744/b0480/b1927/b3571/b0403/b1197/b3519/b1617/b3957/b1767/b2957/b1277/b3918/b0131/b1493/b3517/b0693/b2965/b2838/b3403/b4160/b2097/b2925/b0870/b4015/b1263/b1264/b2262/b4039/b3041/b1693/b2261/b2779/b1393/b3846/b2341/b1261/b1260/b0369/b1611/b1612/b4122/b0072/b0071/b0118/b0771/b1276/b2041/b3788/b3804/b3771/b0004/b3389/b2329/b2263/b1814/b2797/b4471/b3117/b3772/b3960/b1131/b1622/b3008/b2746/b0475/b3809/b1780/b3386/b0756/b2024/b3919/b2914/b4090/b1613/b4025/b2889/b0688/b2048/b0154/b0593/b2265/b0523/b2400/b4069/b2260/b0728/b0729/b3744/b0133/b2476/b2499/b4005/b3256/b0522/b3172/b0674/b0185/b2316 & 253\\\\\n",
       "\teco01230 & eco01230 & Biosynthesis of amino acids                  & 103/754 & 117/1722 & 6.268310e-25 & 2.601349e-23 & 1.022724e-23 & b2020/b3281/b0002/b3940/b1136/b0073/b3774/b2913/b3433/b1779/b3958/b0243/b3213/b3212/b0386/b3829/b2551/b0273/b4254/b2465/b2935/b0008/b2464/b0078/b3671/b3670/b3769/b0077/b0166/b2818/b3607/b4013/b0074/b2019/b0908/b2414/b2421/b3939/b0754/b1704/b2601/b2942/b3359/b0928/b2290/b3770/b0907/b4054/b2021/b1723/b3916/b0003/b1676/b1854/b0388/b3390/b0242/b2926/b4024/b3959/b1207/b4388/b0159/b3957/b2472/b2838/b2097/b2925/b0870/b1263/b1264/b1693/b2779/b1261/b1260/b0072/b0071/b0118/b0771/b1276/b3771/b0004/b3389/b2329/b1814/b2797/b4471/b3117/b3772/b3960/b2687/b1622/b3008/b3809/b3386/b2024/b3919/b2914/b4090/b3744/b3870/b3172/b0674                                                                                                                                                                                                                                                                                                                                                                                                                                                                                                                                                                                                                                                                                                                                                                                                                                                                                                                                     & 103\\\\\n",
       "\teco01120 & eco01120 & Microbial metabolism in diverse environments & 181/754 & 268/1722 & 1.317302e-17 & 3.644535e-16 & 1.432855e-16 & b0356/b1241/b1478/b3589/b1380/b2133/b3236/b0002/b3940/b1136/b2029/b1852/b2799/b1033/b2913/b2979/b2210/b2994/b0972/b0973/b2997/b0348/b2539/b2538/b0284/b0285/b2866/b2867/b2542/b0351/b3433/b1779/b2661/b1444/b1415/b3892/b3894/b3893/b4079/b1385/b1210/b3213/b3212/b1761/b3941/b0578/b4070/b1225/b1224/b1227/b1468/b1465/b1467/b2206/b2763/b2764/b0116/b2762/b3368/b3803/b2551/b2465/b2935/b0008/b2464/b0166/b0115/b3845/b2342/b3607/b0903/b3114/b0727/b2224/b2844/b4014/b2976/b2414/b3805/b3359/b1302/b2662/b0907/b3073/b1723/b3916/b4268/b3437/b3355/b2750/b2388/b0514/b3124/b0003/b1676/b1854/b3526/b2803/b3904/b2167/b4195/b4194/b2296/b0521/b0323/b2874/b2926/b4024/b1207/b2752/b2751/b2521/b2222/b2221/b0767/b3830/b0355/b2154/b1002/b3925/b4232/b4388/b2472/b1970/b0512/b0968/b1493/b3517/b2838/b3403/b3581/b4196/b2097/b2925/b2800/b3902/b0870/b4015/b0352/b2779/b1851/b1393/b1394/b3846/b2341/b0369/b1611/b1612/b4122/b0118/b0771/b1276/b4478/b3804/b0350/b0004/b0963/b3809/b1780/b3386/b4197/b0756/b0061/b3583/b4198/b3903/b3919/b2802/b2914/b4090/b4025/b0688/b0154/b2400/b4069/b0728/b0729/b3870/b3256/b0185/b2316                                                                                                                                                                                                                                                                                                                                                                                                                                                 & 181\\\\\n",
       "\teco01200 & eco01200 & Carbon metabolism                            & 82/754  & 110/1722 & 1.351434e-11 & 2.804226e-10 & 1.102486e-10 & b0356/b3236/b1479/b1136/b2029/b1852/b2913/b2210/b1732/b1779/b3892/b3894/b3893/b4079/b3941/b0116/b2905/b2551/b2465/b2935/b0008/b2464/b0115/b3607/b0727/b2224/b2844/b4014/b2976/b2414/b0907/b1723/b3916/b4268/b3437/b3355/b2388/b1676/b1854/b3526/b2296/b0521/b0323/b2874/b2926/b1207/b0767/b0355/b2154/b3925/b4232/b4388/b3403/b2097/b2925/b4015/b2779/b1851/b3846/b2341/b1611/b1612/b4122/b0118/b0771/b1276/b1814/b2797/b4471/b3117/b3772/b3386/b3919/b2914/b4090/b4025/b4069/b0728/b0729/b3256/b0185/b2316                                                                                                                                                                                                                                                                                                                                                                                                                                                                                                                                                                                                                                                                                                                                                                                                                                                                                                                                                                                                                                                                   &  82\\\\\n",
       "\teco01240 & eco01240 & Biosynthesis of cofactors                    & 96/754  & 140/1722 & 6.063165e-10 & 1.006485e-08 & 3.957013e-09 & b1093/b0425/b2028/b0052/b2320/b1210/b2927/b1288/b2436/b3867/b2574/b0048/b0116/b3368/b3803/b2232/b0134/b2551/b4245/b2264/b2323/b0776/b3642/b0109/b1991/b3177/b1270/b2459/b3993/b3805/b2942/b0750/b3930/b1662/b3770/b0907/b0774/b1812/b3360/b2564/b1993/b2615/b0103/b3974/b1636/b2418/b2103/b2104/b0417/b0171/b0474/b2518/b0142/b0639/b3634/b4386/b1236/b2042/b1992/b0775/b2530/b0628/b0638/b1617/b1768/b1062/b2153/b1277/b0131/b1281/b3058/b2262/b1096/b4039/b3041/b2261/b0369/b3804/b2263/b1131/b0475/b1613/b0154/b2265/b2400/b2260/b1740/b0133/b2688/b2947/b1593/b0778/b2780/b4177/b0033/b0032                                                                                                                                                                                                                                                                                                                                                                                                                                                                                                                                                                                                                                                                                                                                                                                                                                                                                                                                                                               &  96\\\\\n",
       "\teco01210 & eco01210 & 2-Oxocarboxylic acid metabolism              & 25/754  & 26/1722  & 1.313247e-08 & 1.816658e-07 & 7.142218e-08 & b1136/b0073/b3774/b3433/b3958/b0078/b3671/b3670/b3769/b0077/b2818/b0074/b3359/b0928/b2290/b3770/b4024/b3959/b3957/b0072/b0071/b0118/b0771/b1276/b3771                                                                                                                                                                                                                                                                                                                                                                                                                                                                                                                                                                                                                                                                                                                                                                                                                                                                                                                                                                                                                                                                                                                                                                                                                                                                                                                                                                                                                         &  25\\\\\n",
       "\\end{tabular}\n"
      ],
      "text/markdown": [
       "\n",
       "A data.frame: 6 × 9\n",
       "\n",
       "| <!--/--> | ID &lt;chr&gt; | Description &lt;chr&gt; | GeneRatio &lt;chr&gt; | BgRatio &lt;chr&gt; | pvalue &lt;dbl&gt; | p.adjust &lt;dbl&gt; | qvalue &lt;dbl&gt; | geneID &lt;chr&gt; | Count &lt;int&gt; |\n",
       "|---|---|---|---|---|---|---|---|---|---|\n",
       "| eco01110 | eco01110 | Biosynthesis of secondary metabolites        | 253/754 | 339/1722 | 7.637723e-38 | 6.339310e-36 | 2.492310e-36 | b1093/b2040/b0425/b0356/b1241/b1478/b3589/b2508/b2020/b3281/b0173/b1692/b3236/b0002/b3940/b1136/b2029/b1852/b1033/b0073/b3774/b3608/b2913/b2979/b0124/b2241/b2242/b2243/b3426/b2210/b1732/b3942/b3433/b1779/b3958/b0243/b1210/b0596/b1288/b2436/b3867/b3213/b3212/b0386/b0116/b3368/b3803/b0261/b3829/b2232/b2905/b0134/b2551/b1849/b2500/b0273/b4254/b2465/b2935/b0008/b2464/b0078/b3671/b3670/b3769/b0077/b2264/b0115/b1090/b3059/b4041/b3845/b2342/b2818/b3607/b1092/b4013/b3018/b0727/b2224/b2844/b0074/b4014/b2976/b1896/b3429/b3416/b2312/b2019/b4384/b0238/b0125/b0421/b0908/b0174/b2414/b3939/b0754/b1704/b2601/b3805/b2942/b3930/b1662/b3359/b0928/b2290/b3770/b0907/b4054/b3572/b2021/b4042/b1723/b3916/b4268/b3437/b1208/b2388/b0514/b3124/b0003/b1676/b1854/b0394/b0388/b3390/b0242/b2926/b4024/b3959/b0474/b2518/b1207/b2039/b3789/b3430/b0175/b1409/b2752/b2751/b0594/b2747/b1236/b2042/b2585/b0767/b3821/b3925/b4232/b1897/b3385/b2533/b4388/b2744/b0480/b1927/b3571/b0403/b1197/b3519/b1617/b3957/b1767/b2957/b1277/b3918/b0131/b1493/b3517/b0693/b2965/b2838/b3403/b4160/b2097/b2925/b0870/b4015/b1263/b1264/b2262/b4039/b3041/b1693/b2261/b2779/b1393/b3846/b2341/b1261/b1260/b0369/b1611/b1612/b4122/b0072/b0071/b0118/b0771/b1276/b2041/b3788/b3804/b3771/b0004/b3389/b2329/b2263/b1814/b2797/b4471/b3117/b3772/b3960/b1131/b1622/b3008/b2746/b0475/b3809/b1780/b3386/b0756/b2024/b3919/b2914/b4090/b1613/b4025/b2889/b0688/b2048/b0154/b0593/b2265/b0523/b2400/b4069/b2260/b0728/b0729/b3744/b0133/b2476/b2499/b4005/b3256/b0522/b3172/b0674/b0185/b2316 | 253 |\n",
       "| eco01230 | eco01230 | Biosynthesis of amino acids                  | 103/754 | 117/1722 | 6.268310e-25 | 2.601349e-23 | 1.022724e-23 | b2020/b3281/b0002/b3940/b1136/b0073/b3774/b2913/b3433/b1779/b3958/b0243/b3213/b3212/b0386/b3829/b2551/b0273/b4254/b2465/b2935/b0008/b2464/b0078/b3671/b3670/b3769/b0077/b0166/b2818/b3607/b4013/b0074/b2019/b0908/b2414/b2421/b3939/b0754/b1704/b2601/b2942/b3359/b0928/b2290/b3770/b0907/b4054/b2021/b1723/b3916/b0003/b1676/b1854/b0388/b3390/b0242/b2926/b4024/b3959/b1207/b4388/b0159/b3957/b2472/b2838/b2097/b2925/b0870/b1263/b1264/b1693/b2779/b1261/b1260/b0072/b0071/b0118/b0771/b1276/b3771/b0004/b3389/b2329/b1814/b2797/b4471/b3117/b3772/b3960/b2687/b1622/b3008/b3809/b3386/b2024/b3919/b2914/b4090/b3744/b3870/b3172/b0674                                                                                                                                                                                                                                                                                                                                                                                                                                                                                                                                                                                                                                                                                                                                                                                                                                                                                                                                     | 103 |\n",
       "| eco01120 | eco01120 | Microbial metabolism in diverse environments | 181/754 | 268/1722 | 1.317302e-17 | 3.644535e-16 | 1.432855e-16 | b0356/b1241/b1478/b3589/b1380/b2133/b3236/b0002/b3940/b1136/b2029/b1852/b2799/b1033/b2913/b2979/b2210/b2994/b0972/b0973/b2997/b0348/b2539/b2538/b0284/b0285/b2866/b2867/b2542/b0351/b3433/b1779/b2661/b1444/b1415/b3892/b3894/b3893/b4079/b1385/b1210/b3213/b3212/b1761/b3941/b0578/b4070/b1225/b1224/b1227/b1468/b1465/b1467/b2206/b2763/b2764/b0116/b2762/b3368/b3803/b2551/b2465/b2935/b0008/b2464/b0166/b0115/b3845/b2342/b3607/b0903/b3114/b0727/b2224/b2844/b4014/b2976/b2414/b3805/b3359/b1302/b2662/b0907/b3073/b1723/b3916/b4268/b3437/b3355/b2750/b2388/b0514/b3124/b0003/b1676/b1854/b3526/b2803/b3904/b2167/b4195/b4194/b2296/b0521/b0323/b2874/b2926/b4024/b1207/b2752/b2751/b2521/b2222/b2221/b0767/b3830/b0355/b2154/b1002/b3925/b4232/b4388/b2472/b1970/b0512/b0968/b1493/b3517/b2838/b3403/b3581/b4196/b2097/b2925/b2800/b3902/b0870/b4015/b0352/b2779/b1851/b1393/b1394/b3846/b2341/b0369/b1611/b1612/b4122/b0118/b0771/b1276/b4478/b3804/b0350/b0004/b0963/b3809/b1780/b3386/b4197/b0756/b0061/b3583/b4198/b3903/b3919/b2802/b2914/b4090/b4025/b0688/b0154/b2400/b4069/b0728/b0729/b3870/b3256/b0185/b2316                                                                                                                                                                                                                                                                                                                                                                                                                                                 | 181 |\n",
       "| eco01200 | eco01200 | Carbon metabolism                            | 82/754  | 110/1722 | 1.351434e-11 | 2.804226e-10 | 1.102486e-10 | b0356/b3236/b1479/b1136/b2029/b1852/b2913/b2210/b1732/b1779/b3892/b3894/b3893/b4079/b3941/b0116/b2905/b2551/b2465/b2935/b0008/b2464/b0115/b3607/b0727/b2224/b2844/b4014/b2976/b2414/b0907/b1723/b3916/b4268/b3437/b3355/b2388/b1676/b1854/b3526/b2296/b0521/b0323/b2874/b2926/b1207/b0767/b0355/b2154/b3925/b4232/b4388/b3403/b2097/b2925/b4015/b2779/b1851/b3846/b2341/b1611/b1612/b4122/b0118/b0771/b1276/b1814/b2797/b4471/b3117/b3772/b3386/b3919/b2914/b4090/b4025/b4069/b0728/b0729/b3256/b0185/b2316                                                                                                                                                                                                                                                                                                                                                                                                                                                                                                                                                                                                                                                                                                                                                                                                                                                                                                                                                                                                                                                                   |  82 |\n",
       "| eco01240 | eco01240 | Biosynthesis of cofactors                    | 96/754  | 140/1722 | 6.063165e-10 | 1.006485e-08 | 3.957013e-09 | b1093/b0425/b2028/b0052/b2320/b1210/b2927/b1288/b2436/b3867/b2574/b0048/b0116/b3368/b3803/b2232/b0134/b2551/b4245/b2264/b2323/b0776/b3642/b0109/b1991/b3177/b1270/b2459/b3993/b3805/b2942/b0750/b3930/b1662/b3770/b0907/b0774/b1812/b3360/b2564/b1993/b2615/b0103/b3974/b1636/b2418/b2103/b2104/b0417/b0171/b0474/b2518/b0142/b0639/b3634/b4386/b1236/b2042/b1992/b0775/b2530/b0628/b0638/b1617/b1768/b1062/b2153/b1277/b0131/b1281/b3058/b2262/b1096/b4039/b3041/b2261/b0369/b3804/b2263/b1131/b0475/b1613/b0154/b2265/b2400/b2260/b1740/b0133/b2688/b2947/b1593/b0778/b2780/b4177/b0033/b0032                                                                                                                                                                                                                                                                                                                                                                                                                                                                                                                                                                                                                                                                                                                                                                                                                                                                                                                                                                               |  96 |\n",
       "| eco01210 | eco01210 | 2-Oxocarboxylic acid metabolism              | 25/754  | 26/1722  | 1.313247e-08 | 1.816658e-07 | 7.142218e-08 | b1136/b0073/b3774/b3433/b3958/b0078/b3671/b3670/b3769/b0077/b2818/b0074/b3359/b0928/b2290/b3770/b4024/b3959/b3957/b0072/b0071/b0118/b0771/b1276/b3771                                                                                                                                                                                                                                                                                                                                                                                                                                                                                                                                                                                                                                                                                                                                                                                                                                                                                                                                                                                                                                                                                                                                                                                                                                                                                                                                                                                                                         |  25 |\n",
       "\n"
      ],
      "text/plain": [
       "         ID       Description                                  GeneRatio\n",
       "eco01110 eco01110 Biosynthesis of secondary metabolites        253/754  \n",
       "eco01230 eco01230 Biosynthesis of amino acids                  103/754  \n",
       "eco01120 eco01120 Microbial metabolism in diverse environments 181/754  \n",
       "eco01200 eco01200 Carbon metabolism                            82/754   \n",
       "eco01240 eco01240 Biosynthesis of cofactors                    96/754   \n",
       "eco01210 eco01210 2-Oxocarboxylic acid metabolism              25/754   \n",
       "         BgRatio  pvalue       p.adjust     qvalue      \n",
       "eco01110 339/1722 7.637723e-38 6.339310e-36 2.492310e-36\n",
       "eco01230 117/1722 6.268310e-25 2.601349e-23 1.022724e-23\n",
       "eco01120 268/1722 1.317302e-17 3.644535e-16 1.432855e-16\n",
       "eco01200 110/1722 1.351434e-11 2.804226e-10 1.102486e-10\n",
       "eco01240 140/1722 6.063165e-10 1.006485e-08 3.957013e-09\n",
       "eco01210 26/1722  1.313247e-08 1.816658e-07 7.142218e-08\n",
       "         geneID                                                                                                                                                                                                                                                                                                                                                                                                                                                                                                                                                                                                                                                                                                                                                                                                                                                                                                                                                                                                                                                                                                                                                                                                                                                                                                                                                                                                                                                                                                                                                                       \n",
       "eco01110 b1093/b2040/b0425/b0356/b1241/b1478/b3589/b2508/b2020/b3281/b0173/b1692/b3236/b0002/b3940/b1136/b2029/b1852/b1033/b0073/b3774/b3608/b2913/b2979/b0124/b2241/b2242/b2243/b3426/b2210/b1732/b3942/b3433/b1779/b3958/b0243/b1210/b0596/b1288/b2436/b3867/b3213/b3212/b0386/b0116/b3368/b3803/b0261/b3829/b2232/b2905/b0134/b2551/b1849/b2500/b0273/b4254/b2465/b2935/b0008/b2464/b0078/b3671/b3670/b3769/b0077/b2264/b0115/b1090/b3059/b4041/b3845/b2342/b2818/b3607/b1092/b4013/b3018/b0727/b2224/b2844/b0074/b4014/b2976/b1896/b3429/b3416/b2312/b2019/b4384/b0238/b0125/b0421/b0908/b0174/b2414/b3939/b0754/b1704/b2601/b3805/b2942/b3930/b1662/b3359/b0928/b2290/b3770/b0907/b4054/b3572/b2021/b4042/b1723/b3916/b4268/b3437/b1208/b2388/b0514/b3124/b0003/b1676/b1854/b0394/b0388/b3390/b0242/b2926/b4024/b3959/b0474/b2518/b1207/b2039/b3789/b3430/b0175/b1409/b2752/b2751/b0594/b2747/b1236/b2042/b2585/b0767/b3821/b3925/b4232/b1897/b3385/b2533/b4388/b2744/b0480/b1927/b3571/b0403/b1197/b3519/b1617/b3957/b1767/b2957/b1277/b3918/b0131/b1493/b3517/b0693/b2965/b2838/b3403/b4160/b2097/b2925/b0870/b4015/b1263/b1264/b2262/b4039/b3041/b1693/b2261/b2779/b1393/b3846/b2341/b1261/b1260/b0369/b1611/b1612/b4122/b0072/b0071/b0118/b0771/b1276/b2041/b3788/b3804/b3771/b0004/b3389/b2329/b2263/b1814/b2797/b4471/b3117/b3772/b3960/b1131/b1622/b3008/b2746/b0475/b3809/b1780/b3386/b0756/b2024/b3919/b2914/b4090/b1613/b4025/b2889/b0688/b2048/b0154/b0593/b2265/b0523/b2400/b4069/b2260/b0728/b0729/b3744/b0133/b2476/b2499/b4005/b3256/b0522/b3172/b0674/b0185/b2316\n",
       "eco01230 b2020/b3281/b0002/b3940/b1136/b0073/b3774/b2913/b3433/b1779/b3958/b0243/b3213/b3212/b0386/b3829/b2551/b0273/b4254/b2465/b2935/b0008/b2464/b0078/b3671/b3670/b3769/b0077/b0166/b2818/b3607/b4013/b0074/b2019/b0908/b2414/b2421/b3939/b0754/b1704/b2601/b2942/b3359/b0928/b2290/b3770/b0907/b4054/b2021/b1723/b3916/b0003/b1676/b1854/b0388/b3390/b0242/b2926/b4024/b3959/b1207/b4388/b0159/b3957/b2472/b2838/b2097/b2925/b0870/b1263/b1264/b1693/b2779/b1261/b1260/b0072/b0071/b0118/b0771/b1276/b3771/b0004/b3389/b2329/b1814/b2797/b4471/b3117/b3772/b3960/b2687/b1622/b3008/b3809/b3386/b2024/b3919/b2914/b4090/b3744/b3870/b3172/b0674                                                                                                                                                                                                                                                                                                                                                                                                                                                                                                                                                                                                                                                                                                                                                                                                                                                                                                                                    \n",
       "eco01120 b0356/b1241/b1478/b3589/b1380/b2133/b3236/b0002/b3940/b1136/b2029/b1852/b2799/b1033/b2913/b2979/b2210/b2994/b0972/b0973/b2997/b0348/b2539/b2538/b0284/b0285/b2866/b2867/b2542/b0351/b3433/b1779/b2661/b1444/b1415/b3892/b3894/b3893/b4079/b1385/b1210/b3213/b3212/b1761/b3941/b0578/b4070/b1225/b1224/b1227/b1468/b1465/b1467/b2206/b2763/b2764/b0116/b2762/b3368/b3803/b2551/b2465/b2935/b0008/b2464/b0166/b0115/b3845/b2342/b3607/b0903/b3114/b0727/b2224/b2844/b4014/b2976/b2414/b3805/b3359/b1302/b2662/b0907/b3073/b1723/b3916/b4268/b3437/b3355/b2750/b2388/b0514/b3124/b0003/b1676/b1854/b3526/b2803/b3904/b2167/b4195/b4194/b2296/b0521/b0323/b2874/b2926/b4024/b1207/b2752/b2751/b2521/b2222/b2221/b0767/b3830/b0355/b2154/b1002/b3925/b4232/b4388/b2472/b1970/b0512/b0968/b1493/b3517/b2838/b3403/b3581/b4196/b2097/b2925/b2800/b3902/b0870/b4015/b0352/b2779/b1851/b1393/b1394/b3846/b2341/b0369/b1611/b1612/b4122/b0118/b0771/b1276/b4478/b3804/b0350/b0004/b0963/b3809/b1780/b3386/b4197/b0756/b0061/b3583/b4198/b3903/b3919/b2802/b2914/b4090/b4025/b0688/b0154/b2400/b4069/b0728/b0729/b3870/b3256/b0185/b2316                                                                                                                                                                                                                                                                                                                                                                                                                                                \n",
       "eco01200 b0356/b3236/b1479/b1136/b2029/b1852/b2913/b2210/b1732/b1779/b3892/b3894/b3893/b4079/b3941/b0116/b2905/b2551/b2465/b2935/b0008/b2464/b0115/b3607/b0727/b2224/b2844/b4014/b2976/b2414/b0907/b1723/b3916/b4268/b3437/b3355/b2388/b1676/b1854/b3526/b2296/b0521/b0323/b2874/b2926/b1207/b0767/b0355/b2154/b3925/b4232/b4388/b3403/b2097/b2925/b4015/b2779/b1851/b3846/b2341/b1611/b1612/b4122/b0118/b0771/b1276/b1814/b2797/b4471/b3117/b3772/b3386/b3919/b2914/b4090/b4025/b4069/b0728/b0729/b3256/b0185/b2316                                                                                                                                                                                                                                                                                                                                                                                                                                                                                                                                                                                                                                                                                                                                                                                                                                                                                                                                                                                                                                                                  \n",
       "eco01240 b1093/b0425/b2028/b0052/b2320/b1210/b2927/b1288/b2436/b3867/b2574/b0048/b0116/b3368/b3803/b2232/b0134/b2551/b4245/b2264/b2323/b0776/b3642/b0109/b1991/b3177/b1270/b2459/b3993/b3805/b2942/b0750/b3930/b1662/b3770/b0907/b0774/b1812/b3360/b2564/b1993/b2615/b0103/b3974/b1636/b2418/b2103/b2104/b0417/b0171/b0474/b2518/b0142/b0639/b3634/b4386/b1236/b2042/b1992/b0775/b2530/b0628/b0638/b1617/b1768/b1062/b2153/b1277/b0131/b1281/b3058/b2262/b1096/b4039/b3041/b2261/b0369/b3804/b2263/b1131/b0475/b1613/b0154/b2265/b2400/b2260/b1740/b0133/b2688/b2947/b1593/b0778/b2780/b4177/b0033/b0032                                                                                                                                                                                                                                                                                                                                                                                                                                                                                                                                                                                                                                                                                                                                                                                                                                                                                                                                                                              \n",
       "eco01210 b1136/b0073/b3774/b3433/b3958/b0078/b3671/b3670/b3769/b0077/b2818/b0074/b3359/b0928/b2290/b3770/b4024/b3959/b3957/b0072/b0071/b0118/b0771/b1276/b3771                                                                                                                                                                                                                                                                                                                                                                                                                                                                                                                                                                                                                                                                                                                                                                                                                                                                                                                                                                                                                                                                                                                                                                                                                                                                                                                                                                                                                        \n",
       "         Count\n",
       "eco01110 253  \n",
       "eco01230 103  \n",
       "eco01120 181  \n",
       "eco01200  82  \n",
       "eco01240  96  \n",
       "eco01210  25  "
      ]
     },
     "metadata": {},
     "output_type": "display_data"
    }
   ],
   "source": [
    "# Remove preceding 'eco:'\n",
    "geneList <- gsub(\"eco:\", \"\", geneList)\n",
    "\n",
    "kk <- enrichKEGG(gene         = geneList,\n",
    "                 organism     = 'eco',\n",
    "                 pvalueCutoff = 0.05)\n",
    "head(kk)"
   ]
  }
 ],
 "metadata": {
  "kernelspec": {
   "display_name": "R",
   "language": "R",
   "name": "ir"
  },
  "language_info": {
   "codemirror_mode": "r",
   "file_extension": ".r",
   "mimetype": "text/x-r-source",
   "name": "R",
   "pygments_lexer": "r",
   "version": "4.1.3"
  },
  "orig_nbformat": 4
 },
 "nbformat": 4,
 "nbformat_minor": 2
}
