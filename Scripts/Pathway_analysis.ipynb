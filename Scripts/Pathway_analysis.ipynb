{
 "cells": [
  {
   "cell_type": "markdown",
   "metadata": {},
   "source": [
    "# Pathway analysis of metagenomic data\n"
   ]
  },
  {
   "cell_type": "code",
   "execution_count": null,
   "metadata": {
    "vscode": {
     "languageId": "r"
    }
   },
   "outputs": [],
   "source": [
    "if (!require(\"BiocManager\", quietly = TRUE))\n",
    "    install.packages(\"BiocManager\")\n",
    "\n",
    "BiocManager::install(\"clusterProfiler\")\n",
    "BiocManager::install(\"org.Hs.eg.db\")\n",
    "BiocManager::install(\"org.EcK12.eg.db\")\n",
    "BiocManager::install(\"KEGGREST\")\n",
    "\n",
    "library(clusterProfiler)\n",
    "library(KEGGREST)\n",
    "library(org.Hs.eg.db)\n",
    "library(org.EcK12.eg.db)\n",
    "#keytypes(org.EcK12.eg.db)\n",
    "\n",
    "# Import the metagenomics data\n",
    "metagenomics <- read.csv(file = '../Data/ecs_relab_split.csv', sep = '\\t', header = TRUE)\n",
    "head (metagenomics)"
   ]
  },
  {
   "cell_type": "markdown",
   "metadata": {},
   "source": [
    "## KEGG pathway over-representation analysis"
   ]
  },
  {
   "cell_type": "code",
   "execution_count": null,
   "metadata": {
    "vscode": {
     "languageId": "r"
    }
   },
   "outputs": [],
   "source": [
    "# Convert EC numbers to Entrez IDs\n",
    "gene <- clusterProfiler::bitr(metagenomics$Gene.Family,fromType = \"ENZYME\",toType = \"ENTREZID\",OrgDb = org.EcK12.eg.db)\n",
    "\n",
    "# Convert Entrez IDs to KEGG IDs\n",
    "geneList <- sub(\"^\", \"ncbi-geneid:\", gene[,2])\n",
    "geneList <- keggConv(\"eco\", geneList)"
   ]
  },
  {
   "cell_type": "code",
   "execution_count": null,
   "metadata": {
    "vscode": {
     "languageId": "r"
    }
   },
   "outputs": [],
   "source": [
    "head(geneList)\n",
    "geneList[2]\n",
    "\n",
    "kk <- enrichKEGG(gene         = geneList[,2],\n",
    "                 organism     = 'eco',\n",
    "                 pvalueCutoff = 0.05)\n",
    "head(kk)"
   ]
  },
  {
   "cell_type": "markdown",
   "metadata": {},
   "source": [
    "## KEGG pathway gene set enrichment analysis"
   ]
  },
  {
   "cell_type": "code",
   "execution_count": null,
   "metadata": {
    "vscode": {
     "languageId": "r"
    }
   },
   "outputs": [],
   "source": [
    "geneList <- sort(gene[,2], decreasing = TRUE)\n",
    "\n",
    "kk2 <- gseKEGG(geneList     = geneList,\n",
    "               organism     = 'ece',\n",
    "               minGSSize    = 120,\n",
    "               pvalueCutoff = 0.05,\n",
    "               verbose      = FALSE)\n",
    "head(kk2)"
   ]
  }
 ],
 "metadata": {
  "kernelspec": {
   "display_name": "R",
   "language": "R",
   "name": "ir"
  },
  "language_info": {
   "codemirror_mode": "r",
   "file_extension": ".r",
   "mimetype": "text/x-r-source",
   "name": "R",
   "pygments_lexer": "r",
   "version": "4.1.3"
  },
  "orig_nbformat": 4
 },
 "nbformat": 4,
 "nbformat_minor": 2
}
