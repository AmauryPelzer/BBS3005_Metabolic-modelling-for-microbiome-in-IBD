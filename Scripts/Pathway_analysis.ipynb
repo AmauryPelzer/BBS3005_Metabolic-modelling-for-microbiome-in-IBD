{
 "cells": [
  {
   "cell_type": "markdown",
   "metadata": {},
   "source": [
    "# Pathway analysis of metagenomic data\n",
    "\n",
    "First, install the libraries and import them\n"
   ]
  },
  {
   "cell_type": "code",
   "execution_count": null,
   "metadata": {
    "vscode": {
     "languageId": "r"
    }
   },
   "outputs": [],
   "source": [
    "if (!require(\"BiocManager\", quietly = TRUE))\n",
    "    install.packages(\"BiocManager\")\n",
    "\n",
    "BiocManager::install(\"clusterProfiler\")\n",
    "BiocManager::install(\"org.Hs.eg.db\")\n",
    "BiocManager::install(\"org.EcK12.eg.db\")\n",
    "BiocManager::install(\"KEGGREST\")\n",
    "BiocManager::install(\"limma\")\n",
    "BiocManager::install(\"DESeq2\")"
   ]
  },
  {
   "cell_type": "code",
   "execution_count": null,
   "metadata": {
    "vscode": {
     "languageId": "r"
    }
   },
   "outputs": [],
   "source": [
    "library(clusterProfiler)\n",
    "library(KEGGREST)\n",
    "#library(org.Hs.eg.db)\n",
    "library(org.EcK12.eg.db)\n",
    "library(limma)\n",
    "library(DESeq2)\n",
    "#keytypes(org.EcK12.eg.db)"
   ]
  },
  {
   "cell_type": "code",
   "execution_count": 1,
   "metadata": {
    "vscode": {
     "languageId": "r"
    }
   },
   "outputs": [
    {
     "data": {
      "text/html": [
       "<table class=\"dataframe\">\n",
       "<caption>A data.frame: 6 × 1640</caption>\n",
       "<thead>\n",
       "\t<tr><th></th><th scope=col>Gene.Family</th><th scope=col>Name.Organism</th><th scope=col>CSM5FZ4M</th><th scope=col>CSM5MCUO</th><th scope=col>CSM5MCVL</th><th scope=col>CSM5MCVN</th><th scope=col>CSM5MCW6</th><th scope=col>CSM5MCWC</th><th scope=col>CSM5MCWE</th><th scope=col>CSM5MCWG</th><th scope=col>...</th><th scope=col>CSM5MCVJ_P</th><th scope=col>CSM5MCWI_P</th><th scope=col>MSM5LLHA_P</th><th scope=col>HSM5MD59_P</th><th scope=col>HSM5MD8N_P</th><th scope=col>CSM6J2H9_P</th><th scope=col>HSM5MD4A_P</th><th scope=col>CSM5MCUW_P</th><th scope=col>ESM5MEBA_P</th><th scope=col>HSM5FZC2_P</th></tr>\n",
       "\t<tr><th></th><th scope=col>&lt;chr&gt;</th><th scope=col>&lt;chr&gt;</th><th scope=col>&lt;chr&gt;</th><th scope=col>&lt;dbl&gt;</th><th scope=col>&lt;dbl&gt;</th><th scope=col>&lt;dbl&gt;</th><th scope=col>&lt;dbl&gt;</th><th scope=col>&lt;dbl&gt;</th><th scope=col>&lt;dbl&gt;</th><th scope=col>&lt;dbl&gt;</th><th scope=col>...</th><th scope=col>&lt;dbl&gt;</th><th scope=col>&lt;dbl&gt;</th><th scope=col>&lt;dbl&gt;</th><th scope=col>&lt;dbl&gt;</th><th scope=col>&lt;dbl&gt;</th><th scope=col>&lt;dbl&gt;</th><th scope=col>&lt;dbl&gt;</th><th scope=col>&lt;dbl&gt;</th><th scope=col>&lt;dbl&gt;</th><th scope=col>&lt;dbl&gt;</th></tr>\n",
       "</thead>\n",
       "<tbody>\n",
       "\t<tr><th scope=row>1</th><td>1.1.1.100</td><td> 3-oxoacyl-[acyl-carrier-protein] reductase                                                </td><td>0.00183508</td><td>0.00147242</td><td>0.00157135</td><td>0.00117332</td><td>0.000246863</td><td>0.00238904</td><td>0.000922349</td><td>0.000573488</td><td>...</td><td>0.00172861</td><td>0.00180843</td><td>0.000636998</td><td>0.00190471</td><td>0.00168832</td><td>0.00183791</td><td>0.00191878</td><td>0.00139149</td><td>0.00124719</td><td>0.000429274</td></tr>\n",
       "\t<tr><th scope=row>2</th><td>1.1.1.100</td><td> 3-oxoacyl-[acyl-carrier-protein] reductase|g__Aggregatibacter.s__Aggregatibacter_segnis   </td><td>0         </td><td>0.00000000</td><td>0.00000000</td><td>0.00000000</td><td>0.000000000</td><td>0.00000000</td><td>0.000000000</td><td>0.000000000</td><td>...</td><td>0.00000000</td><td>0.00000000</td><td>0.000000000</td><td>0.00000000</td><td>0.00000000</td><td>0.00000000</td><td>0.00000000</td><td>0.00000000</td><td>0.00000000</td><td>0.000000000</td></tr>\n",
       "\t<tr><th scope=row>3</th><td>1.1.1.100</td><td> 3-oxoacyl-[acyl-carrier-protein] reductase|g__Alloprevotella.s__Alloprevotella_tannerae   </td><td>0         </td><td>0.00000000</td><td>0.00000000</td><td>0.00000000</td><td>0.000000000</td><td>0.00000000</td><td>0.000000000</td><td>0.000000000</td><td>...</td><td>0.00000000</td><td>0.00000000</td><td>0.000000000</td><td>0.00000000</td><td>0.00000000</td><td>0.00000000</td><td>0.00000000</td><td>0.00000000</td><td>0.00000000</td><td>0.000000000</td></tr>\n",
       "\t<tr><th scope=row>4</th><td>1.1.1.100</td><td> 3-oxoacyl-[acyl-carrier-protein] reductase|g__Anaerococcus.s__Anaerococcus_obesiensis     </td><td>0         </td><td>0.00000000</td><td>0.00000000</td><td>0.00000000</td><td>0.000000000</td><td>0.00000000</td><td>0.000000000</td><td>0.000000000</td><td>...</td><td>0.00000000</td><td>0.00000000</td><td>0.000000000</td><td>0.00000000</td><td>0.00000000</td><td>0.00000000</td><td>0.00000000</td><td>0.00000000</td><td>0.00000000</td><td>0.000000000</td></tr>\n",
       "\t<tr><th scope=row>5</th><td>1.1.1.100</td><td> 3-oxoacyl-[acyl-carrier-protein] reductase|g__Anaerococcus.s__Anaerococcus_vaginalis      </td><td>0         </td><td>0.00000000</td><td>0.00000000</td><td>0.00000000</td><td>0.000000000</td><td>0.00000000</td><td>0.000000000</td><td>0.000000000</td><td>...</td><td>0.00000000</td><td>0.00000000</td><td>0.000000000</td><td>0.00000000</td><td>0.00000000</td><td>0.00000000</td><td>0.00000000</td><td>0.00000000</td><td>0.00000000</td><td>0.000000000</td></tr>\n",
       "\t<tr><th scope=row>6</th><td>1.1.1.100</td><td> 3-oxoacyl-[acyl-carrier-protein] reductase|g__Anaerofustis.s__Anaerofustis_stercorihominis</td><td>0         </td><td>0.00000000</td><td>0.00000000</td><td>0.00000000</td><td>0.000000000</td><td>0.00000000</td><td>0.000000000</td><td>0.000000000</td><td>...</td><td>0.00000000</td><td>0.00000000</td><td>0.000000000</td><td>0.00000000</td><td>0.00000000</td><td>0.00000000</td><td>0.00000000</td><td>0.00000000</td><td>0.00000000</td><td>0.000000000</td></tr>\n",
       "</tbody>\n",
       "</table>\n"
      ],
      "text/latex": [
       "A data.frame: 6 × 1640\n",
       "\\begin{tabular}{r|lllllllllllllllllllll}\n",
       "  & Gene.Family & Name.Organism & CSM5FZ4M & CSM5MCUO & CSM5MCVL & CSM5MCVN & CSM5MCW6 & CSM5MCWC & CSM5MCWE & CSM5MCWG & ... & CSM5MCVJ\\_P & CSM5MCWI\\_P & MSM5LLHA\\_P & HSM5MD59\\_P & HSM5MD8N\\_P & CSM6J2H9\\_P & HSM5MD4A\\_P & CSM5MCUW\\_P & ESM5MEBA\\_P & HSM5FZC2\\_P\\\\\n",
       "  & <chr> & <chr> & <chr> & <dbl> & <dbl> & <dbl> & <dbl> & <dbl> & <dbl> & <dbl> & ... & <dbl> & <dbl> & <dbl> & <dbl> & <dbl> & <dbl> & <dbl> & <dbl> & <dbl> & <dbl>\\\\\n",
       "\\hline\n",
       "\t1 & 1.1.1.100 &  3-oxoacyl-{[}acyl-carrier-protein{]} reductase                                                 & 0.00183508 & 0.00147242 & 0.00157135 & 0.00117332 & 0.000246863 & 0.00238904 & 0.000922349 & 0.000573488 & ... & 0.00172861 & 0.00180843 & 0.000636998 & 0.00190471 & 0.00168832 & 0.00183791 & 0.00191878 & 0.00139149 & 0.00124719 & 0.000429274\\\\\n",
       "\t2 & 1.1.1.100 &  3-oxoacyl-{[}acyl-carrier-protein{]} reductase\\textbar{}g\\_\\_Aggregatibacter.s\\_\\_Aggregatibacter\\_segnis    & 0          & 0.00000000 & 0.00000000 & 0.00000000 & 0.000000000 & 0.00000000 & 0.000000000 & 0.000000000 & ... & 0.00000000 & 0.00000000 & 0.000000000 & 0.00000000 & 0.00000000 & 0.00000000 & 0.00000000 & 0.00000000 & 0.00000000 & 0.000000000\\\\\n",
       "\t3 & 1.1.1.100 &  3-oxoacyl-{[}acyl-carrier-protein{]} reductase\\textbar{}g\\_\\_Alloprevotella.s\\_\\_Alloprevotella\\_tannerae    & 0          & 0.00000000 & 0.00000000 & 0.00000000 & 0.000000000 & 0.00000000 & 0.000000000 & 0.000000000 & ... & 0.00000000 & 0.00000000 & 0.000000000 & 0.00000000 & 0.00000000 & 0.00000000 & 0.00000000 & 0.00000000 & 0.00000000 & 0.000000000\\\\\n",
       "\t4 & 1.1.1.100 &  3-oxoacyl-{[}acyl-carrier-protein{]} reductase\\textbar{}g\\_\\_Anaerococcus.s\\_\\_Anaerococcus\\_obesiensis      & 0          & 0.00000000 & 0.00000000 & 0.00000000 & 0.000000000 & 0.00000000 & 0.000000000 & 0.000000000 & ... & 0.00000000 & 0.00000000 & 0.000000000 & 0.00000000 & 0.00000000 & 0.00000000 & 0.00000000 & 0.00000000 & 0.00000000 & 0.000000000\\\\\n",
       "\t5 & 1.1.1.100 &  3-oxoacyl-{[}acyl-carrier-protein{]} reductase\\textbar{}g\\_\\_Anaerococcus.s\\_\\_Anaerococcus\\_vaginalis       & 0          & 0.00000000 & 0.00000000 & 0.00000000 & 0.000000000 & 0.00000000 & 0.000000000 & 0.000000000 & ... & 0.00000000 & 0.00000000 & 0.000000000 & 0.00000000 & 0.00000000 & 0.00000000 & 0.00000000 & 0.00000000 & 0.00000000 & 0.000000000\\\\\n",
       "\t6 & 1.1.1.100 &  3-oxoacyl-{[}acyl-carrier-protein{]} reductase\\textbar{}g\\_\\_Anaerofustis.s\\_\\_Anaerofustis\\_stercorihominis & 0          & 0.00000000 & 0.00000000 & 0.00000000 & 0.000000000 & 0.00000000 & 0.000000000 & 0.000000000 & ... & 0.00000000 & 0.00000000 & 0.000000000 & 0.00000000 & 0.00000000 & 0.00000000 & 0.00000000 & 0.00000000 & 0.00000000 & 0.000000000\\\\\n",
       "\\end{tabular}\n"
      ],
      "text/markdown": [
       "\n",
       "A data.frame: 6 × 1640\n",
       "\n",
       "| <!--/--> | Gene.Family &lt;chr&gt; | Name.Organism &lt;chr&gt; | CSM5FZ4M &lt;chr&gt; | CSM5MCUO &lt;dbl&gt; | CSM5MCVL &lt;dbl&gt; | CSM5MCVN &lt;dbl&gt; | CSM5MCW6 &lt;dbl&gt; | CSM5MCWC &lt;dbl&gt; | CSM5MCWE &lt;dbl&gt; | CSM5MCWG &lt;dbl&gt; | ... ... | CSM5MCVJ_P &lt;dbl&gt; | CSM5MCWI_P &lt;dbl&gt; | MSM5LLHA_P &lt;dbl&gt; | HSM5MD59_P &lt;dbl&gt; | HSM5MD8N_P &lt;dbl&gt; | CSM6J2H9_P &lt;dbl&gt; | HSM5MD4A_P &lt;dbl&gt; | CSM5MCUW_P &lt;dbl&gt; | ESM5MEBA_P &lt;dbl&gt; | HSM5FZC2_P &lt;dbl&gt; |\n",
       "|---|---|---|---|---|---|---|---|---|---|---|---|---|---|---|---|---|---|---|---|---|---|\n",
       "| 1 | 1.1.1.100 |  3-oxoacyl-[acyl-carrier-protein] reductase                                                 | 0.00183508 | 0.00147242 | 0.00157135 | 0.00117332 | 0.000246863 | 0.00238904 | 0.000922349 | 0.000573488 | ... | 0.00172861 | 0.00180843 | 0.000636998 | 0.00190471 | 0.00168832 | 0.00183791 | 0.00191878 | 0.00139149 | 0.00124719 | 0.000429274 |\n",
       "| 2 | 1.1.1.100 |  3-oxoacyl-[acyl-carrier-protein] reductase|g__Aggregatibacter.s__Aggregatibacter_segnis    | 0          | 0.00000000 | 0.00000000 | 0.00000000 | 0.000000000 | 0.00000000 | 0.000000000 | 0.000000000 | ... | 0.00000000 | 0.00000000 | 0.000000000 | 0.00000000 | 0.00000000 | 0.00000000 | 0.00000000 | 0.00000000 | 0.00000000 | 0.000000000 |\n",
       "| 3 | 1.1.1.100 |  3-oxoacyl-[acyl-carrier-protein] reductase|g__Alloprevotella.s__Alloprevotella_tannerae    | 0          | 0.00000000 | 0.00000000 | 0.00000000 | 0.000000000 | 0.00000000 | 0.000000000 | 0.000000000 | ... | 0.00000000 | 0.00000000 | 0.000000000 | 0.00000000 | 0.00000000 | 0.00000000 | 0.00000000 | 0.00000000 | 0.00000000 | 0.000000000 |\n",
       "| 4 | 1.1.1.100 |  3-oxoacyl-[acyl-carrier-protein] reductase|g__Anaerococcus.s__Anaerococcus_obesiensis      | 0          | 0.00000000 | 0.00000000 | 0.00000000 | 0.000000000 | 0.00000000 | 0.000000000 | 0.000000000 | ... | 0.00000000 | 0.00000000 | 0.000000000 | 0.00000000 | 0.00000000 | 0.00000000 | 0.00000000 | 0.00000000 | 0.00000000 | 0.000000000 |\n",
       "| 5 | 1.1.1.100 |  3-oxoacyl-[acyl-carrier-protein] reductase|g__Anaerococcus.s__Anaerococcus_vaginalis       | 0          | 0.00000000 | 0.00000000 | 0.00000000 | 0.000000000 | 0.00000000 | 0.000000000 | 0.000000000 | ... | 0.00000000 | 0.00000000 | 0.000000000 | 0.00000000 | 0.00000000 | 0.00000000 | 0.00000000 | 0.00000000 | 0.00000000 | 0.000000000 |\n",
       "| 6 | 1.1.1.100 |  3-oxoacyl-[acyl-carrier-protein] reductase|g__Anaerofustis.s__Anaerofustis_stercorihominis | 0          | 0.00000000 | 0.00000000 | 0.00000000 | 0.000000000 | 0.00000000 | 0.000000000 | 0.000000000 | ... | 0.00000000 | 0.00000000 | 0.000000000 | 0.00000000 | 0.00000000 | 0.00000000 | 0.00000000 | 0.00000000 | 0.00000000 | 0.000000000 |\n",
       "\n"
      ],
      "text/plain": [
       "  Gene.Family\n",
       "1 1.1.1.100  \n",
       "2 1.1.1.100  \n",
       "3 1.1.1.100  \n",
       "4 1.1.1.100  \n",
       "5 1.1.1.100  \n",
       "6 1.1.1.100  \n",
       "  Name.Organism                                                                              \n",
       "1  3-oxoacyl-[acyl-carrier-protein] reductase                                                \n",
       "2  3-oxoacyl-[acyl-carrier-protein] reductase|g__Aggregatibacter.s__Aggregatibacter_segnis   \n",
       "3  3-oxoacyl-[acyl-carrier-protein] reductase|g__Alloprevotella.s__Alloprevotella_tannerae   \n",
       "4  3-oxoacyl-[acyl-carrier-protein] reductase|g__Anaerococcus.s__Anaerococcus_obesiensis     \n",
       "5  3-oxoacyl-[acyl-carrier-protein] reductase|g__Anaerococcus.s__Anaerococcus_vaginalis      \n",
       "6  3-oxoacyl-[acyl-carrier-protein] reductase|g__Anaerofustis.s__Anaerofustis_stercorihominis\n",
       "  CSM5FZ4M   CSM5MCUO   CSM5MCVL   CSM5MCVN   CSM5MCW6    CSM5MCWC  \n",
       "1 0.00183508 0.00147242 0.00157135 0.00117332 0.000246863 0.00238904\n",
       "2 0          0.00000000 0.00000000 0.00000000 0.000000000 0.00000000\n",
       "3 0          0.00000000 0.00000000 0.00000000 0.000000000 0.00000000\n",
       "4 0          0.00000000 0.00000000 0.00000000 0.000000000 0.00000000\n",
       "5 0          0.00000000 0.00000000 0.00000000 0.000000000 0.00000000\n",
       "6 0          0.00000000 0.00000000 0.00000000 0.000000000 0.00000000\n",
       "  CSM5MCWE    CSM5MCWG    ... CSM5MCVJ_P CSM5MCWI_P MSM5LLHA_P  HSM5MD59_P\n",
       "1 0.000922349 0.000573488 ... 0.00172861 0.00180843 0.000636998 0.00190471\n",
       "2 0.000000000 0.000000000 ... 0.00000000 0.00000000 0.000000000 0.00000000\n",
       "3 0.000000000 0.000000000 ... 0.00000000 0.00000000 0.000000000 0.00000000\n",
       "4 0.000000000 0.000000000 ... 0.00000000 0.00000000 0.000000000 0.00000000\n",
       "5 0.000000000 0.000000000 ... 0.00000000 0.00000000 0.000000000 0.00000000\n",
       "6 0.000000000 0.000000000 ... 0.00000000 0.00000000 0.000000000 0.00000000\n",
       "  HSM5MD8N_P CSM6J2H9_P HSM5MD4A_P CSM5MCUW_P ESM5MEBA_P HSM5FZC2_P \n",
       "1 0.00168832 0.00183791 0.00191878 0.00139149 0.00124719 0.000429274\n",
       "2 0.00000000 0.00000000 0.00000000 0.00000000 0.00000000 0.000000000\n",
       "3 0.00000000 0.00000000 0.00000000 0.00000000 0.00000000 0.000000000\n",
       "4 0.00000000 0.00000000 0.00000000 0.00000000 0.00000000 0.000000000\n",
       "5 0.00000000 0.00000000 0.00000000 0.00000000 0.00000000 0.000000000\n",
       "6 0.00000000 0.00000000 0.00000000 0.00000000 0.00000000 0.000000000"
      ]
     },
     "metadata": {},
     "output_type": "display_data"
    }
   ],
   "source": [
    "# Import the metagenomics data\n",
    "metagenomics <- read.csv(file = '../Data/ecs_relab_split.csv', sep = '\\t', header = TRUE)\n",
    "head(metagenomics)"
   ]
  },
  {
   "cell_type": "code",
   "execution_count": 3,
   "metadata": {
    "vscode": {
     "languageId": "r"
    }
   },
   "outputs": [
    {
     "data": {
      "text/html": [
       "<table class=\"dataframe\">\n",
       "<caption>A data.frame: 6 × 1640</caption>\n",
       "<thead>\n",
       "\t<tr><th></th><th scope=col>Gene.Family</th><th scope=col>Name.Organism</th><th scope=col>CSM5FZ4M</th><th scope=col>CSM5MCUO</th><th scope=col>CSM5MCVL</th><th scope=col>CSM5MCVN</th><th scope=col>CSM5MCW6</th><th scope=col>CSM5MCWC</th><th scope=col>CSM5MCWE</th><th scope=col>CSM5MCWG</th><th scope=col>...</th><th scope=col>CSM5MCVJ_P</th><th scope=col>CSM5MCWI_P</th><th scope=col>MSM5LLHA_P</th><th scope=col>HSM5MD59_P</th><th scope=col>HSM5MD8N_P</th><th scope=col>CSM6J2H9_P</th><th scope=col>HSM5MD4A_P</th><th scope=col>CSM5MCUW_P</th><th scope=col>ESM5MEBA_P</th><th scope=col>HSM5FZC2_P</th></tr>\n",
       "\t<tr><th></th><th scope=col>&lt;chr&gt;</th><th scope=col>&lt;chr&gt;</th><th scope=col>&lt;chr&gt;</th><th scope=col>&lt;dbl&gt;</th><th scope=col>&lt;dbl&gt;</th><th scope=col>&lt;dbl&gt;</th><th scope=col>&lt;dbl&gt;</th><th scope=col>&lt;dbl&gt;</th><th scope=col>&lt;dbl&gt;</th><th scope=col>&lt;dbl&gt;</th><th scope=col>...</th><th scope=col>&lt;dbl&gt;</th><th scope=col>&lt;dbl&gt;</th><th scope=col>&lt;dbl&gt;</th><th scope=col>&lt;dbl&gt;</th><th scope=col>&lt;dbl&gt;</th><th scope=col>&lt;dbl&gt;</th><th scope=col>&lt;dbl&gt;</th><th scope=col>&lt;dbl&gt;</th><th scope=col>&lt;dbl&gt;</th><th scope=col>&lt;dbl&gt;</th></tr>\n",
       "</thead>\n",
       "<tbody>\n",
       "\t<tr><th scope=row>72</th><td>1.1.1.100</td><td> 3-oxoacyl-[acyl-carrier-protein] reductase|g__Escherichia.s__Escherichia_coli   </td><td>4.1268e-06 </td><td>9.91858e-06</td><td>5.74953e-06</td><td>0.0000e+00</td><td>0</td><td>3.55339e-05</td><td>0.000111472</td><td>0.000305886</td><td>...</td><td>2.89118e-05</td><td>2.52982e-05</td><td>5.73950e-05</td><td>3.89813e-06</td><td>0.0000e+00</td><td>0</td><td>4.10781e-06</td><td>2.61897e-04</td><td>0</td><td>4.94513e-06</td></tr>\n",
       "\t<tr><th scope=row>209</th><td>1.1.1.103</td><td> L-threonine 3-dehydrogenase|g__Escherichia.s__Escherichia_coli                  </td><td>4.10204e-06</td><td>5.64941e-06</td><td>7.84576e-06</td><td>0.0000e+00</td><td>0</td><td>7.52441e-05</td><td>0.000275560</td><td>0.000665927</td><td>...</td><td>4.38022e-06</td><td>1.80096e-05</td><td>1.18570e-05</td><td>9.38069e-06</td><td>1.5674e-06</td><td>0</td><td>2.81095e-06</td><td>9.14451e-05</td><td>0</td><td>4.35009e-06</td></tr>\n",
       "\t<tr><th scope=row>250</th><td>1.1.1.11 </td><td> D-arabinitol 4-dehydrogenase|g__Escherichia.s__Escherichia_coli                 </td><td>0          </td><td>0.00000e+00</td><td>0.00000e+00</td><td>0.0000e+00</td><td>0</td><td>0.00000e+00</td><td>0.000000000</td><td>0.000000000</td><td>...</td><td>0.00000e+00</td><td>0.00000e+00</td><td>0.00000e+00</td><td>0.00000e+00</td><td>0.0000e+00</td><td>0</td><td>0.00000e+00</td><td>0.00000e+00</td><td>0</td><td>0.00000e+00</td></tr>\n",
       "\t<tr><th scope=row>288</th><td>1.1.1.127</td><td> 2-dehydro-3-deoxy-D-gluconate 5-dehydrogenase|g__Escherichia.s__Escherichia_coli</td><td>0          </td><td>6.37618e-07</td><td>9.84720e-06</td><td>1.8641e-06</td><td>0</td><td>1.36083e-04</td><td>0.000637147</td><td>0.001320120</td><td>...</td><td>2.43733e-05</td><td>4.50702e-05</td><td>2.57285e-05</td><td>1.16513e-05</td><td>0.0000e+00</td><td>0</td><td>1.88847e-05</td><td>1.64357e-04</td><td>0</td><td>3.02259e-06</td></tr>\n",
       "\t<tr><th scope=row>306</th><td>1.1.1.130</td><td> 3-dehydro-L-gulonate 2-dehydrogenase|g__Escherichia.s__Escherichia_coli         </td><td>1.05122e-06</td><td>4.19287e-06</td><td>9.47301e-06</td><td>2.8743e-06</td><td>0</td><td>7.07101e-05</td><td>0.000361889</td><td>0.000844426</td><td>...</td><td>2.53331e-05</td><td>2.87693e-05</td><td>3.11684e-05</td><td>8.45031e-06</td><td>0.0000e+00</td><td>0</td><td>4.34527e-06</td><td>2.28527e-04</td><td>0</td><td>5.24028e-06</td></tr>\n",
       "\t<tr><th scope=row>356</th><td>1.1.1.133</td><td> dTDP-4-dehydrorhamnose reductase|g__Escherichia.s__Escherichia_coli             </td><td>0          </td><td>0.00000e+00</td><td>0.00000e+00</td><td>0.0000e+00</td><td>0</td><td>3.03047e-05</td><td>0.000133478</td><td>0.000215957</td><td>...</td><td>0.00000e+00</td><td>0.00000e+00</td><td>0.00000e+00</td><td>6.65494e-07</td><td>0.0000e+00</td><td>0</td><td>0.00000e+00</td><td>2.66236e-04</td><td>0</td><td>9.27221e-06</td></tr>\n",
       "</tbody>\n",
       "</table>\n"
      ],
      "text/latex": [
       "A data.frame: 6 × 1640\n",
       "\\begin{tabular}{r|lllllllllllllllllllll}\n",
       "  & Gene.Family & Name.Organism & CSM5FZ4M & CSM5MCUO & CSM5MCVL & CSM5MCVN & CSM5MCW6 & CSM5MCWC & CSM5MCWE & CSM5MCWG & ... & CSM5MCVJ\\_P & CSM5MCWI\\_P & MSM5LLHA\\_P & HSM5MD59\\_P & HSM5MD8N\\_P & CSM6J2H9\\_P & HSM5MD4A\\_P & CSM5MCUW\\_P & ESM5MEBA\\_P & HSM5FZC2\\_P\\\\\n",
       "  & <chr> & <chr> & <chr> & <dbl> & <dbl> & <dbl> & <dbl> & <dbl> & <dbl> & <dbl> & ... & <dbl> & <dbl> & <dbl> & <dbl> & <dbl> & <dbl> & <dbl> & <dbl> & <dbl> & <dbl>\\\\\n",
       "\\hline\n",
       "\t72 & 1.1.1.100 &  3-oxoacyl-{[}acyl-carrier-protein{]} reductase\\textbar{}g\\_\\_Escherichia.s\\_\\_Escherichia\\_coli    & 4.1268e-06  & 9.91858e-06 & 5.74953e-06 & 0.0000e+00 & 0 & 3.55339e-05 & 0.000111472 & 0.000305886 & ... & 2.89118e-05 & 2.52982e-05 & 5.73950e-05 & 3.89813e-06 & 0.0000e+00 & 0 & 4.10781e-06 & 2.61897e-04 & 0 & 4.94513e-06\\\\\n",
       "\t209 & 1.1.1.103 &  L-threonine 3-dehydrogenase\\textbar{}g\\_\\_Escherichia.s\\_\\_Escherichia\\_coli                   & 4.10204e-06 & 5.64941e-06 & 7.84576e-06 & 0.0000e+00 & 0 & 7.52441e-05 & 0.000275560 & 0.000665927 & ... & 4.38022e-06 & 1.80096e-05 & 1.18570e-05 & 9.38069e-06 & 1.5674e-06 & 0 & 2.81095e-06 & 9.14451e-05 & 0 & 4.35009e-06\\\\\n",
       "\t250 & 1.1.1.11  &  D-arabinitol 4-dehydrogenase\\textbar{}g\\_\\_Escherichia.s\\_\\_Escherichia\\_coli                  & 0           & 0.00000e+00 & 0.00000e+00 & 0.0000e+00 & 0 & 0.00000e+00 & 0.000000000 & 0.000000000 & ... & 0.00000e+00 & 0.00000e+00 & 0.00000e+00 & 0.00000e+00 & 0.0000e+00 & 0 & 0.00000e+00 & 0.00000e+00 & 0 & 0.00000e+00\\\\\n",
       "\t288 & 1.1.1.127 &  2-dehydro-3-deoxy-D-gluconate 5-dehydrogenase\\textbar{}g\\_\\_Escherichia.s\\_\\_Escherichia\\_coli & 0           & 6.37618e-07 & 9.84720e-06 & 1.8641e-06 & 0 & 1.36083e-04 & 0.000637147 & 0.001320120 & ... & 2.43733e-05 & 4.50702e-05 & 2.57285e-05 & 1.16513e-05 & 0.0000e+00 & 0 & 1.88847e-05 & 1.64357e-04 & 0 & 3.02259e-06\\\\\n",
       "\t306 & 1.1.1.130 &  3-dehydro-L-gulonate 2-dehydrogenase\\textbar{}g\\_\\_Escherichia.s\\_\\_Escherichia\\_coli          & 1.05122e-06 & 4.19287e-06 & 9.47301e-06 & 2.8743e-06 & 0 & 7.07101e-05 & 0.000361889 & 0.000844426 & ... & 2.53331e-05 & 2.87693e-05 & 3.11684e-05 & 8.45031e-06 & 0.0000e+00 & 0 & 4.34527e-06 & 2.28527e-04 & 0 & 5.24028e-06\\\\\n",
       "\t356 & 1.1.1.133 &  dTDP-4-dehydrorhamnose reductase\\textbar{}g\\_\\_Escherichia.s\\_\\_Escherichia\\_coli              & 0           & 0.00000e+00 & 0.00000e+00 & 0.0000e+00 & 0 & 3.03047e-05 & 0.000133478 & 0.000215957 & ... & 0.00000e+00 & 0.00000e+00 & 0.00000e+00 & 6.65494e-07 & 0.0000e+00 & 0 & 0.00000e+00 & 2.66236e-04 & 0 & 9.27221e-06\\\\\n",
       "\\end{tabular}\n"
      ],
      "text/markdown": [
       "\n",
       "A data.frame: 6 × 1640\n",
       "\n",
       "| <!--/--> | Gene.Family &lt;chr&gt; | Name.Organism &lt;chr&gt; | CSM5FZ4M &lt;chr&gt; | CSM5MCUO &lt;dbl&gt; | CSM5MCVL &lt;dbl&gt; | CSM5MCVN &lt;dbl&gt; | CSM5MCW6 &lt;dbl&gt; | CSM5MCWC &lt;dbl&gt; | CSM5MCWE &lt;dbl&gt; | CSM5MCWG &lt;dbl&gt; | ... ... | CSM5MCVJ_P &lt;dbl&gt; | CSM5MCWI_P &lt;dbl&gt; | MSM5LLHA_P &lt;dbl&gt; | HSM5MD59_P &lt;dbl&gt; | HSM5MD8N_P &lt;dbl&gt; | CSM6J2H9_P &lt;dbl&gt; | HSM5MD4A_P &lt;dbl&gt; | CSM5MCUW_P &lt;dbl&gt; | ESM5MEBA_P &lt;dbl&gt; | HSM5FZC2_P &lt;dbl&gt; |\n",
       "|---|---|---|---|---|---|---|---|---|---|---|---|---|---|---|---|---|---|---|---|---|---|\n",
       "| 72 | 1.1.1.100 |  3-oxoacyl-[acyl-carrier-protein] reductase|g__Escherichia.s__Escherichia_coli    | 4.1268e-06  | 9.91858e-06 | 5.74953e-06 | 0.0000e+00 | 0 | 3.55339e-05 | 0.000111472 | 0.000305886 | ... | 2.89118e-05 | 2.52982e-05 | 5.73950e-05 | 3.89813e-06 | 0.0000e+00 | 0 | 4.10781e-06 | 2.61897e-04 | 0 | 4.94513e-06 |\n",
       "| 209 | 1.1.1.103 |  L-threonine 3-dehydrogenase|g__Escherichia.s__Escherichia_coli                   | 4.10204e-06 | 5.64941e-06 | 7.84576e-06 | 0.0000e+00 | 0 | 7.52441e-05 | 0.000275560 | 0.000665927 | ... | 4.38022e-06 | 1.80096e-05 | 1.18570e-05 | 9.38069e-06 | 1.5674e-06 | 0 | 2.81095e-06 | 9.14451e-05 | 0 | 4.35009e-06 |\n",
       "| 250 | 1.1.1.11  |  D-arabinitol 4-dehydrogenase|g__Escherichia.s__Escherichia_coli                  | 0           | 0.00000e+00 | 0.00000e+00 | 0.0000e+00 | 0 | 0.00000e+00 | 0.000000000 | 0.000000000 | ... | 0.00000e+00 | 0.00000e+00 | 0.00000e+00 | 0.00000e+00 | 0.0000e+00 | 0 | 0.00000e+00 | 0.00000e+00 | 0 | 0.00000e+00 |\n",
       "| 288 | 1.1.1.127 |  2-dehydro-3-deoxy-D-gluconate 5-dehydrogenase|g__Escherichia.s__Escherichia_coli | 0           | 6.37618e-07 | 9.84720e-06 | 1.8641e-06 | 0 | 1.36083e-04 | 0.000637147 | 0.001320120 | ... | 2.43733e-05 | 4.50702e-05 | 2.57285e-05 | 1.16513e-05 | 0.0000e+00 | 0 | 1.88847e-05 | 1.64357e-04 | 0 | 3.02259e-06 |\n",
       "| 306 | 1.1.1.130 |  3-dehydro-L-gulonate 2-dehydrogenase|g__Escherichia.s__Escherichia_coli          | 1.05122e-06 | 4.19287e-06 | 9.47301e-06 | 2.8743e-06 | 0 | 7.07101e-05 | 0.000361889 | 0.000844426 | ... | 2.53331e-05 | 2.87693e-05 | 3.11684e-05 | 8.45031e-06 | 0.0000e+00 | 0 | 4.34527e-06 | 2.28527e-04 | 0 | 5.24028e-06 |\n",
       "| 356 | 1.1.1.133 |  dTDP-4-dehydrorhamnose reductase|g__Escherichia.s__Escherichia_coli              | 0           | 0.00000e+00 | 0.00000e+00 | 0.0000e+00 | 0 | 3.03047e-05 | 0.000133478 | 0.000215957 | ... | 0.00000e+00 | 0.00000e+00 | 0.00000e+00 | 6.65494e-07 | 0.0000e+00 | 0 | 0.00000e+00 | 2.66236e-04 | 0 | 9.27221e-06 |\n",
       "\n"
      ],
      "text/plain": [
       "    Gene.Family\n",
       "72  1.1.1.100  \n",
       "209 1.1.1.103  \n",
       "250 1.1.1.11   \n",
       "288 1.1.1.127  \n",
       "306 1.1.1.130  \n",
       "356 1.1.1.133  \n",
       "    Name.Organism                                                                    \n",
       "72   3-oxoacyl-[acyl-carrier-protein] reductase|g__Escherichia.s__Escherichia_coli   \n",
       "209  L-threonine 3-dehydrogenase|g__Escherichia.s__Escherichia_coli                  \n",
       "250  D-arabinitol 4-dehydrogenase|g__Escherichia.s__Escherichia_coli                 \n",
       "288  2-dehydro-3-deoxy-D-gluconate 5-dehydrogenase|g__Escherichia.s__Escherichia_coli\n",
       "306  3-dehydro-L-gulonate 2-dehydrogenase|g__Escherichia.s__Escherichia_coli         \n",
       "356  dTDP-4-dehydrorhamnose reductase|g__Escherichia.s__Escherichia_coli             \n",
       "    CSM5FZ4M    CSM5MCUO    CSM5MCVL    CSM5MCVN   CSM5MCW6 CSM5MCWC   \n",
       "72  4.1268e-06  9.91858e-06 5.74953e-06 0.0000e+00 0        3.55339e-05\n",
       "209 4.10204e-06 5.64941e-06 7.84576e-06 0.0000e+00 0        7.52441e-05\n",
       "250 0           0.00000e+00 0.00000e+00 0.0000e+00 0        0.00000e+00\n",
       "288 0           6.37618e-07 9.84720e-06 1.8641e-06 0        1.36083e-04\n",
       "306 1.05122e-06 4.19287e-06 9.47301e-06 2.8743e-06 0        7.07101e-05\n",
       "356 0           0.00000e+00 0.00000e+00 0.0000e+00 0        3.03047e-05\n",
       "    CSM5MCWE    CSM5MCWG    ... CSM5MCVJ_P  CSM5MCWI_P  MSM5LLHA_P  HSM5MD59_P \n",
       "72  0.000111472 0.000305886 ... 2.89118e-05 2.52982e-05 5.73950e-05 3.89813e-06\n",
       "209 0.000275560 0.000665927 ... 4.38022e-06 1.80096e-05 1.18570e-05 9.38069e-06\n",
       "250 0.000000000 0.000000000 ... 0.00000e+00 0.00000e+00 0.00000e+00 0.00000e+00\n",
       "288 0.000637147 0.001320120 ... 2.43733e-05 4.50702e-05 2.57285e-05 1.16513e-05\n",
       "306 0.000361889 0.000844426 ... 2.53331e-05 2.87693e-05 3.11684e-05 8.45031e-06\n",
       "356 0.000133478 0.000215957 ... 0.00000e+00 0.00000e+00 0.00000e+00 6.65494e-07\n",
       "    HSM5MD8N_P CSM6J2H9_P HSM5MD4A_P  CSM5MCUW_P  ESM5MEBA_P HSM5FZC2_P \n",
       "72  0.0000e+00 0          4.10781e-06 2.61897e-04 0          4.94513e-06\n",
       "209 1.5674e-06 0          2.81095e-06 9.14451e-05 0          4.35009e-06\n",
       "250 0.0000e+00 0          0.00000e+00 0.00000e+00 0          0.00000e+00\n",
       "288 0.0000e+00 0          1.88847e-05 1.64357e-04 0          3.02259e-06\n",
       "306 0.0000e+00 0          4.34527e-06 2.28527e-04 0          5.24028e-06\n",
       "356 0.0000e+00 0          0.00000e+00 2.66236e-04 0          9.27221e-06"
      ]
     },
     "metadata": {},
     "output_type": "display_data"
    }
   ],
   "source": [
    "# Subset Escherichia coli\n",
    "metagenomics_Ecoli <- metagenomics[grepl(\"Escherichia_coli\", metagenomics$Name.Organism, fixed = TRUE),]\n",
    "head(metagenomics_Ecoli)"
   ]
  },
  {
   "cell_type": "markdown",
   "metadata": {},
   "source": [
    "# Differential gene expression analysis"
   ]
  },
  {
   "cell_type": "code",
   "execution_count": 4,
   "metadata": {
    "vscode": {
     "languageId": "r"
    }
   },
   "outputs": [],
   "source": [
    "# Import metadata file\n",
    "metadata <- read.csv(file = '../Data/hmp2_metadata_2018-08-20.csv', sep = ',', header = TRUE)\n",
    "# Select metagenomics\n",
    "metagenomics_metadata <- metadata[metadata$data_type=='metagenomics',]\n",
    "# Write metagenomics metadata file into csv\n",
    "write.csv(metagenomics_metadata,\"..\\\\Data\\\\Metagenomics_metadata.csv\", row.names = FALSE)"
   ]
  },
  {
   "cell_type": "code",
   "execution_count": 5,
   "metadata": {
    "vscode": {
     "languageId": "r"
    }
   },
   "outputs": [
    {
     "data": {
      "text/html": [
       "<table class=\"dataframe\">\n",
       "<caption>A data.frame: 6 × 3</caption>\n",
       "<thead>\n",
       "\t<tr><th></th><th scope=col>External.ID</th><th scope=col>diagnosis</th><th scope=col>visit_num</th></tr>\n",
       "\t<tr><th></th><th scope=col>&lt;chr&gt;</th><th scope=col>&lt;chr&gt;</th><th scope=col>&lt;int&gt;</th></tr>\n",
       "</thead>\n",
       "<tbody>\n",
       "\t<tr><th scope=row>1</th><td>CSM5FZ3N_P</td><td>CD</td><td>4</td></tr>\n",
       "\t<tr><th scope=row>17</th><td>CSM5FZ3T_P</td><td>CD</td><td>4</td></tr>\n",
       "\t<tr><th scope=row>42</th><td>CSM5FZ4A_P</td><td>UC</td><td>4</td></tr>\n",
       "\t<tr><th scope=row>78</th><td>CSM5MCTZ_P</td><td>UC</td><td>4</td></tr>\n",
       "\t<tr><th scope=row>89</th><td>CSM5MCVB_P</td><td>CD</td><td>4</td></tr>\n",
       "\t<tr><th scope=row>92</th><td>CSM5MCU4_P</td><td>CD</td><td>4</td></tr>\n",
       "</tbody>\n",
       "</table>\n"
      ],
      "text/latex": [
       "A data.frame: 6 × 3\n",
       "\\begin{tabular}{r|lll}\n",
       "  & External.ID & diagnosis & visit\\_num\\\\\n",
       "  & <chr> & <chr> & <int>\\\\\n",
       "\\hline\n",
       "\t1 & CSM5FZ3N\\_P & CD & 4\\\\\n",
       "\t17 & CSM5FZ3T\\_P & CD & 4\\\\\n",
       "\t42 & CSM5FZ4A\\_P & UC & 4\\\\\n",
       "\t78 & CSM5MCTZ\\_P & UC & 4\\\\\n",
       "\t89 & CSM5MCVB\\_P & CD & 4\\\\\n",
       "\t92 & CSM5MCU4\\_P & CD & 4\\\\\n",
       "\\end{tabular}\n"
      ],
      "text/markdown": [
       "\n",
       "A data.frame: 6 × 3\n",
       "\n",
       "| <!--/--> | External.ID &lt;chr&gt; | diagnosis &lt;chr&gt; | visit_num &lt;int&gt; |\n",
       "|---|---|---|---|\n",
       "| 1 | CSM5FZ3N_P | CD | 4 |\n",
       "| 17 | CSM5FZ3T_P | CD | 4 |\n",
       "| 42 | CSM5FZ4A_P | UC | 4 |\n",
       "| 78 | CSM5MCTZ_P | UC | 4 |\n",
       "| 89 | CSM5MCVB_P | CD | 4 |\n",
       "| 92 | CSM5MCU4_P | CD | 4 |\n",
       "\n"
      ],
      "text/plain": [
       "   External.ID diagnosis visit_num\n",
       "1  CSM5FZ3N_P  CD        4        \n",
       "17 CSM5FZ3T_P  CD        4        \n",
       "42 CSM5FZ4A_P  UC        4        \n",
       "78 CSM5MCTZ_P  UC        4        \n",
       "89 CSM5MCVB_P  CD        4        \n",
       "92 CSM5MCU4_P  CD        4        "
      ]
     },
     "metadata": {},
     "output_type": "display_data"
    }
   ],
   "source": [
    "metagenomics_metadata <- read.csv(file = '../Data/Metagenomics_metadata.csv', sep = ',', header = TRUE)\n",
    "metagenomics_metadata_subset <- subset(metagenomics_metadata, select= c(External.ID, diagnosis, visit_num))\n",
    "metagenomics_metadata_subset <- metagenomics_metadata_subset[metagenomics_metadata_subset$visit_num==4,]\n",
    "head(metagenomics_metadata_subset)"
   ]
  },
  {
   "cell_type": "code",
   "execution_count": 6,
   "metadata": {
    "vscode": {
     "languageId": "r"
    }
   },
   "outputs": [],
   "source": [
    "# Separate CD, UC and nonIBD\n",
    "cd <- metagenomics_metadata_subset[metagenomics_metadata_subset$diagnosis==\"CD\",]\n",
    "uc <- metagenomics_metadata_subset[metagenomics_metadata_subset$diagnosis==\"UC\",]\n",
    "nonIBD <- metagenomics_metadata_subset[metagenomics_metadata_subset$diagnosis==\"nonIBD\",]"
   ]
  },
  {
   "cell_type": "code",
   "execution_count": 7,
   "metadata": {
    "vscode": {
     "languageId": "r"
    }
   },
   "outputs": [],
   "source": [
    "# select metagenomics data from CD, UC and nonIBD\n",
    "metagenomics_cd <- subset(metagenomics_Ecoli, select= c(\"Gene.Family\", cd$External.ID))\n",
    "metagenomics_uc <- subset(metagenomics_Ecoli, select= c(\"Gene.Family\", uc$External.ID))\n",
    "metagenomics_nonIBD <- subset(metagenomics_Ecoli, select= c(\"Gene.Family\", nonIBD$External.ID))"
   ]
  },
  {
   "cell_type": "code",
   "execution_count": 8,
   "metadata": {
    "vscode": {
     "languageId": "r"
    }
   },
   "outputs": [
    {
     "data": {
      "text/html": [
       "<table class=\"dataframe\">\n",
       "<caption>A data.frame: 6 × 47</caption>\n",
       "<thead>\n",
       "\t<tr><th></th><th scope=col>Gene.Family</th><th scope=col>CSM5FZ3N_P</th><th scope=col>CSM5FZ3T_P</th><th scope=col>CSM5MCVB_P</th><th scope=col>CSM5MCU4_P</th><th scope=col>CSM5MCWK_P</th><th scope=col>CSM5MCXF_P</th><th scope=col>CSM67U9V_P</th><th scope=col>CSM67U9X_P</th><th scope=col>CSM67UAI_P</th><th scope=col>...</th><th scope=col>MSM9VZLX_P</th><th scope=col>MSM9VZM4_P</th><th scope=col>PSM6XBQM_P</th><th scope=col>PSM6XBRK_P</th><th scope=col>PSM6XBRK</th><th scope=col>PSM6XBRK_TR</th><th scope=col>PSM6XBRM_P</th><th scope=col>PSM6XBVY_P</th><th scope=col>PSM7J1B3_P</th><th scope=col>PSM7J4EF</th></tr>\n",
       "\t<tr><th></th><th scope=col>&lt;chr&gt;</th><th scope=col>&lt;dbl&gt;</th><th scope=col>&lt;dbl&gt;</th><th scope=col>&lt;dbl&gt;</th><th scope=col>&lt;dbl&gt;</th><th scope=col>&lt;dbl&gt;</th><th scope=col>&lt;dbl&gt;</th><th scope=col>&lt;dbl&gt;</th><th scope=col>&lt;dbl&gt;</th><th scope=col>&lt;dbl&gt;</th><th scope=col>...</th><th scope=col>&lt;dbl&gt;</th><th scope=col>&lt;dbl&gt;</th><th scope=col>&lt;dbl&gt;</th><th scope=col>&lt;dbl&gt;</th><th scope=col>&lt;dbl&gt;</th><th scope=col>&lt;dbl&gt;</th><th scope=col>&lt;dbl&gt;</th><th scope=col>&lt;dbl&gt;</th><th scope=col>&lt;dbl&gt;</th><th scope=col>&lt;dbl&gt;</th></tr>\n",
       "</thead>\n",
       "<tbody>\n",
       "\t<tr><th scope=row>72</th><td>1.1.1.100</td><td>0</td><td>0</td><td>2.90917e-04</td><td>0</td><td>0</td><td>1.53931e-05</td><td>1.00766e-05</td><td>4.61144e-06</td><td>0.000209820</td><td>...</td><td>0</td><td>0</td><td>0</td><td>0</td><td>0</td><td>0</td><td>1.34360e-06</td><td>0</td><td>0.000444394</td><td>1.45595e-04</td></tr>\n",
       "\t<tr><th scope=row>209</th><td>1.1.1.103</td><td>0</td><td>0</td><td>1.17246e-04</td><td>0</td><td>0</td><td>1.93987e-06</td><td>4.34007e-06</td><td>2.70102e-06</td><td>0.000318774</td><td>...</td><td>0</td><td>0</td><td>0</td><td>0</td><td>0</td><td>0</td><td>1.00422e-06</td><td>0</td><td>0.000152316</td><td>9.05002e-05</td></tr>\n",
       "\t<tr><th scope=row>250</th><td>1.1.1.11 </td><td>0</td><td>0</td><td>0.00000e+00</td><td>0</td><td>0</td><td>0.00000e+00</td><td>0.00000e+00</td><td>0.00000e+00</td><td>0.000000000</td><td>...</td><td>0</td><td>0</td><td>0</td><td>0</td><td>0</td><td>0</td><td>0.00000e+00</td><td>0</td><td>0.000000000</td><td>0.00000e+00</td></tr>\n",
       "\t<tr><th scope=row>288</th><td>1.1.1.127</td><td>0</td><td>0</td><td>1.98709e-04</td><td>0</td><td>0</td><td>2.17053e-05</td><td>6.29250e-05</td><td>1.90161e-06</td><td>0.000602487</td><td>...</td><td>0</td><td>0</td><td>0</td><td>0</td><td>0</td><td>0</td><td>0.00000e+00</td><td>0</td><td>0.000291561</td><td>8.23561e-05</td></tr>\n",
       "\t<tr><th scope=row>306</th><td>1.1.1.130</td><td>0</td><td>0</td><td>3.40738e-04</td><td>0</td><td>0</td><td>3.59047e-05</td><td>2.12171e-05</td><td>5.60158e-06</td><td>0.000510456</td><td>...</td><td>0</td><td>0</td><td>0</td><td>0</td><td>0</td><td>0</td><td>4.08567e-06</td><td>0</td><td>0.000408950</td><td>7.35535e-05</td></tr>\n",
       "\t<tr><th scope=row>356</th><td>1.1.1.133</td><td>0</td><td>0</td><td>4.10046e-06</td><td>0</td><td>0</td><td>8.99820e-06</td><td>0.00000e+00</td><td>0.00000e+00</td><td>0.000269802</td><td>...</td><td>0</td><td>0</td><td>0</td><td>0</td><td>0</td><td>0</td><td>6.95513e-06</td><td>0</td><td>0.000251756</td><td>1.32574e-04</td></tr>\n",
       "</tbody>\n",
       "</table>\n"
      ],
      "text/latex": [
       "A data.frame: 6 × 47\n",
       "\\begin{tabular}{r|lllllllllllllllllllll}\n",
       "  & Gene.Family & CSM5FZ3N\\_P & CSM5FZ3T\\_P & CSM5MCVB\\_P & CSM5MCU4\\_P & CSM5MCWK\\_P & CSM5MCXF\\_P & CSM67U9V\\_P & CSM67U9X\\_P & CSM67UAI\\_P & ... & MSM9VZLX\\_P & MSM9VZM4\\_P & PSM6XBQM\\_P & PSM6XBRK\\_P & PSM6XBRK & PSM6XBRK\\_TR & PSM6XBRM\\_P & PSM6XBVY\\_P & PSM7J1B3\\_P & PSM7J4EF\\\\\n",
       "  & <chr> & <dbl> & <dbl> & <dbl> & <dbl> & <dbl> & <dbl> & <dbl> & <dbl> & <dbl> & ... & <dbl> & <dbl> & <dbl> & <dbl> & <dbl> & <dbl> & <dbl> & <dbl> & <dbl> & <dbl>\\\\\n",
       "\\hline\n",
       "\t72 & 1.1.1.100 & 0 & 0 & 2.90917e-04 & 0 & 0 & 1.53931e-05 & 1.00766e-05 & 4.61144e-06 & 0.000209820 & ... & 0 & 0 & 0 & 0 & 0 & 0 & 1.34360e-06 & 0 & 0.000444394 & 1.45595e-04\\\\\n",
       "\t209 & 1.1.1.103 & 0 & 0 & 1.17246e-04 & 0 & 0 & 1.93987e-06 & 4.34007e-06 & 2.70102e-06 & 0.000318774 & ... & 0 & 0 & 0 & 0 & 0 & 0 & 1.00422e-06 & 0 & 0.000152316 & 9.05002e-05\\\\\n",
       "\t250 & 1.1.1.11  & 0 & 0 & 0.00000e+00 & 0 & 0 & 0.00000e+00 & 0.00000e+00 & 0.00000e+00 & 0.000000000 & ... & 0 & 0 & 0 & 0 & 0 & 0 & 0.00000e+00 & 0 & 0.000000000 & 0.00000e+00\\\\\n",
       "\t288 & 1.1.1.127 & 0 & 0 & 1.98709e-04 & 0 & 0 & 2.17053e-05 & 6.29250e-05 & 1.90161e-06 & 0.000602487 & ... & 0 & 0 & 0 & 0 & 0 & 0 & 0.00000e+00 & 0 & 0.000291561 & 8.23561e-05\\\\\n",
       "\t306 & 1.1.1.130 & 0 & 0 & 3.40738e-04 & 0 & 0 & 3.59047e-05 & 2.12171e-05 & 5.60158e-06 & 0.000510456 & ... & 0 & 0 & 0 & 0 & 0 & 0 & 4.08567e-06 & 0 & 0.000408950 & 7.35535e-05\\\\\n",
       "\t356 & 1.1.1.133 & 0 & 0 & 4.10046e-06 & 0 & 0 & 8.99820e-06 & 0.00000e+00 & 0.00000e+00 & 0.000269802 & ... & 0 & 0 & 0 & 0 & 0 & 0 & 6.95513e-06 & 0 & 0.000251756 & 1.32574e-04\\\\\n",
       "\\end{tabular}\n"
      ],
      "text/markdown": [
       "\n",
       "A data.frame: 6 × 47\n",
       "\n",
       "| <!--/--> | Gene.Family &lt;chr&gt; | CSM5FZ3N_P &lt;dbl&gt; | CSM5FZ3T_P &lt;dbl&gt; | CSM5MCVB_P &lt;dbl&gt; | CSM5MCU4_P &lt;dbl&gt; | CSM5MCWK_P &lt;dbl&gt; | CSM5MCXF_P &lt;dbl&gt; | CSM67U9V_P &lt;dbl&gt; | CSM67U9X_P &lt;dbl&gt; | CSM67UAI_P &lt;dbl&gt; | ... ... | MSM9VZLX_P &lt;dbl&gt; | MSM9VZM4_P &lt;dbl&gt; | PSM6XBQM_P &lt;dbl&gt; | PSM6XBRK_P &lt;dbl&gt; | PSM6XBRK &lt;dbl&gt; | PSM6XBRK_TR &lt;dbl&gt; | PSM6XBRM_P &lt;dbl&gt; | PSM6XBVY_P &lt;dbl&gt; | PSM7J1B3_P &lt;dbl&gt; | PSM7J4EF &lt;dbl&gt; |\n",
       "|---|---|---|---|---|---|---|---|---|---|---|---|---|---|---|---|---|---|---|---|---|---|\n",
       "| 72 | 1.1.1.100 | 0 | 0 | 2.90917e-04 | 0 | 0 | 1.53931e-05 | 1.00766e-05 | 4.61144e-06 | 0.000209820 | ... | 0 | 0 | 0 | 0 | 0 | 0 | 1.34360e-06 | 0 | 0.000444394 | 1.45595e-04 |\n",
       "| 209 | 1.1.1.103 | 0 | 0 | 1.17246e-04 | 0 | 0 | 1.93987e-06 | 4.34007e-06 | 2.70102e-06 | 0.000318774 | ... | 0 | 0 | 0 | 0 | 0 | 0 | 1.00422e-06 | 0 | 0.000152316 | 9.05002e-05 |\n",
       "| 250 | 1.1.1.11  | 0 | 0 | 0.00000e+00 | 0 | 0 | 0.00000e+00 | 0.00000e+00 | 0.00000e+00 | 0.000000000 | ... | 0 | 0 | 0 | 0 | 0 | 0 | 0.00000e+00 | 0 | 0.000000000 | 0.00000e+00 |\n",
       "| 288 | 1.1.1.127 | 0 | 0 | 1.98709e-04 | 0 | 0 | 2.17053e-05 | 6.29250e-05 | 1.90161e-06 | 0.000602487 | ... | 0 | 0 | 0 | 0 | 0 | 0 | 0.00000e+00 | 0 | 0.000291561 | 8.23561e-05 |\n",
       "| 306 | 1.1.1.130 | 0 | 0 | 3.40738e-04 | 0 | 0 | 3.59047e-05 | 2.12171e-05 | 5.60158e-06 | 0.000510456 | ... | 0 | 0 | 0 | 0 | 0 | 0 | 4.08567e-06 | 0 | 0.000408950 | 7.35535e-05 |\n",
       "| 356 | 1.1.1.133 | 0 | 0 | 4.10046e-06 | 0 | 0 | 8.99820e-06 | 0.00000e+00 | 0.00000e+00 | 0.000269802 | ... | 0 | 0 | 0 | 0 | 0 | 0 | 6.95513e-06 | 0 | 0.000251756 | 1.32574e-04 |\n",
       "\n"
      ],
      "text/plain": [
       "    Gene.Family CSM5FZ3N_P CSM5FZ3T_P CSM5MCVB_P  CSM5MCU4_P CSM5MCWK_P\n",
       "72  1.1.1.100   0          0          2.90917e-04 0          0         \n",
       "209 1.1.1.103   0          0          1.17246e-04 0          0         \n",
       "250 1.1.1.11    0          0          0.00000e+00 0          0         \n",
       "288 1.1.1.127   0          0          1.98709e-04 0          0         \n",
       "306 1.1.1.130   0          0          3.40738e-04 0          0         \n",
       "356 1.1.1.133   0          0          4.10046e-06 0          0         \n",
       "    CSM5MCXF_P  CSM67U9V_P  CSM67U9X_P  CSM67UAI_P  ... MSM9VZLX_P MSM9VZM4_P\n",
       "72  1.53931e-05 1.00766e-05 4.61144e-06 0.000209820 ... 0          0         \n",
       "209 1.93987e-06 4.34007e-06 2.70102e-06 0.000318774 ... 0          0         \n",
       "250 0.00000e+00 0.00000e+00 0.00000e+00 0.000000000 ... 0          0         \n",
       "288 2.17053e-05 6.29250e-05 1.90161e-06 0.000602487 ... 0          0         \n",
       "306 3.59047e-05 2.12171e-05 5.60158e-06 0.000510456 ... 0          0         \n",
       "356 8.99820e-06 0.00000e+00 0.00000e+00 0.000269802 ... 0          0         \n",
       "    PSM6XBQM_P PSM6XBRK_P PSM6XBRK PSM6XBRK_TR PSM6XBRM_P  PSM6XBVY_P\n",
       "72  0          0          0        0           1.34360e-06 0         \n",
       "209 0          0          0        0           1.00422e-06 0         \n",
       "250 0          0          0        0           0.00000e+00 0         \n",
       "288 0          0          0        0           0.00000e+00 0         \n",
       "306 0          0          0        0           4.08567e-06 0         \n",
       "356 0          0          0        0           6.95513e-06 0         \n",
       "    PSM7J1B3_P  PSM7J4EF   \n",
       "72  0.000444394 1.45595e-04\n",
       "209 0.000152316 9.05002e-05\n",
       "250 0.000000000 0.00000e+00\n",
       "288 0.000291561 8.23561e-05\n",
       "306 0.000408950 7.35535e-05\n",
       "356 0.000251756 1.32574e-04"
      ]
     },
     "metadata": {},
     "output_type": "display_data"
    }
   ],
   "source": [
    "head(metagenomics_cd)"
   ]
  },
  {
   "cell_type": "code",
   "execution_count": null,
   "metadata": {
    "vscode": {
     "languageId": "r"
    }
   },
   "outputs": [],
   "source": [
    "##Calculate p-value for two groups based on t-test (comparing control to disease).\n",
    "##general function to store p-values for multiple rows:\n",
    "ttest_mSet <- function(df, grp1, grp2) {\n",
    "  x = df[grp1]\n",
    "  y = df[grp2]\n",
    "  x = as.numeric(x)\n",
    "  y = as.numeric(y)  \n",
    "  results = t.test(x, y)\n",
    "  results$p.value\n",
    "}\n",
    "p_values_disorder <- apply(mSet_FINAL, 1, ttest_mSet, grp1 = c(3:end_Disorders), grp2 = c((end_Disorders+1):ncol(mSet_FINAL)))\n",
    "##Add p_values column to analysis dataset:\n",
    "mSet_AnalysisReady <- cbind(mSet_AnalysisReady, p_values_disorder)\n",
    "#Convert logFC and p-values columns to numeric values            \n",
    "mSet_AnalysisReady <- as.data.frame(mSet_AnalysisReady)\n",
    "mSet_AnalysisReady[ , c(3,4)] <- apply(mSet_AnalysisReady[ , c(3,4)], 2, function(x) as.numeric(as.character(x)))\n",
    "remove(mSet_transformed, columns_disorders, columnNumber, end_Disorders, foldchange_disorder, p_values_disorder, control_IBD, disease, ttest_mSet, mSet_FINAL\n"
   ]
  },
  {
   "cell_type": "code",
   "execution_count": 9,
   "metadata": {
    "vscode": {
     "languageId": "r"
    }
   },
   "outputs": [],
   "source": [
    "# Compute statistical significance (using t-test)\n",
    "pvalue_cd = NULL # Empty list for the p-values\n",
    "tstat_cd = NULL # Empty list of the t test statistics\n",
    "\n",
    "for(i in 1 : nrow(metagenomics_Ecoli)) { # For each gene : \n",
    "\tx = metagenomics_nonIBD[i,-1] # control of gene number i\n",
    "\ty = metagenomics_cd[i,-1] # CD of gene number i\n",
    "\t\n",
    "\t# Compute t-test between the two conditions\n",
    "\tt = t.test(x, y)\n",
    "\t\n",
    "\t# Put the current p-value in the pvalues list\n",
    "\tpvalue_cd[i] = t$p.value\n",
    "\t# Put the current t-statistic in the tstats list\n",
    "\ttstat_cd[i] = t$statistic\n",
    "}"
   ]
  },
  {
   "cell_type": "code",
   "execution_count": 10,
   "metadata": {
    "vscode": {
     "languageId": "r"
    }
   },
   "outputs": [],
   "source": [
    "# Compute statistical significance (using t-test)\n",
    "subset_NA = NULL\n",
    "\n",
    "for(i in 1 : nrow(metagenomics_Ecoli)) { # For each gene : \n",
    "\n",
    "\tx = metagenomics_nonIBD[i,-1] # Control of gene number i\n",
    "\ty = metagenomics_uc[i,-1] # UC of gene number i\n",
    "\n",
    "\tmetagenomics_nonIBD_NA = all(is.na(x)) || length(is.na(x)==FALSE)<2\n",
    "\tmetagenomics_uc_NA = all(is.na(y)) || length(is.na(y)==FALSE)<2\n",
    "\tsubset_NA[i] = metagenomics_nonIBD_NA || metagenomics_uc_NA\n",
    "\t\n",
    "}\n",
    "metagenomics_uc_nonNA <- metagenomics_uc[!subset_NA,]\n",
    "metagenomics_nonIBD_nonNA <- metagenomics_nonIBD[!subset_NA,]"
   ]
  },
  {
   "cell_type": "code",
   "execution_count": 11,
   "metadata": {
    "vscode": {
     "languageId": "r"
    }
   },
   "outputs": [],
   "source": [
    "# Compute statistical significance (using t-test)\n",
    "pvalue_uc = NULL # Empty list for the p-values\n",
    "tstat_uc = NULL # Empty list of the t test statistics\n",
    "\n",
    "for(i in 1 : nrow(metagenomics_nonIBD_nonNA)) { # For each gene : \n",
    "\tx = metagenomics_nonIBD_nonNA[i,-1] # control of gene number i\n",
    "\ty = metagenomics_uc_nonNA[i,-1] # UC of gene number i\t\n",
    "\t\n",
    "\t# Compute t-test between the two conditions\n",
    "\tt = t.test(x, y)\n",
    "\t\n",
    "\t# Put the current p-value in the pvalues list\n",
    "\tpvalue_uc[i] = t$p.value\n",
    "\t# Put the current t-statistic in the tstats list\n",
    "\ttstat_uc[i] = t$statistic\n",
    "}"
   ]
  },
  {
   "cell_type": "code",
   "execution_count": 12,
   "metadata": {
    "vscode": {
     "languageId": "r"
    }
   },
   "outputs": [],
   "source": [
    "metagenomics_Ecoli$pvalue_cd <- pvalue_cd\n",
    "metagenomics_Ecoli$pvalue_uc <- pvalue_uc\n",
    "cd_genes <- subset(metagenomics_Ecoli[metagenomics_Ecoli$pvalue_cd<=0.05,], select=\"Gene.Family\", \"\")\n",
    "uc_genes <- subset(metagenomics_Ecoli[metagenomics_Ecoli$pvalue_uc<=0.05,], select=\"Gene.Family\")"
   ]
  },
  {
   "cell_type": "code",
   "execution_count": 42,
   "metadata": {
    "vscode": {
     "languageId": "r"
    }
   },
   "outputs": [
    {
     "data": {
      "text/html": [
       "<style>\n",
       ".list-inline {list-style: none; margin:0; padding: 0}\n",
       ".list-inline>li {display: inline-block}\n",
       ".list-inline>li:not(:last-child)::after {content: \"\\00b7\"; padding: 0 .5ex}\n",
       "</style>\n",
       "<ol class=list-inline><li>927</li><li>1642</li></ol>\n"
      ],
      "text/latex": [
       "\\begin{enumerate*}\n",
       "\\item 927\n",
       "\\item 1642\n",
       "\\end{enumerate*}\n"
      ],
      "text/markdown": [
       "1. 927\n",
       "2. 1642\n",
       "\n",
       "\n"
      ],
      "text/plain": [
       "[1]  927 1642"
      ]
     },
     "metadata": {},
     "output_type": "display_data"
    }
   ],
   "source": [
    "#metagenomics_Ecoli[order(metagenomics_Ecoli$pvalue_cd)]\n",
    "dim(metagenomics_Ecoli)"
   ]
  },
  {
   "cell_type": "code",
   "execution_count": 58,
   "metadata": {
    "vscode": {
     "languageId": "r"
    }
   },
   "outputs": [],
   "source": [
    "#list of all deg from two disease types \n",
    "deg.CD <- subset(metagenomics_Ecoli[!is.na(metagenomics_Ecoli$pvalue_cd) & metagenomics_Ecoli$pvalue_cd < 0.1,c(1,2)])\n",
    "#CD.up   <-unique(dataset.CD[!is.na(metagenomics_Ecoli$pvalue_cd) & metagenomics_Ecoli$pvalue_cd < 0.05,c(1,2)])\n",
    "#CD.down <-unique(dataset.CD[!is.na(metagenomics_Ecoli$pvalue_cd) & metagenomics_Ecoli$pvalue_cd < 0.05,c(1,2)])\n",
    "\n",
    "deg.UC <- subset(metagenomics_Ecoli[!is.na(metagenomics_Ecoli$pvalue_uc) & metagenomics_Ecoli$pvalue_uc < 0.1,c(1,2)])\n",
    "#UC.up   <-unique(dataset.UC[!is.na(dataset.UC$pvalue) & dataset.UC$pvalue < 0.05,c(1,2)])\n",
    "#UC.down <-unique(dataset.UC[!is.na(dataset.UC$pvalue) & dataset.UC$pvalue < 0.05,c(1,2)])\n"
   ]
  },
  {
   "cell_type": "code",
   "execution_count": 59,
   "metadata": {
    "vscode": {
     "languageId": "r"
    }
   },
   "outputs": [
    {
     "data": {
      "text/html": [
       "<table class=\"dataframe\">\n",
       "<caption>A data.frame: 3 × 2</caption>\n",
       "<thead>\n",
       "\t<tr><th></th><th scope=col>Gene.Family</th><th scope=col>Name.Organism</th></tr>\n",
       "\t<tr><th></th><th scope=col>&lt;chr&gt;</th><th scope=col>&lt;chr&gt;</th></tr>\n",
       "</thead>\n",
       "<tbody>\n",
       "\t<tr><th scope=row>1918</th><td>1.1.1.264</td><td> L-idonate 5-dehydrogenase (NAD(P)(+))|g__Escherichia.s__Escherichia_coli</td></tr>\n",
       "\t<tr><th scope=row>72023</th><td>3.6.1.15 </td><td> Nucleoside-triphosphate phosphatase|g__Escherichia.s__Escherichia_coli  </td></tr>\n",
       "\t<tr><th scope=row>73942</th><td>3.6.3.16 </td><td> Arsenite-transporting ATPase|g__Escherichia.s__Escherichia_coli         </td></tr>\n",
       "</tbody>\n",
       "</table>\n"
      ],
      "text/latex": [
       "A data.frame: 3 × 2\n",
       "\\begin{tabular}{r|ll}\n",
       "  & Gene.Family & Name.Organism\\\\\n",
       "  & <chr> & <chr>\\\\\n",
       "\\hline\n",
       "\t1918 & 1.1.1.264 &  L-idonate 5-dehydrogenase (NAD(P)(+))\\textbar{}g\\_\\_Escherichia.s\\_\\_Escherichia\\_coli\\\\\n",
       "\t72023 & 3.6.1.15  &  Nucleoside-triphosphate phosphatase\\textbar{}g\\_\\_Escherichia.s\\_\\_Escherichia\\_coli  \\\\\n",
       "\t73942 & 3.6.3.16  &  Arsenite-transporting ATPase\\textbar{}g\\_\\_Escherichia.s\\_\\_Escherichia\\_coli         \\\\\n",
       "\\end{tabular}\n"
      ],
      "text/markdown": [
       "\n",
       "A data.frame: 3 × 2\n",
       "\n",
       "| <!--/--> | Gene.Family &lt;chr&gt; | Name.Organism &lt;chr&gt; |\n",
       "|---|---|---|\n",
       "| 1918 | 1.1.1.264 |  L-idonate 5-dehydrogenase (NAD(P)(+))|g__Escherichia.s__Escherichia_coli |\n",
       "| 72023 | 3.6.1.15  |  Nucleoside-triphosphate phosphatase|g__Escherichia.s__Escherichia_coli   |\n",
       "| 73942 | 3.6.3.16  |  Arsenite-transporting ATPase|g__Escherichia.s__Escherichia_coli          |\n",
       "\n"
      ],
      "text/plain": [
       "      Gene.Family\n",
       "1918  1.1.1.264  \n",
       "72023 3.6.1.15   \n",
       "73942 3.6.3.16   \n",
       "      Name.Organism                                                            \n",
       "1918   L-idonate 5-dehydrogenase (NAD(P)(+))|g__Escherichia.s__Escherichia_coli\n",
       "72023  Nucleoside-triphosphate phosphatase|g__Escherichia.s__Escherichia_coli  \n",
       "73942  Arsenite-transporting ATPase|g__Escherichia.s__Escherichia_coli         "
      ]
     },
     "metadata": {},
     "output_type": "display_data"
    }
   ],
   "source": [
    "deg.CD"
   ]
  },
  {
   "cell_type": "markdown",
   "metadata": {},
   "source": [
    "## KEGG pathway over-representation analysis\n",
    "\n",
    "Codes for KEGG organisms can be found here (https://www.genome.jp/kegg/catalog/org_list.html)"
   ]
  },
  {
   "cell_type": "code",
   "execution_count": 25,
   "metadata": {
    "vscode": {
     "languageId": "r"
    }
   },
   "outputs": [
    {
     "ename": "ERROR",
     "evalue": "Error in .testForValidKeys(x, keys, keytype, fks): None of the keys entered are valid keys for 'ENZYME'. Please use the keys method to see a listing of valid arguments.\n",
     "output_type": "error",
     "traceback": [
      "Error in .testForValidKeys(x, keys, keytype, fks): None of the keys entered are valid keys for 'ENZYME'. Please use the keys method to see a listing of valid arguments.\nTraceback:\n",
      "1. clusterProfiler::bitr(cd_genes$Gene.Family, fromType = \"ENZYME\", \n .     toType = \"ENTREZID\", OrgDb = org.EcK12.eg.db)",
      "2. suppressWarnings(AnnotationDbi::select(db, keys = geneID, keytype = fromType, \n .     columns = c(fromType, toType)))",
      "3. withCallingHandlers(expr, warning = function(w) if (inherits(w, \n .     classes)) tryInvokeRestart(\"muffleWarning\"))",
      "4. AnnotationDbi::select(db, keys = geneID, keytype = fromType, \n .     columns = c(fromType, toType))",
      "5. AnnotationDbi::select(db, keys = geneID, keytype = fromType, \n .     columns = c(fromType, toType))",
      "6. .select(x, keys, columns, keytype, jointype = jointype, ...)",
      "7. testSelectArgs(x, keys = keys, cols = cols, keytype = keytype, \n .     fks = fks, skipValidKeysTest = skipValidKeysTest)",
      "8. .testForValidKeys(x, keys, keytype, fks)",
      "9. stop(msg)"
     ]
    }
   ],
   "source": [
    "# Convert EC numbers to Entrez IDs\n",
    "gene <- clusterProfiler::bitr(cd_genes$Gene.Family, fromType = \"ENZYME\", toType = \"ENTREZID\", OrgDb = org.EcK12.eg.db)\n",
    "\n",
    "# Convert Entrez IDs to KEGG IDs\n",
    "geneList <- sub(\"^\", \"ncbi-geneid:\", gene[,2])\n",
    "geneList <- keggConv(\"eco\", geneList)"
   ]
  },
  {
   "cell_type": "code",
   "execution_count": 20,
   "metadata": {
    "vscode": {
     "languageId": "r"
    }
   },
   "outputs": [
    {
     "ename": "ERROR",
     "evalue": "Error in h(simpleError(msg, call)): error in evaluating the argument 'x' in selecting a method for function 'gsub': object 'geneList' not found\n",
     "output_type": "error",
     "traceback": [
      "Error in h(simpleError(msg, call)): error in evaluating the argument 'x' in selecting a method for function 'gsub': object 'geneList' not found\nTraceback:\n",
      "1. gsub(\"eco:\", \"\", geneList)",
      "2. .handleSimpleError(function (cond) \n . .Internal(C_tryCatchHelper(addr, 1L, cond)), \"object 'geneList' not found\", \n .     base::quote(gsub(\"eco:\", \"\", geneList)))",
      "3. h(simpleError(msg, call))"
     ]
    }
   ],
   "source": [
    "# Remove preceding 'eco:'\n",
    "geneList <- gsub(\"eco:\", \"\", geneList)\n",
    "\n",
    "kk <- enrichKEGG(gene         = geneList,\n",
    "                 organism     = 'eco',\n",
    "                 pvalueCutoff = 0.05)\n",
    "head(kk)"
   ]
  },
  {
   "cell_type": "code",
   "execution_count": 33,
   "metadata": {
    "vscode": {
     "languageId": "r"
    }
   },
   "outputs": [
    {
     "ename": "ERROR",
     "evalue": "Error in .testForValidKeys(x, keys, keytype, fks): None of the keys entered are valid keys for 'ENZYME'. Please use the keys method to see a listing of valid arguments.\n",
     "output_type": "error",
     "traceback": [
      "Error in .testForValidKeys(x, keys, keytype, fks): None of the keys entered are valid keys for 'ENZYME'. Please use the keys method to see a listing of valid arguments.\nTraceback:\n",
      "1. clusterProfiler::bitr(uc_genes$Gene.Family, fromType = \"ENZYME\", \n .     toType = \"ENTREZID\", OrgDb = org.EcK12.eg.db)",
      "2. suppressWarnings(AnnotationDbi::select(db, keys = geneID, keytype = fromType, \n .     columns = c(fromType, toType)))",
      "3. withCallingHandlers(expr, warning = function(w) if (inherits(w, \n .     classes)) tryInvokeRestart(\"muffleWarning\"))",
      "4. AnnotationDbi::select(db, keys = geneID, keytype = fromType, \n .     columns = c(fromType, toType))",
      "5. AnnotationDbi::select(db, keys = geneID, keytype = fromType, \n .     columns = c(fromType, toType))",
      "6. .select(x, keys, columns, keytype, jointype = jointype, ...)",
      "7. testSelectArgs(x, keys = keys, cols = cols, keytype = keytype, \n .     fks = fks, skipValidKeysTest = skipValidKeysTest)",
      "8. .testForValidKeys(x, keys, keytype, fks)",
      "9. stop(msg)"
     ]
    }
   ],
   "source": [
    "# Convert EC numbers to Entrez IDs\n",
    "gene2 <- clusterProfiler::bitr(uc_genes$Gene.Family, fromType = \"ENZYME\", toType = \"ENTREZID\", OrgDb = org.EcK12.eg.db)\n",
    "\n",
    "# Convert Entrez IDs to KEGG IDs\n",
    "geneList2 <- sub(\"^\", \"ncbi-geneid:\", gene2[,2])\n",
    "geneList2 <- keggConv(\"eco\", geneList2)"
   ]
  },
  {
   "cell_type": "code",
   "execution_count": 34,
   "metadata": {
    "vscode": {
     "languageId": "r"
    }
   },
   "outputs": [
    {
     "ename": "ERROR",
     "evalue": "Error in h(simpleError(msg, call)): error in evaluating the argument 'x' in selecting a method for function 'gsub': object 'geneList2' not found\n",
     "output_type": "error",
     "traceback": [
      "Error in h(simpleError(msg, call)): error in evaluating the argument 'x' in selecting a method for function 'gsub': object 'geneList2' not found\nTraceback:\n",
      "1. gsub(\"eco:\", \"\", geneList2)",
      "2. .handleSimpleError(function (cond) \n . .Internal(C_tryCatchHelper(addr, 1L, cond)), \"object 'geneList2' not found\", \n .     base::quote(gsub(\"eco:\", \"\", geneList2)))",
      "3. h(simpleError(msg, call))"
     ]
    }
   ],
   "source": [
    "# Remove preceding 'eco:'\n",
    "geneList2 <- gsub(\"eco:\", \"\", geneList2)\n",
    "\n",
    "kk2 <- enrichKEGG(gene         = geneList2,\n",
    "                 organism     = 'eco',\n",
    "                 pvalueCutoff = 0.05)\n",
    "head(kk2)"
   ]
  }
 ],
 "metadata": {
  "kernelspec": {
   "display_name": "R",
   "language": "R",
   "name": "ir"
  },
  "language_info": {
   "codemirror_mode": "r",
   "file_extension": ".r",
   "mimetype": "text/x-r-source",
   "name": "R",
   "pygments_lexer": "r",
   "version": "4.1.3"
  },
  "orig_nbformat": 4
 },
 "nbformat": 4,
 "nbformat_minor": 2
}
