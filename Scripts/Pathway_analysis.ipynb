{
 "cells": [
  {
   "cell_type": "markdown",
   "metadata": {},
   "source": [
    "# Pathway analysis of metagenomic data\n",
    "\n",
    "First, install the libraries and import them\n"
   ]
  },
  {
   "cell_type": "code",
   "execution_count": 23,
   "metadata": {
    "vscode": {
     "languageId": "r"
    }
   },
   "outputs": [],
   "source": [
    "# check if libraries are already installed > otherwise install it\n",
    "if(!requireNamespace(\"BiocManager\", quietly = TRUE)) install.packages(\"BiocManager\",repos = \"http://cran.us.r-project.org\")\n",
    "if(!\"clusterProfiler\" %in% installed.packages()) BiocManager::install(\"clusterProfiler\")\n",
    "if(!\"KEGGREST\" %in% installed.packages()) BiocManager::install(\"KEGGREST\")\n",
    "if(!\"org.EcK12.eg.db\" %in% installed.packages()) BiocManager::install(\"org.EcK12.eg.db\")\n",
    "if(!\"limma\" %in% installed.packages()) BiocManager::install(\"limma\")\n",
    "if(!\"DESeq2\" %in% installed.packages()) BiocManager::install(\"DESeq2\")\n",
    "if(!\"edgeR\" %in% installed.packages()) BiocManager::install(\"edgeR\")\n",
    "if(!\"ggplot2\" %in% installed.packages()) BiocManager::install(\"ggplot2\")\n",
    "\n",
    "#load packages\n",
    "library(clusterProfiler)\n",
    "library(KEGGREST)\n",
    "library(org.EcK12.eg.db)\n",
    "library(limma)\n",
    "library(DESeq2)\n",
    "library(edgeR)\n",
    "library(ggplot2)"
   ]
  },
  {
   "cell_type": "code",
   "execution_count": 2,
   "metadata": {
    "vscode": {
     "languageId": "r"
    }
   },
   "outputs": [
    {
     "data": {
      "text/html": [
       "<table class=\"dataframe\">\n",
       "<caption>A data.frame: 6 × 1640</caption>\n",
       "<thead>\n",
       "\t<tr><th></th><th scope=col>Gene.Family</th><th scope=col>Name.Organism</th><th scope=col>CSM5FZ4M</th><th scope=col>CSM5MCUO</th><th scope=col>CSM5MCVL</th><th scope=col>CSM5MCVN</th><th scope=col>CSM5MCW6</th><th scope=col>CSM5MCWC</th><th scope=col>CSM5MCWE</th><th scope=col>CSM5MCWG</th><th scope=col>...</th><th scope=col>CSM5MCVJ_P</th><th scope=col>CSM5MCWI_P</th><th scope=col>MSM5LLHA_P</th><th scope=col>HSM5MD59_P</th><th scope=col>HSM5MD8N_P</th><th scope=col>CSM6J2H9_P</th><th scope=col>HSM5MD4A_P</th><th scope=col>CSM5MCUW_P</th><th scope=col>ESM5MEBA_P</th><th scope=col>HSM5FZC2_P</th></tr>\n",
       "\t<tr><th></th><th scope=col>&lt;chr&gt;</th><th scope=col>&lt;chr&gt;</th><th scope=col>&lt;chr&gt;</th><th scope=col>&lt;dbl&gt;</th><th scope=col>&lt;dbl&gt;</th><th scope=col>&lt;dbl&gt;</th><th scope=col>&lt;dbl&gt;</th><th scope=col>&lt;dbl&gt;</th><th scope=col>&lt;dbl&gt;</th><th scope=col>&lt;dbl&gt;</th><th scope=col>...</th><th scope=col>&lt;dbl&gt;</th><th scope=col>&lt;dbl&gt;</th><th scope=col>&lt;dbl&gt;</th><th scope=col>&lt;dbl&gt;</th><th scope=col>&lt;dbl&gt;</th><th scope=col>&lt;dbl&gt;</th><th scope=col>&lt;dbl&gt;</th><th scope=col>&lt;dbl&gt;</th><th scope=col>&lt;dbl&gt;</th><th scope=col>&lt;dbl&gt;</th></tr>\n",
       "</thead>\n",
       "<tbody>\n",
       "\t<tr><th scope=row>1</th><td>1.1.1.100</td><td> 3-oxoacyl-[acyl-carrier-protein] reductase                                                </td><td>0.00183508</td><td>0.00147242</td><td>0.00157135</td><td>0.00117332</td><td>0.000246863</td><td>0.00238904</td><td>0.000922349</td><td>0.000573488</td><td>...</td><td>0.00172861</td><td>0.00180843</td><td>0.000636998</td><td>0.00190471</td><td>0.00168832</td><td>0.00183791</td><td>0.00191878</td><td>0.00139149</td><td>0.00124719</td><td>0.000429274</td></tr>\n",
       "\t<tr><th scope=row>2</th><td>1.1.1.100</td><td> 3-oxoacyl-[acyl-carrier-protein] reductase|g__Aggregatibacter.s__Aggregatibacter_segnis   </td><td>0         </td><td>0.00000000</td><td>0.00000000</td><td>0.00000000</td><td>0.000000000</td><td>0.00000000</td><td>0.000000000</td><td>0.000000000</td><td>...</td><td>0.00000000</td><td>0.00000000</td><td>0.000000000</td><td>0.00000000</td><td>0.00000000</td><td>0.00000000</td><td>0.00000000</td><td>0.00000000</td><td>0.00000000</td><td>0.000000000</td></tr>\n",
       "\t<tr><th scope=row>3</th><td>1.1.1.100</td><td> 3-oxoacyl-[acyl-carrier-protein] reductase|g__Alloprevotella.s__Alloprevotella_tannerae   </td><td>0         </td><td>0.00000000</td><td>0.00000000</td><td>0.00000000</td><td>0.000000000</td><td>0.00000000</td><td>0.000000000</td><td>0.000000000</td><td>...</td><td>0.00000000</td><td>0.00000000</td><td>0.000000000</td><td>0.00000000</td><td>0.00000000</td><td>0.00000000</td><td>0.00000000</td><td>0.00000000</td><td>0.00000000</td><td>0.000000000</td></tr>\n",
       "\t<tr><th scope=row>4</th><td>1.1.1.100</td><td> 3-oxoacyl-[acyl-carrier-protein] reductase|g__Anaerococcus.s__Anaerococcus_obesiensis     </td><td>0         </td><td>0.00000000</td><td>0.00000000</td><td>0.00000000</td><td>0.000000000</td><td>0.00000000</td><td>0.000000000</td><td>0.000000000</td><td>...</td><td>0.00000000</td><td>0.00000000</td><td>0.000000000</td><td>0.00000000</td><td>0.00000000</td><td>0.00000000</td><td>0.00000000</td><td>0.00000000</td><td>0.00000000</td><td>0.000000000</td></tr>\n",
       "\t<tr><th scope=row>5</th><td>1.1.1.100</td><td> 3-oxoacyl-[acyl-carrier-protein] reductase|g__Anaerococcus.s__Anaerococcus_vaginalis      </td><td>0         </td><td>0.00000000</td><td>0.00000000</td><td>0.00000000</td><td>0.000000000</td><td>0.00000000</td><td>0.000000000</td><td>0.000000000</td><td>...</td><td>0.00000000</td><td>0.00000000</td><td>0.000000000</td><td>0.00000000</td><td>0.00000000</td><td>0.00000000</td><td>0.00000000</td><td>0.00000000</td><td>0.00000000</td><td>0.000000000</td></tr>\n",
       "\t<tr><th scope=row>6</th><td>1.1.1.100</td><td> 3-oxoacyl-[acyl-carrier-protein] reductase|g__Anaerofustis.s__Anaerofustis_stercorihominis</td><td>0         </td><td>0.00000000</td><td>0.00000000</td><td>0.00000000</td><td>0.000000000</td><td>0.00000000</td><td>0.000000000</td><td>0.000000000</td><td>...</td><td>0.00000000</td><td>0.00000000</td><td>0.000000000</td><td>0.00000000</td><td>0.00000000</td><td>0.00000000</td><td>0.00000000</td><td>0.00000000</td><td>0.00000000</td><td>0.000000000</td></tr>\n",
       "</tbody>\n",
       "</table>\n"
      ],
      "text/latex": [
       "A data.frame: 6 × 1640\n",
       "\\begin{tabular}{r|lllllllllllllllllllll}\n",
       "  & Gene.Family & Name.Organism & CSM5FZ4M & CSM5MCUO & CSM5MCVL & CSM5MCVN & CSM5MCW6 & CSM5MCWC & CSM5MCWE & CSM5MCWG & ... & CSM5MCVJ\\_P & CSM5MCWI\\_P & MSM5LLHA\\_P & HSM5MD59\\_P & HSM5MD8N\\_P & CSM6J2H9\\_P & HSM5MD4A\\_P & CSM5MCUW\\_P & ESM5MEBA\\_P & HSM5FZC2\\_P\\\\\n",
       "  & <chr> & <chr> & <chr> & <dbl> & <dbl> & <dbl> & <dbl> & <dbl> & <dbl> & <dbl> & ... & <dbl> & <dbl> & <dbl> & <dbl> & <dbl> & <dbl> & <dbl> & <dbl> & <dbl> & <dbl>\\\\\n",
       "\\hline\n",
       "\t1 & 1.1.1.100 &  3-oxoacyl-{[}acyl-carrier-protein{]} reductase                                                 & 0.00183508 & 0.00147242 & 0.00157135 & 0.00117332 & 0.000246863 & 0.00238904 & 0.000922349 & 0.000573488 & ... & 0.00172861 & 0.00180843 & 0.000636998 & 0.00190471 & 0.00168832 & 0.00183791 & 0.00191878 & 0.00139149 & 0.00124719 & 0.000429274\\\\\n",
       "\t2 & 1.1.1.100 &  3-oxoacyl-{[}acyl-carrier-protein{]} reductase\\textbar{}g\\_\\_Aggregatibacter.s\\_\\_Aggregatibacter\\_segnis    & 0          & 0.00000000 & 0.00000000 & 0.00000000 & 0.000000000 & 0.00000000 & 0.000000000 & 0.000000000 & ... & 0.00000000 & 0.00000000 & 0.000000000 & 0.00000000 & 0.00000000 & 0.00000000 & 0.00000000 & 0.00000000 & 0.00000000 & 0.000000000\\\\\n",
       "\t3 & 1.1.1.100 &  3-oxoacyl-{[}acyl-carrier-protein{]} reductase\\textbar{}g\\_\\_Alloprevotella.s\\_\\_Alloprevotella\\_tannerae    & 0          & 0.00000000 & 0.00000000 & 0.00000000 & 0.000000000 & 0.00000000 & 0.000000000 & 0.000000000 & ... & 0.00000000 & 0.00000000 & 0.000000000 & 0.00000000 & 0.00000000 & 0.00000000 & 0.00000000 & 0.00000000 & 0.00000000 & 0.000000000\\\\\n",
       "\t4 & 1.1.1.100 &  3-oxoacyl-{[}acyl-carrier-protein{]} reductase\\textbar{}g\\_\\_Anaerococcus.s\\_\\_Anaerococcus\\_obesiensis      & 0          & 0.00000000 & 0.00000000 & 0.00000000 & 0.000000000 & 0.00000000 & 0.000000000 & 0.000000000 & ... & 0.00000000 & 0.00000000 & 0.000000000 & 0.00000000 & 0.00000000 & 0.00000000 & 0.00000000 & 0.00000000 & 0.00000000 & 0.000000000\\\\\n",
       "\t5 & 1.1.1.100 &  3-oxoacyl-{[}acyl-carrier-protein{]} reductase\\textbar{}g\\_\\_Anaerococcus.s\\_\\_Anaerococcus\\_vaginalis       & 0          & 0.00000000 & 0.00000000 & 0.00000000 & 0.000000000 & 0.00000000 & 0.000000000 & 0.000000000 & ... & 0.00000000 & 0.00000000 & 0.000000000 & 0.00000000 & 0.00000000 & 0.00000000 & 0.00000000 & 0.00000000 & 0.00000000 & 0.000000000\\\\\n",
       "\t6 & 1.1.1.100 &  3-oxoacyl-{[}acyl-carrier-protein{]} reductase\\textbar{}g\\_\\_Anaerofustis.s\\_\\_Anaerofustis\\_stercorihominis & 0          & 0.00000000 & 0.00000000 & 0.00000000 & 0.000000000 & 0.00000000 & 0.000000000 & 0.000000000 & ... & 0.00000000 & 0.00000000 & 0.000000000 & 0.00000000 & 0.00000000 & 0.00000000 & 0.00000000 & 0.00000000 & 0.00000000 & 0.000000000\\\\\n",
       "\\end{tabular}\n"
      ],
      "text/markdown": [
       "\n",
       "A data.frame: 6 × 1640\n",
       "\n",
       "| <!--/--> | Gene.Family &lt;chr&gt; | Name.Organism &lt;chr&gt; | CSM5FZ4M &lt;chr&gt; | CSM5MCUO &lt;dbl&gt; | CSM5MCVL &lt;dbl&gt; | CSM5MCVN &lt;dbl&gt; | CSM5MCW6 &lt;dbl&gt; | CSM5MCWC &lt;dbl&gt; | CSM5MCWE &lt;dbl&gt; | CSM5MCWG &lt;dbl&gt; | ... ... | CSM5MCVJ_P &lt;dbl&gt; | CSM5MCWI_P &lt;dbl&gt; | MSM5LLHA_P &lt;dbl&gt; | HSM5MD59_P &lt;dbl&gt; | HSM5MD8N_P &lt;dbl&gt; | CSM6J2H9_P &lt;dbl&gt; | HSM5MD4A_P &lt;dbl&gt; | CSM5MCUW_P &lt;dbl&gt; | ESM5MEBA_P &lt;dbl&gt; | HSM5FZC2_P &lt;dbl&gt; |\n",
       "|---|---|---|---|---|---|---|---|---|---|---|---|---|---|---|---|---|---|---|---|---|---|\n",
       "| 1 | 1.1.1.100 |  3-oxoacyl-[acyl-carrier-protein] reductase                                                 | 0.00183508 | 0.00147242 | 0.00157135 | 0.00117332 | 0.000246863 | 0.00238904 | 0.000922349 | 0.000573488 | ... | 0.00172861 | 0.00180843 | 0.000636998 | 0.00190471 | 0.00168832 | 0.00183791 | 0.00191878 | 0.00139149 | 0.00124719 | 0.000429274 |\n",
       "| 2 | 1.1.1.100 |  3-oxoacyl-[acyl-carrier-protein] reductase|g__Aggregatibacter.s__Aggregatibacter_segnis    | 0          | 0.00000000 | 0.00000000 | 0.00000000 | 0.000000000 | 0.00000000 | 0.000000000 | 0.000000000 | ... | 0.00000000 | 0.00000000 | 0.000000000 | 0.00000000 | 0.00000000 | 0.00000000 | 0.00000000 | 0.00000000 | 0.00000000 | 0.000000000 |\n",
       "| 3 | 1.1.1.100 |  3-oxoacyl-[acyl-carrier-protein] reductase|g__Alloprevotella.s__Alloprevotella_tannerae    | 0          | 0.00000000 | 0.00000000 | 0.00000000 | 0.000000000 | 0.00000000 | 0.000000000 | 0.000000000 | ... | 0.00000000 | 0.00000000 | 0.000000000 | 0.00000000 | 0.00000000 | 0.00000000 | 0.00000000 | 0.00000000 | 0.00000000 | 0.000000000 |\n",
       "| 4 | 1.1.1.100 |  3-oxoacyl-[acyl-carrier-protein] reductase|g__Anaerococcus.s__Anaerococcus_obesiensis      | 0          | 0.00000000 | 0.00000000 | 0.00000000 | 0.000000000 | 0.00000000 | 0.000000000 | 0.000000000 | ... | 0.00000000 | 0.00000000 | 0.000000000 | 0.00000000 | 0.00000000 | 0.00000000 | 0.00000000 | 0.00000000 | 0.00000000 | 0.000000000 |\n",
       "| 5 | 1.1.1.100 |  3-oxoacyl-[acyl-carrier-protein] reductase|g__Anaerococcus.s__Anaerococcus_vaginalis       | 0          | 0.00000000 | 0.00000000 | 0.00000000 | 0.000000000 | 0.00000000 | 0.000000000 | 0.000000000 | ... | 0.00000000 | 0.00000000 | 0.000000000 | 0.00000000 | 0.00000000 | 0.00000000 | 0.00000000 | 0.00000000 | 0.00000000 | 0.000000000 |\n",
       "| 6 | 1.1.1.100 |  3-oxoacyl-[acyl-carrier-protein] reductase|g__Anaerofustis.s__Anaerofustis_stercorihominis | 0          | 0.00000000 | 0.00000000 | 0.00000000 | 0.000000000 | 0.00000000 | 0.000000000 | 0.000000000 | ... | 0.00000000 | 0.00000000 | 0.000000000 | 0.00000000 | 0.00000000 | 0.00000000 | 0.00000000 | 0.00000000 | 0.00000000 | 0.000000000 |\n",
       "\n"
      ],
      "text/plain": [
       "  Gene.Family\n",
       "1 1.1.1.100  \n",
       "2 1.1.1.100  \n",
       "3 1.1.1.100  \n",
       "4 1.1.1.100  \n",
       "5 1.1.1.100  \n",
       "6 1.1.1.100  \n",
       "  Name.Organism                                                                              \n",
       "1  3-oxoacyl-[acyl-carrier-protein] reductase                                                \n",
       "2  3-oxoacyl-[acyl-carrier-protein] reductase|g__Aggregatibacter.s__Aggregatibacter_segnis   \n",
       "3  3-oxoacyl-[acyl-carrier-protein] reductase|g__Alloprevotella.s__Alloprevotella_tannerae   \n",
       "4  3-oxoacyl-[acyl-carrier-protein] reductase|g__Anaerococcus.s__Anaerococcus_obesiensis     \n",
       "5  3-oxoacyl-[acyl-carrier-protein] reductase|g__Anaerococcus.s__Anaerococcus_vaginalis      \n",
       "6  3-oxoacyl-[acyl-carrier-protein] reductase|g__Anaerofustis.s__Anaerofustis_stercorihominis\n",
       "  CSM5FZ4M   CSM5MCUO   CSM5MCVL   CSM5MCVN   CSM5MCW6    CSM5MCWC  \n",
       "1 0.00183508 0.00147242 0.00157135 0.00117332 0.000246863 0.00238904\n",
       "2 0          0.00000000 0.00000000 0.00000000 0.000000000 0.00000000\n",
       "3 0          0.00000000 0.00000000 0.00000000 0.000000000 0.00000000\n",
       "4 0          0.00000000 0.00000000 0.00000000 0.000000000 0.00000000\n",
       "5 0          0.00000000 0.00000000 0.00000000 0.000000000 0.00000000\n",
       "6 0          0.00000000 0.00000000 0.00000000 0.000000000 0.00000000\n",
       "  CSM5MCWE    CSM5MCWG    ... CSM5MCVJ_P CSM5MCWI_P MSM5LLHA_P  HSM5MD59_P\n",
       "1 0.000922349 0.000573488 ... 0.00172861 0.00180843 0.000636998 0.00190471\n",
       "2 0.000000000 0.000000000 ... 0.00000000 0.00000000 0.000000000 0.00000000\n",
       "3 0.000000000 0.000000000 ... 0.00000000 0.00000000 0.000000000 0.00000000\n",
       "4 0.000000000 0.000000000 ... 0.00000000 0.00000000 0.000000000 0.00000000\n",
       "5 0.000000000 0.000000000 ... 0.00000000 0.00000000 0.000000000 0.00000000\n",
       "6 0.000000000 0.000000000 ... 0.00000000 0.00000000 0.000000000 0.00000000\n",
       "  HSM5MD8N_P CSM6J2H9_P HSM5MD4A_P CSM5MCUW_P ESM5MEBA_P HSM5FZC2_P \n",
       "1 0.00168832 0.00183791 0.00191878 0.00139149 0.00124719 0.000429274\n",
       "2 0.00000000 0.00000000 0.00000000 0.00000000 0.00000000 0.000000000\n",
       "3 0.00000000 0.00000000 0.00000000 0.00000000 0.00000000 0.000000000\n",
       "4 0.00000000 0.00000000 0.00000000 0.00000000 0.00000000 0.000000000\n",
       "5 0.00000000 0.00000000 0.00000000 0.00000000 0.00000000 0.000000000\n",
       "6 0.00000000 0.00000000 0.00000000 0.00000000 0.00000000 0.000000000"
      ]
     },
     "metadata": {},
     "output_type": "display_data"
    }
   ],
   "source": [
    "# Import the metagenomics data\n",
    "metagenomics <- read.csv(file = '../Data/ecs_relab_split.csv', sep = '\\t', header = TRUE)\n",
    "head(metagenomics)"
   ]
  },
  {
   "cell_type": "markdown",
   "metadata": {},
   "source": [
    "# Differential gene expression analysis"
   ]
  },
  {
   "cell_type": "code",
   "execution_count": 4,
   "metadata": {
    "vscode": {
     "languageId": "r"
    }
   },
   "outputs": [],
   "source": [
    "# Import metadata file\n",
    "metadata <- read.csv(file = '../Data/hmp2_metadata_2018-08-20.csv', sep = ',', header = TRUE)\n",
    "# Select metagenomics\n",
    "metagenomics_metadata <- metadata[metadata$data_type=='metagenomics',]\n",
    "# Write metagenomics metadata file into csv\n",
    "write.csv(metagenomics_metadata,\"..\\\\Data\\\\Metagenomics_metadata.csv\", row.names = FALSE)"
   ]
  },
  {
   "cell_type": "code",
   "execution_count": 15,
   "metadata": {
    "vscode": {
     "languageId": "r"
    }
   },
   "outputs": [],
   "source": [
    "metagenomics_metadata <- read.csv(file = '../Data/Metagenomics_metadata.csv', sep = ',', header = TRUE)\n",
    "metagenomics_metadata_subset <- subset(metagenomics_metadata, select= c(External.ID, diagnosis, visit_num))\n",
    "metagenomics_metadata_subset <- metagenomics_metadata_subset[metagenomics_metadata_subset$visit_num==4,]"
   ]
  },
  {
   "cell_type": "code",
   "execution_count": 4,
   "metadata": {
    "vscode": {
     "languageId": "r"
    }
   },
   "outputs": [],
   "source": [
    "# Separate CD, UC and nonIBD\n",
    "cd <- metagenomics_metadata_subset[metagenomics_metadata_subset$diagnosis==\"CD\",]\n",
    "uc <- metagenomics_metadata_subset[metagenomics_metadata_subset$diagnosis==\"UC\",]\n",
    "nonIBD <- metagenomics_metadata_subset[metagenomics_metadata_subset$diagnosis==\"nonIBD\",]"
   ]
  },
  {
   "cell_type": "code",
   "execution_count": 5,
   "metadata": {
    "vscode": {
     "languageId": "r"
    }
   },
   "outputs": [],
   "source": [
    "# select metagenomics data from CD, UC and nonIBD\n",
    "metagenomics_cd <- subset(metagenomics, select= c(\"Gene.Family\", cd$External.ID))\n",
    "metagenomics_uc <- subset(metagenomics, select= c(\"Gene.Family\", uc$External.ID))\n",
    "metagenomics_nonIBD <- subset(metagenomics, select= c(\"Gene.Family\", nonIBD$External.ID))"
   ]
  },
  {
   "cell_type": "code",
   "execution_count": 12,
   "metadata": {
    "vscode": {
     "languageId": "r"
    }
   },
   "outputs": [
    {
     "data": {
      "text/html": [
       "<table class=\"dataframe\">\n",
       "<caption>A matrix: 6 × 1639 of type chr</caption>\n",
       "<thead>\n",
       "\t<tr><th></th><th scope=col>Gene.Family</th><th scope=col>CSM5FZ4M</th><th scope=col>CSM5MCUO</th><th scope=col>CSM5MCVL</th><th scope=col>CSM5MCVN</th><th scope=col>CSM5MCW6</th><th scope=col>CSM5MCWC</th><th scope=col>CSM5MCWE</th><th scope=col>CSM5MCWG</th><th scope=col>CSM5MCWQ</th><th scope=col>...</th><th scope=col>CSM5MCVJ_P</th><th scope=col>CSM5MCWI_P</th><th scope=col>MSM5LLHA_P</th><th scope=col>HSM5MD59_P</th><th scope=col>HSM5MD8N_P</th><th scope=col>CSM6J2H9_P</th><th scope=col>HSM5MD4A_P</th><th scope=col>CSM5MCUW_P</th><th scope=col>ESM5MEBA_P</th><th scope=col>HSM5FZC2_P</th></tr>\n",
       "</thead>\n",
       "<tbody>\n",
       "\t<tr><th scope=row>1</th><td>1.1.1.100</td><td>0.00183508</td><td>1.47242e-03</td><td>1.57135e-03</td><td>1.17332e-03</td><td>2.46863e-04</td><td>2.38904e-03</td><td>9.22349e-04</td><td>5.73488e-04</td><td>1.82744e-03</td><td>...</td><td>1.72861e-03</td><td>1.80843e-03</td><td>6.36998e-04</td><td>1.90471e-03</td><td>1.68832e-03</td><td>1.83791e-03</td><td>1.91878e-03</td><td>1.39149e-03</td><td>1.24719e-03</td><td>4.29274e-04</td></tr>\n",
       "\t<tr><th scope=row>2</th><td>1.1.1.100</td><td>0         </td><td>0.00000e+00</td><td>0.00000e+00</td><td>0.00000e+00</td><td>0.00000e+00</td><td>0.00000e+00</td><td>0.00000e+00</td><td>0.00000e+00</td><td>0.00000e+00</td><td>...</td><td>0.00000e+00</td><td>0.00000e+00</td><td>0.00000e+00</td><td>0.00000e+00</td><td>0.00000e+00</td><td>0.00000e+00</td><td>0.00000e+00</td><td>0.00000e+00</td><td>0.00000e+00</td><td>0.00000e+00</td></tr>\n",
       "\t<tr><th scope=row>3</th><td>1.1.1.100</td><td>0         </td><td>0.00000e+00</td><td>0.00000e+00</td><td>0.00000e+00</td><td>0.00000e+00</td><td>0.00000e+00</td><td>0.00000e+00</td><td>0.00000e+00</td><td>0.00000e+00</td><td>...</td><td>0.00000e+00</td><td>0.00000e+00</td><td>0.00000e+00</td><td>0.00000e+00</td><td>0.00000e+00</td><td>0.00000e+00</td><td>0.00000e+00</td><td>0.00000e+00</td><td>0.00000e+00</td><td>0.00000e+00</td></tr>\n",
       "\t<tr><th scope=row>4</th><td>1.1.1.100</td><td>0         </td><td>0.00000e+00</td><td>0.00000e+00</td><td>0.00000e+00</td><td>0.00000e+00</td><td>0.00000e+00</td><td>0.00000e+00</td><td>0.00000e+00</td><td>0.00000e+00</td><td>...</td><td>0.00000e+00</td><td>0.00000e+00</td><td>0.00000e+00</td><td>0.00000e+00</td><td>0.00000e+00</td><td>0.00000e+00</td><td>0.00000e+00</td><td>0.00000e+00</td><td>0.00000e+00</td><td>0.00000e+00</td></tr>\n",
       "\t<tr><th scope=row>5</th><td>1.1.1.100</td><td>0         </td><td>0.00000e+00</td><td>0.00000e+00</td><td>0.00000e+00</td><td>0.00000e+00</td><td>0.00000e+00</td><td>0.00000e+00</td><td>0.00000e+00</td><td>0.00000e+00</td><td>...</td><td>0.00000e+00</td><td>0.00000e+00</td><td>0.00000e+00</td><td>0.00000e+00</td><td>0.00000e+00</td><td>0.00000e+00</td><td>0.00000e+00</td><td>0.00000e+00</td><td>0.00000e+00</td><td>0.00000e+00</td></tr>\n",
       "\t<tr><th scope=row>6</th><td>1.1.1.100</td><td>0         </td><td>0.00000e+00</td><td>0.00000e+00</td><td>0.00000e+00</td><td>0.00000e+00</td><td>0.00000e+00</td><td>0.00000e+00</td><td>0.00000e+00</td><td>0.00000e+00</td><td>...</td><td>0.00000e+00</td><td>0.00000e+00</td><td>0.00000e+00</td><td>0.00000e+00</td><td>0.00000e+00</td><td>0.00000e+00</td><td>0.00000e+00</td><td>0.00000e+00</td><td>0.00000e+00</td><td>0.00000e+00</td></tr>\n",
       "</tbody>\n",
       "</table>\n"
      ],
      "text/latex": [
       "A matrix: 6 × 1639 of type chr\n",
       "\\begin{tabular}{r|lllllllllllllllllllll}\n",
       "  & Gene.Family & CSM5FZ4M & CSM5MCUO & CSM5MCVL & CSM5MCVN & CSM5MCW6 & CSM5MCWC & CSM5MCWE & CSM5MCWG & CSM5MCWQ & ... & CSM5MCVJ\\_P & CSM5MCWI\\_P & MSM5LLHA\\_P & HSM5MD59\\_P & HSM5MD8N\\_P & CSM6J2H9\\_P & HSM5MD4A\\_P & CSM5MCUW\\_P & ESM5MEBA\\_P & HSM5FZC2\\_P\\\\\n",
       "\\hline\n",
       "\t1 & 1.1.1.100 & 0.00183508 & 1.47242e-03 & 1.57135e-03 & 1.17332e-03 & 2.46863e-04 & 2.38904e-03 & 9.22349e-04 & 5.73488e-04 & 1.82744e-03 & ... & 1.72861e-03 & 1.80843e-03 & 6.36998e-04 & 1.90471e-03 & 1.68832e-03 & 1.83791e-03 & 1.91878e-03 & 1.39149e-03 & 1.24719e-03 & 4.29274e-04\\\\\n",
       "\t2 & 1.1.1.100 & 0          & 0.00000e+00 & 0.00000e+00 & 0.00000e+00 & 0.00000e+00 & 0.00000e+00 & 0.00000e+00 & 0.00000e+00 & 0.00000e+00 & ... & 0.00000e+00 & 0.00000e+00 & 0.00000e+00 & 0.00000e+00 & 0.00000e+00 & 0.00000e+00 & 0.00000e+00 & 0.00000e+00 & 0.00000e+00 & 0.00000e+00\\\\\n",
       "\t3 & 1.1.1.100 & 0          & 0.00000e+00 & 0.00000e+00 & 0.00000e+00 & 0.00000e+00 & 0.00000e+00 & 0.00000e+00 & 0.00000e+00 & 0.00000e+00 & ... & 0.00000e+00 & 0.00000e+00 & 0.00000e+00 & 0.00000e+00 & 0.00000e+00 & 0.00000e+00 & 0.00000e+00 & 0.00000e+00 & 0.00000e+00 & 0.00000e+00\\\\\n",
       "\t4 & 1.1.1.100 & 0          & 0.00000e+00 & 0.00000e+00 & 0.00000e+00 & 0.00000e+00 & 0.00000e+00 & 0.00000e+00 & 0.00000e+00 & 0.00000e+00 & ... & 0.00000e+00 & 0.00000e+00 & 0.00000e+00 & 0.00000e+00 & 0.00000e+00 & 0.00000e+00 & 0.00000e+00 & 0.00000e+00 & 0.00000e+00 & 0.00000e+00\\\\\n",
       "\t5 & 1.1.1.100 & 0          & 0.00000e+00 & 0.00000e+00 & 0.00000e+00 & 0.00000e+00 & 0.00000e+00 & 0.00000e+00 & 0.00000e+00 & 0.00000e+00 & ... & 0.00000e+00 & 0.00000e+00 & 0.00000e+00 & 0.00000e+00 & 0.00000e+00 & 0.00000e+00 & 0.00000e+00 & 0.00000e+00 & 0.00000e+00 & 0.00000e+00\\\\\n",
       "\t6 & 1.1.1.100 & 0          & 0.00000e+00 & 0.00000e+00 & 0.00000e+00 & 0.00000e+00 & 0.00000e+00 & 0.00000e+00 & 0.00000e+00 & 0.00000e+00 & ... & 0.00000e+00 & 0.00000e+00 & 0.00000e+00 & 0.00000e+00 & 0.00000e+00 & 0.00000e+00 & 0.00000e+00 & 0.00000e+00 & 0.00000e+00 & 0.00000e+00\\\\\n",
       "\\end{tabular}\n"
      ],
      "text/markdown": [
       "\n",
       "A matrix: 6 × 1639 of type chr\n",
       "\n",
       "| <!--/--> | Gene.Family | CSM5FZ4M | CSM5MCUO | CSM5MCVL | CSM5MCVN | CSM5MCW6 | CSM5MCWC | CSM5MCWE | CSM5MCWG | CSM5MCWQ | ... | CSM5MCVJ_P | CSM5MCWI_P | MSM5LLHA_P | HSM5MD59_P | HSM5MD8N_P | CSM6J2H9_P | HSM5MD4A_P | CSM5MCUW_P | ESM5MEBA_P | HSM5FZC2_P |\n",
       "|---|---|---|---|---|---|---|---|---|---|---|---|---|---|---|---|---|---|---|---|---|---|\n",
       "| 1 | 1.1.1.100 | 0.00183508 | 1.47242e-03 | 1.57135e-03 | 1.17332e-03 | 2.46863e-04 | 2.38904e-03 | 9.22349e-04 | 5.73488e-04 | 1.82744e-03 | ... | 1.72861e-03 | 1.80843e-03 | 6.36998e-04 | 1.90471e-03 | 1.68832e-03 | 1.83791e-03 | 1.91878e-03 | 1.39149e-03 | 1.24719e-03 | 4.29274e-04 |\n",
       "| 2 | 1.1.1.100 | 0          | 0.00000e+00 | 0.00000e+00 | 0.00000e+00 | 0.00000e+00 | 0.00000e+00 | 0.00000e+00 | 0.00000e+00 | 0.00000e+00 | ... | 0.00000e+00 | 0.00000e+00 | 0.00000e+00 | 0.00000e+00 | 0.00000e+00 | 0.00000e+00 | 0.00000e+00 | 0.00000e+00 | 0.00000e+00 | 0.00000e+00 |\n",
       "| 3 | 1.1.1.100 | 0          | 0.00000e+00 | 0.00000e+00 | 0.00000e+00 | 0.00000e+00 | 0.00000e+00 | 0.00000e+00 | 0.00000e+00 | 0.00000e+00 | ... | 0.00000e+00 | 0.00000e+00 | 0.00000e+00 | 0.00000e+00 | 0.00000e+00 | 0.00000e+00 | 0.00000e+00 | 0.00000e+00 | 0.00000e+00 | 0.00000e+00 |\n",
       "| 4 | 1.1.1.100 | 0          | 0.00000e+00 | 0.00000e+00 | 0.00000e+00 | 0.00000e+00 | 0.00000e+00 | 0.00000e+00 | 0.00000e+00 | 0.00000e+00 | ... | 0.00000e+00 | 0.00000e+00 | 0.00000e+00 | 0.00000e+00 | 0.00000e+00 | 0.00000e+00 | 0.00000e+00 | 0.00000e+00 | 0.00000e+00 | 0.00000e+00 |\n",
       "| 5 | 1.1.1.100 | 0          | 0.00000e+00 | 0.00000e+00 | 0.00000e+00 | 0.00000e+00 | 0.00000e+00 | 0.00000e+00 | 0.00000e+00 | 0.00000e+00 | ... | 0.00000e+00 | 0.00000e+00 | 0.00000e+00 | 0.00000e+00 | 0.00000e+00 | 0.00000e+00 | 0.00000e+00 | 0.00000e+00 | 0.00000e+00 | 0.00000e+00 |\n",
       "| 6 | 1.1.1.100 | 0          | 0.00000e+00 | 0.00000e+00 | 0.00000e+00 | 0.00000e+00 | 0.00000e+00 | 0.00000e+00 | 0.00000e+00 | 0.00000e+00 | ... | 0.00000e+00 | 0.00000e+00 | 0.00000e+00 | 0.00000e+00 | 0.00000e+00 | 0.00000e+00 | 0.00000e+00 | 0.00000e+00 | 0.00000e+00 | 0.00000e+00 |\n",
       "\n"
      ],
      "text/plain": [
       "  Gene.Family CSM5FZ4M   CSM5MCUO    CSM5MCVL    CSM5MCVN    CSM5MCW6   \n",
       "1 1.1.1.100   0.00183508 1.47242e-03 1.57135e-03 1.17332e-03 2.46863e-04\n",
       "2 1.1.1.100   0          0.00000e+00 0.00000e+00 0.00000e+00 0.00000e+00\n",
       "3 1.1.1.100   0          0.00000e+00 0.00000e+00 0.00000e+00 0.00000e+00\n",
       "4 1.1.1.100   0          0.00000e+00 0.00000e+00 0.00000e+00 0.00000e+00\n",
       "5 1.1.1.100   0          0.00000e+00 0.00000e+00 0.00000e+00 0.00000e+00\n",
       "6 1.1.1.100   0          0.00000e+00 0.00000e+00 0.00000e+00 0.00000e+00\n",
       "  CSM5MCWC    CSM5MCWE    CSM5MCWG    CSM5MCWQ    ... CSM5MCVJ_P  CSM5MCWI_P \n",
       "1 2.38904e-03 9.22349e-04 5.73488e-04 1.82744e-03 ... 1.72861e-03 1.80843e-03\n",
       "2 0.00000e+00 0.00000e+00 0.00000e+00 0.00000e+00 ... 0.00000e+00 0.00000e+00\n",
       "3 0.00000e+00 0.00000e+00 0.00000e+00 0.00000e+00 ... 0.00000e+00 0.00000e+00\n",
       "4 0.00000e+00 0.00000e+00 0.00000e+00 0.00000e+00 ... 0.00000e+00 0.00000e+00\n",
       "5 0.00000e+00 0.00000e+00 0.00000e+00 0.00000e+00 ... 0.00000e+00 0.00000e+00\n",
       "6 0.00000e+00 0.00000e+00 0.00000e+00 0.00000e+00 ... 0.00000e+00 0.00000e+00\n",
       "  MSM5LLHA_P  HSM5MD59_P  HSM5MD8N_P  CSM6J2H9_P  HSM5MD4A_P  CSM5MCUW_P \n",
       "1 6.36998e-04 1.90471e-03 1.68832e-03 1.83791e-03 1.91878e-03 1.39149e-03\n",
       "2 0.00000e+00 0.00000e+00 0.00000e+00 0.00000e+00 0.00000e+00 0.00000e+00\n",
       "3 0.00000e+00 0.00000e+00 0.00000e+00 0.00000e+00 0.00000e+00 0.00000e+00\n",
       "4 0.00000e+00 0.00000e+00 0.00000e+00 0.00000e+00 0.00000e+00 0.00000e+00\n",
       "5 0.00000e+00 0.00000e+00 0.00000e+00 0.00000e+00 0.00000e+00 0.00000e+00\n",
       "6 0.00000e+00 0.00000e+00 0.00000e+00 0.00000e+00 0.00000e+00 0.00000e+00\n",
       "  ESM5MEBA_P  HSM5FZC2_P \n",
       "1 1.24719e-03 4.29274e-04\n",
       "2 0.00000e+00 0.00000e+00\n",
       "3 0.00000e+00 0.00000e+00\n",
       "4 0.00000e+00 0.00000e+00\n",
       "5 0.00000e+00 0.00000e+00\n",
       "6 0.00000e+00 0.00000e+00"
      ]
     },
     "metadata": {},
     "output_type": "display_data"
    }
   ],
   "source": [
    "mgxCount <- as.matrix(subset(metagenomics, select=-2))\n",
    "head(mgxCount)"
   ]
  },
  {
   "cell_type": "code",
   "execution_count": 21,
   "metadata": {
    "vscode": {
     "languageId": "r"
    }
   },
   "outputs": [
    {
     "data": {
      "text/html": [
       "<table class=\"dataframe\">\n",
       "<caption>A data.frame: 6 × 3</caption>\n",
       "<thead>\n",
       "\t<tr><th></th><th scope=col>External.ID</th><th scope=col>diagnosis</th><th scope=col>group</th></tr>\n",
       "\t<tr><th></th><th scope=col>&lt;chr&gt;</th><th scope=col>&lt;fct&gt;</th><th scope=col>&lt;fct&gt;</th></tr>\n",
       "</thead>\n",
       "<tbody>\n",
       "\t<tr><th scope=row>1</th><td>CSM5FZ3N_P</td><td>CD</td><td>CD</td></tr>\n",
       "\t<tr><th scope=row>17</th><td>CSM5FZ3T_P</td><td>CD</td><td>CD</td></tr>\n",
       "\t<tr><th scope=row>42</th><td>CSM5FZ4A_P</td><td>UC</td><td>UC</td></tr>\n",
       "\t<tr><th scope=row>78</th><td>CSM5MCTZ_P</td><td>UC</td><td>UC</td></tr>\n",
       "\t<tr><th scope=row>89</th><td>CSM5MCVB_P</td><td>CD</td><td>CD</td></tr>\n",
       "\t<tr><th scope=row>92</th><td>CSM5MCU4_P</td><td>CD</td><td>CD</td></tr>\n",
       "</tbody>\n",
       "</table>\n"
      ],
      "text/latex": [
       "A data.frame: 6 × 3\n",
       "\\begin{tabular}{r|lll}\n",
       "  & External.ID & diagnosis & group\\\\\n",
       "  & <chr> & <fct> & <fct>\\\\\n",
       "\\hline\n",
       "\t1 & CSM5FZ3N\\_P & CD & CD\\\\\n",
       "\t17 & CSM5FZ3T\\_P & CD & CD\\\\\n",
       "\t42 & CSM5FZ4A\\_P & UC & UC\\\\\n",
       "\t78 & CSM5MCTZ\\_P & UC & UC\\\\\n",
       "\t89 & CSM5MCVB\\_P & CD & CD\\\\\n",
       "\t92 & CSM5MCU4\\_P & CD & CD\\\\\n",
       "\\end{tabular}\n"
      ],
      "text/markdown": [
       "\n",
       "A data.frame: 6 × 3\n",
       "\n",
       "| <!--/--> | External.ID &lt;chr&gt; | diagnosis &lt;fct&gt; | group &lt;fct&gt; |\n",
       "|---|---|---|---|\n",
       "| 1 | CSM5FZ3N_P | CD | CD |\n",
       "| 17 | CSM5FZ3T_P | CD | CD |\n",
       "| 42 | CSM5FZ4A_P | UC | UC |\n",
       "| 78 | CSM5MCTZ_P | UC | UC |\n",
       "| 89 | CSM5MCVB_P | CD | CD |\n",
       "| 92 | CSM5MCU4_P | CD | CD |\n",
       "\n"
      ],
      "text/plain": [
       "   External.ID diagnosis group\n",
       "1  CSM5FZ3N_P  CD        CD   \n",
       "17 CSM5FZ3T_P  CD        CD   \n",
       "42 CSM5FZ4A_P  UC        UC   \n",
       "78 CSM5MCTZ_P  UC        UC   \n",
       "89 CSM5MCVB_P  CD        CD   \n",
       "92 CSM5MCU4_P  CD        CD   "
      ]
     },
     "metadata": {},
     "output_type": "display_data"
    }
   ],
   "source": [
    "head(sampleLabels)"
   ]
  },
  {
   "cell_type": "code",
   "execution_count": 20,
   "metadata": {
    "vscode": {
     "languageId": "r"
    }
   },
   "outputs": [],
   "source": [
    "#read  the input data file\n",
    "htxCount <- apply(as.matrix(subset(metagenomics, select=-c(1, 2))), 2, as.numeric)\n",
    "\n",
    "#checking which samples have all zero values across all genes\n",
    "#these sample should be removed otherwise there will be a problem when calculating estimate size factors\n",
    "idx <- which(colSums(htxCount) == 0)\n",
    "#CSMDRVXI MSM719ME  are samples who has all zero values so we remove them\n",
    "htxCount <- htxCount[ , -idx]\n",
    "\n",
    "#read metadata file sample labels\n",
    "sampleLabels <- subset(metagenomics_metadata_subset, select= c(External.ID, diagnosis))\n",
    "#apply same filtering to the metadata remove samples from sample labels metadata\n",
    "#sampleLabels <- sampleLabels[-idx , ]\n",
    "\n",
    "#add column names to the metadata file\n",
    "#colnames(sampleLabels) <- c( \"sampleID\", \"biopsy_location\",\"disease\")\n",
    "#check whether sample names are in same order\n",
    "#all(colnames(htxCount) == rownames(sampleLabels))\n",
    "\n",
    "#select only biopsy_location and disease columns\n",
    "#sampleLabels<-sampleLabels[, c(2,3)]\n",
    "sampleLabels$diagnosis <- relevel(as.factor(sampleLabels$diagnosis),ref=\"nonIBD\")\n",
    "#add an experimental group variable to sampleLabels\n",
    "sampleLabels$group <- as.factor(sampleLabels$diagnosis)\n"
   ]
  },
  {
   "cell_type": "code",
   "execution_count": 24,
   "metadata": {
    "vscode": {
     "languageId": "r"
    }
   },
   "outputs": [
    {
     "data": {
      "image/png": "[encoded data removed]",
      "text/plain": [
       "plot without title"
      ]
     },
     "metadata": {
      "image/png": {
       "height": 420,
       "width": 420
      }
     },
     "output_type": "display_data"
    }
   ],
   "source": [
    "#remove genes which has all zero values for all samples then start DE analysis\n",
    "nonzero <- rowSums(htxCount) > 0\n",
    "htxCount %<>% .[nonzero,]\n",
    "\n",
    "#############################CPM FILTERING#############################################\n",
    "#aveLogCPM function compute average log2 counts-per-million for each row of counts.\n",
    "#the below function is similar to log2(rowMeans(cpm(y, ...)))\n",
    "mean_log_cpm = aveLogCPM(htxCount)\n",
    "\n",
    "# We plot the distribution of average log2 CPM values to verify that our chosen presence threshold is appropriate. The distribution is expected to be bimodal, with a low-abundance peak representing non-expressed genes and a high-abundance peak representing expressed genes. The chosen threshold should separate the two peaks of the bimodal distribution. \n",
    "filter_threshold <- -1# we can try different threshold values\n",
    "#jpeg(file=\"avgLogCpmDist.jpeg\")#if you want to save the histogram uncomment the following command  \n",
    "ggplot() + aes(x=mean_log_cpm) +\n",
    "    geom_histogram(binwidth=0.2) +\n",
    "    geom_vline(xintercept=filter_threshold) +\n",
    "    ggtitle(\"Histogram of mean expression values\")\n",
    "#dev.off()#to save the plot to the file\n",
    "#Having chosen our threshold, lets pick the subset of genes whose average expression passes that threshold.\n",
    "keep_genes <- mean_log_cpm >= filter_threshold \n",
    "htxCount <- htxCount[keep_genes,]\n",
    "#dim(htxCount)#to check dimension of the data\n",
    "###############################################################################\n"
   ]
  },
  {
   "cell_type": "code",
   "execution_count": 34,
   "metadata": {
    "vscode": {
     "languageId": "r"
    }
   },
   "outputs": [
    {
     "data": {
      "text/html": [
       "<table class=\"dataframe\">\n",
       "<caption>A matrix: 6 × 3 of type chr</caption>\n",
       "<thead>\n",
       "\t<tr><th></th><th scope=col>External.ID</th><th scope=col>diagnosis</th><th scope=col>group</th></tr>\n",
       "</thead>\n",
       "<tbody>\n",
       "\t<tr><th scope=row>1</th><td>CSM5FZ3N_P</td><td>CD</td><td>CD</td></tr>\n",
       "\t<tr><th scope=row>17</th><td>CSM5FZ3T_P</td><td>CD</td><td>CD</td></tr>\n",
       "\t<tr><th scope=row>42</th><td>CSM5FZ4A_P</td><td>UC</td><td>UC</td></tr>\n",
       "\t<tr><th scope=row>78</th><td>CSM5MCTZ_P</td><td>UC</td><td>UC</td></tr>\n",
       "\t<tr><th scope=row>89</th><td>CSM5MCVB_P</td><td>CD</td><td>CD</td></tr>\n",
       "\t<tr><th scope=row>92</th><td>CSM5MCU4_P</td><td>CD</td><td>CD</td></tr>\n",
       "</tbody>\n",
       "</table>\n"
      ],
      "text/latex": [
       "A matrix: 6 × 3 of type chr\n",
       "\\begin{tabular}{r|lll}\n",
       "  & External.ID & diagnosis & group\\\\\n",
       "\\hline\n",
       "\t1 & CSM5FZ3N\\_P & CD & CD\\\\\n",
       "\t17 & CSM5FZ3T\\_P & CD & CD\\\\\n",
       "\t42 & CSM5FZ4A\\_P & UC & UC\\\\\n",
       "\t78 & CSM5MCTZ\\_P & UC & UC\\\\\n",
       "\t89 & CSM5MCVB\\_P & CD & CD\\\\\n",
       "\t92 & CSM5MCU4\\_P & CD & CD\\\\\n",
       "\\end{tabular}\n"
      ],
      "text/markdown": [
       "\n",
       "A matrix: 6 × 3 of type chr\n",
       "\n",
       "| <!--/--> | External.ID | diagnosis | group |\n",
       "|---|---|---|---|\n",
       "| 1 | CSM5FZ3N_P | CD | CD |\n",
       "| 17 | CSM5FZ3T_P | CD | CD |\n",
       "| 42 | CSM5FZ4A_P | UC | UC |\n",
       "| 78 | CSM5MCTZ_P | UC | UC |\n",
       "| 89 | CSM5MCVB_P | CD | CD |\n",
       "| 92 | CSM5MCU4_P | CD | CD |\n",
       "\n"
      ],
      "text/plain": [
       "   External.ID diagnosis group\n",
       "1  CSM5FZ3N_P  CD        CD   \n",
       "17 CSM5FZ3T_P  CD        CD   \n",
       "42 CSM5FZ4A_P  UC        UC   \n",
       "78 CSM5MCTZ_P  UC        UC   \n",
       "89 CSM5MCVB_P  CD        CD   \n",
       "92 CSM5MCU4_P  CD        CD   "
      ]
     },
     "metadata": {},
     "output_type": "display_data"
    }
   ],
   "source": [
    "sampleLabels <- apply(as.matrix(sampleLabels), 2, as.factor)\n",
    "head(sampleLabels)"
   ]
  },
  {
   "cell_type": "code",
   "execution_count": 35,
   "metadata": {
    "vscode": {
     "languageId": "r"
    }
   },
   "outputs": [
    {
     "ename": "ERROR",
     "evalue": "Error in DESeqDataSetFromMatrix(countData = htxCount, colData = sampleLabels, : ncol(countData) == nrow(colData) is not TRUE\n",
     "output_type": "error",
     "traceback": [
      "Error in DESeqDataSetFromMatrix(countData = htxCount, colData = sampleLabels, : ncol(countData) == nrow(colData) is not TRUE\nTraceback:\n",
      "1. DESeqDataSetFromMatrix(countData = htxCount, colData = sampleLabels, \n .     design = ~0 + group)",
      "2. stopifnot(ncol(countData) == nrow(colData))"
     ]
    }
   ],
   "source": [
    "#we wil firstly create a DESeqDataSet object\n",
    "#(non-intercept) statistical model based on the disease and biopsy_location, group column represent both of them \n",
    "dds <- DESeqDataSetFromMatrix(countData = htxCount, colData=sampleLabels, design= ~0 + group)\n",
    "dds <- estimateSizeFactors(dds)\n",
    "\n",
    "#run differential analysis\n",
    "dds <- DESeq(dds)\n",
    "\n",
    "cont.matrix <- makeContrasts(\n",
    "  #CD disease on ileum and rectum \n",
    "  CD_vs_nonIBD   = groupCD - groupnonIBD,\n",
    "  UC_vs_nonIBD   = groupUC - groupnonIBD,\n",
    "  levels = resultsNames(dds)\n",
    ")\n",
    "\n",
    "#extract resulting contrasts based on the model, and save those in a table; also save some graphical representations\n",
    "#the function results() is called from within the saveStatOutputDESeq2 function to compute the contrasts\n",
    "files <- saveStatOutputDESeq2(cont.matrix,dds,postfix=\"\",annotation=NULL)\n",
    "#create summary table of the contrast results\n",
    "#up and down for p-val and adj p-val are decided by for example log2fc>=0.58 and  log2fc<0.58\n",
    "createPvalTab(files,postfix=\"\",namePVal=\"pvalue\",nameAdjPVal=\"padj\",nameFC=\"FoldChange\",nameLogFC=\"log2FoldChange\",html=TRUE)"
   ]
  },
  {
   "cell_type": "code",
   "execution_count": null,
   "metadata": {
    "vscode": {
     "languageId": "r"
    }
   },
   "outputs": [],
   "source": [
    "##Calculate p-value for two groups based on t-test (comparing control to disease).\n",
    "##general function to store p-values for multiple rows:\n",
    "ttest_mSet <- function(df, grp1, grp2) {\n",
    "  x = df[grp1]\n",
    "  y = df[grp2]\n",
    "  x = as.numeric(x)\n",
    "  y = as.numeric(y)  \n",
    "  results = t.test(x, y)\n",
    "  results$p.value\n",
    "}\n",
    "p_values_disorder <- apply(mSet_FINAL, 1, ttest_mSet, grp1 = c(3:end_Disorders), grp2 = c((end_Disorders+1):ncol(mSet_FINAL)))\n",
    "##Add p_values column to analysis dataset:\n",
    "mSet_AnalysisReady <- cbind(mSet_AnalysisReady, p_values_disorder)\n",
    "#Convert logFC and p-values columns to numeric values            \n",
    "mSet_AnalysisReady <- as.data.frame(mSet_AnalysisReady)\n",
    "mSet_AnalysisReady[ , c(3,4)] <- apply(mSet_AnalysisReady[ , c(3,4)], 2, function(x) as.numeric(as.character(x)))\n",
    "remove(mSet_transformed, columns_disorders, columnNumber, end_Disorders, foldchange_disorder, p_values_disorder, control_IBD, disease, ttest_mSet, mSet_FINAL\n"
   ]
  },
  {
   "cell_type": "code",
   "execution_count": 9,
   "metadata": {
    "vscode": {
     "languageId": "r"
    }
   },
   "outputs": [],
   "source": [
    "# Compute statistical significance (using t-test)\n",
    "pvalue_cd = NULL # Empty list for the p-values\n",
    "tstat_cd = NULL # Empty list of the t test statistics\n",
    "\n",
    "for(i in 1 : nrow(metagenomics_Ecoli)) { # For each gene : \n",
    "\tx = metagenomics_nonIBD[i,-1] # control of gene number i\n",
    "\ty = metagenomics_cd[i,-1] # CD of gene number i\n",
    "\t\n",
    "\t# Compute t-test between the two conditions\n",
    "\tt = t.test(x, y)\n",
    "\t\n",
    "\t# Put the current p-value in the pvalues list\n",
    "\tpvalue_cd[i] = t$p.value\n",
    "\t# Put the current t-statistic in the tstats list\n",
    "\ttstat_cd[i] = t$statistic\n",
    "}"
   ]
  },
  {
   "cell_type": "code",
   "execution_count": 10,
   "metadata": {
    "vscode": {
     "languageId": "r"
    }
   },
   "outputs": [],
   "source": [
    "# Compute statistical significance (using t-test)\n",
    "subset_NA = NULL\n",
    "\n",
    "for(i in 1 : nrow(metagenomics_Ecoli)) { # For each gene : \n",
    "\n",
    "\tx = metagenomics_nonIBD[i,-1] # Control of gene number i\n",
    "\ty = metagenomics_uc[i,-1] # UC of gene number i\n",
    "\n",
    "\tmetagenomics_nonIBD_NA = all(is.na(x)) || length(is.na(x)==FALSE)<2\n",
    "\tmetagenomics_uc_NA = all(is.na(y)) || length(is.na(y)==FALSE)<2\n",
    "\tsubset_NA[i] = metagenomics_nonIBD_NA || metagenomics_uc_NA\n",
    "\t\n",
    "}\n",
    "metagenomics_uc_nonNA <- metagenomics_uc[!subset_NA,]\n",
    "metagenomics_nonIBD_nonNA <- metagenomics_nonIBD[!subset_NA,]"
   ]
  },
  {
   "cell_type": "code",
   "execution_count": 11,
   "metadata": {
    "vscode": {
     "languageId": "r"
    }
   },
   "outputs": [],
   "source": [
    "# Compute statistical significance (using t-test)\n",
    "pvalue_uc = NULL # Empty list for the p-values\n",
    "tstat_uc = NULL # Empty list of the t test statistics\n",
    "\n",
    "for(i in 1 : nrow(metagenomics_nonIBD_nonNA)) { # For each gene : \n",
    "\tx = metagenomics_nonIBD_nonNA[i,-1] # control of gene number i\n",
    "\ty = metagenomics_uc_nonNA[i,-1] # UC of gene number i\t\n",
    "\t\n",
    "\t# Compute t-test between the two conditions\n",
    "\tt = t.test(x, y)\n",
    "\t\n",
    "\t# Put the current p-value in the pvalues list\n",
    "\tpvalue_uc[i] = t$p.value\n",
    "\t# Put the current t-statistic in the tstats list\n",
    "\ttstat_uc[i] = t$statistic\n",
    "}"
   ]
  },
  {
   "cell_type": "markdown",
   "metadata": {},
   "source": [
    "https://ucdavis-bioinformatics-training.github.io/2018-June-RNA-Seq-Workshop/thursday/DE.html"
   ]
  },
  {
   "cell_type": "code",
   "execution_count": null,
   "metadata": {
    "vscode": {
     "languageId": "r"
    }
   },
   "outputs": [],
   "source": [
    "mgxCount <- as.matrix(subset(metagenomics, select=-2))\n",
    "d0 <- DGEList(mgxCount)\n",
    "d0 <- calcNormFactors(d0)\n",
    "\n",
    "cutoff <- 1\n",
    "drop <- which(apply(cpm(d0), 1, max) < cutoff)\n",
    "d <- d0[-drop,] \n",
    "\n",
    "snames <- colnames(counts) # Sample names\n",
    "mm <- model.matrix(~0 + group)\n",
    "fit <- lmFit(y, mm)\n",
    "head(coef(fit))\n",
    "contr <- makeContrasts(groupUC - groupNonIBD, levels = colnames(coef(fit)))\n",
    "tmp <- contrasts.fit(fit, contr)\n",
    "tmp <- eBayes(tmp)\n",
    "top.table <- topTable(tmp, sort.by = \"P\", n = Inf)\n",
    "head(top.table, 20)\n",
    "\n",
    "length(which(top.table$adj.P.Val < 0.05))"
   ]
  },
  {
   "cell_type": "code",
   "execution_count": 12,
   "metadata": {
    "vscode": {
     "languageId": "r"
    }
   },
   "outputs": [],
   "source": [
    "metagenomics_Ecoli$pvalue_cd <- pvalue_cd\n",
    "metagenomics_Ecoli$pvalue_uc <- pvalue_uc\n",
    "cd_genes <- subset(metagenomics_Ecoli[metagenomics_Ecoli$pvalue_cd<=0.05,], select=\"Gene.Family\", \"\")\n",
    "uc_genes <- subset(metagenomics_Ecoli[metagenomics_Ecoli$pvalue_uc<=0.05,], select=\"Gene.Family\")"
   ]
  },
  {
   "cell_type": "code",
   "execution_count": 42,
   "metadata": {
    "vscode": {
     "languageId": "r"
    }
   },
   "outputs": [
    {
     "data": {
      "text/html": [
       "<style>\n",
       ".list-inline {list-style: none; margin:0; padding: 0}\n",
       ".list-inline>li {display: inline-block}\n",
       ".list-inline>li:not(:last-child)::after {content: \"\\00b7\"; padding: 0 .5ex}\n",
       "</style>\n",
       "<ol class=list-inline><li>927</li><li>1642</li></ol>\n"
      ],
      "text/latex": [
       "\\begin{enumerate*}\n",
       "\\item 927\n",
       "\\item 1642\n",
       "\\end{enumerate*}\n"
      ],
      "text/markdown": [
       "1. 927\n",
       "2. 1642\n",
       "\n",
       "\n"
      ],
      "text/plain": [
       "[1]  927 1642"
      ]
     },
     "metadata": {},
     "output_type": "display_data"
    }
   ],
   "source": [
    "#metagenomics_Ecoli[order(metagenomics_Ecoli$pvalue_cd)]\n",
    "dim(metagenomics_Ecoli)"
   ]
  },
  {
   "cell_type": "code",
   "execution_count": 58,
   "metadata": {
    "vscode": {
     "languageId": "r"
    }
   },
   "outputs": [],
   "source": [
    "#list of all deg from two disease types \n",
    "deg.CD <- subset(metagenomics_Ecoli[!is.na(metagenomics_Ecoli$pvalue_cd) & metagenomics_Ecoli$pvalue_cd < 0.1,c(1,2)])\n",
    "#CD.up   <-unique(dataset.CD[!is.na(metagenomics_Ecoli$pvalue_cd) & metagenomics_Ecoli$pvalue_cd < 0.05,c(1,2)])\n",
    "#CD.down <-unique(dataset.CD[!is.na(metagenomics_Ecoli$pvalue_cd) & metagenomics_Ecoli$pvalue_cd < 0.05,c(1,2)])\n",
    "\n",
    "deg.UC <- subset(metagenomics_Ecoli[!is.na(metagenomics_Ecoli$pvalue_uc) & metagenomics_Ecoli$pvalue_uc < 0.1,c(1,2)])\n",
    "#UC.up   <-unique(dataset.UC[!is.na(dataset.UC$pvalue) & dataset.UC$pvalue < 0.05,c(1,2)])\n",
    "#UC.down <-unique(dataset.UC[!is.na(dataset.UC$pvalue) & dataset.UC$pvalue < 0.05,c(1,2)])\n"
   ]
  },
  {
   "cell_type": "code",
   "execution_count": 59,
   "metadata": {
    "vscode": {
     "languageId": "r"
    }
   },
   "outputs": [
    {
     "data": {
      "text/html": [
       "<table class=\"dataframe\">\n",
       "<caption>A data.frame: 3 × 2</caption>\n",
       "<thead>\n",
       "\t<tr><th></th><th scope=col>Gene.Family</th><th scope=col>Name.Organism</th></tr>\n",
       "\t<tr><th></th><th scope=col>&lt;chr&gt;</th><th scope=col>&lt;chr&gt;</th></tr>\n",
       "</thead>\n",
       "<tbody>\n",
       "\t<tr><th scope=row>1918</th><td>1.1.1.264</td><td> L-idonate 5-dehydrogenase (NAD(P)(+))|g__Escherichia.s__Escherichia_coli</td></tr>\n",
       "\t<tr><th scope=row>72023</th><td>3.6.1.15 </td><td> Nucleoside-triphosphate phosphatase|g__Escherichia.s__Escherichia_coli  </td></tr>\n",
       "\t<tr><th scope=row>73942</th><td>3.6.3.16 </td><td> Arsenite-transporting ATPase|g__Escherichia.s__Escherichia_coli         </td></tr>\n",
       "</tbody>\n",
       "</table>\n"
      ],
      "text/latex": [
       "A data.frame: 3 × 2\n",
       "\\begin{tabular}{r|ll}\n",
       "  & Gene.Family & Name.Organism\\\\\n",
       "  & <chr> & <chr>\\\\\n",
       "\\hline\n",
       "\t1918 & 1.1.1.264 &  L-idonate 5-dehydrogenase (NAD(P)(+))\\textbar{}g\\_\\_Escherichia.s\\_\\_Escherichia\\_coli\\\\\n",
       "\t72023 & 3.6.1.15  &  Nucleoside-triphosphate phosphatase\\textbar{}g\\_\\_Escherichia.s\\_\\_Escherichia\\_coli  \\\\\n",
       "\t73942 & 3.6.3.16  &  Arsenite-transporting ATPase\\textbar{}g\\_\\_Escherichia.s\\_\\_Escherichia\\_coli         \\\\\n",
       "\\end{tabular}\n"
      ],
      "text/markdown": [
       "\n",
       "A data.frame: 3 × 2\n",
       "\n",
       "| <!--/--> | Gene.Family &lt;chr&gt; | Name.Organism &lt;chr&gt; |\n",
       "|---|---|---|\n",
       "| 1918 | 1.1.1.264 |  L-idonate 5-dehydrogenase (NAD(P)(+))|g__Escherichia.s__Escherichia_coli |\n",
       "| 72023 | 3.6.1.15  |  Nucleoside-triphosphate phosphatase|g__Escherichia.s__Escherichia_coli   |\n",
       "| 73942 | 3.6.3.16  |  Arsenite-transporting ATPase|g__Escherichia.s__Escherichia_coli          |\n",
       "\n"
      ],
      "text/plain": [
       "      Gene.Family\n",
       "1918  1.1.1.264  \n",
       "72023 3.6.1.15   \n",
       "73942 3.6.3.16   \n",
       "      Name.Organism                                                            \n",
       "1918   L-idonate 5-dehydrogenase (NAD(P)(+))|g__Escherichia.s__Escherichia_coli\n",
       "72023  Nucleoside-triphosphate phosphatase|g__Escherichia.s__Escherichia_coli  \n",
       "73942  Arsenite-transporting ATPase|g__Escherichia.s__Escherichia_coli         "
      ]
     },
     "metadata": {},
     "output_type": "display_data"
    }
   ],
   "source": [
    "deg.CD"
   ]
  },
  {
   "cell_type": "markdown",
   "metadata": {},
   "source": [
    "## KEGG pathway over-representation analysis\n",
    "\n",
    "Codes for KEGG organisms can be found here (https://www.genome.jp/kegg/catalog/org_list.html)"
   ]
  },
  {
   "cell_type": "code",
   "execution_count": null,
   "metadata": {
    "vscode": {
     "languageId": "r"
    }
   },
   "outputs": [],
   "source": [
    "# Subset Escherichia coli\n",
    "metagenomics_Ecoli <- metagenomics[grepl(\"Escherichia_coli\", metagenomics$Name.Organism, fixed = TRUE),]\n",
    "head(metagenomics_Ecoli)"
   ]
  },
  {
   "cell_type": "code",
   "execution_count": 25,
   "metadata": {
    "vscode": {
     "languageId": "r"
    }
   },
   "outputs": [
    {
     "ename": "ERROR",
     "evalue": "Error in .testForValidKeys(x, keys, keytype, fks): None of the keys entered are valid keys for 'ENZYME'. Please use the keys method to see a listing of valid arguments.\n",
     "output_type": "error",
     "traceback": [
      "Error in .testForValidKeys(x, keys, keytype, fks): None of the keys entered are valid keys for 'ENZYME'. Please use the keys method to see a listing of valid arguments.\nTraceback:\n",
      "1. clusterProfiler::bitr(cd_genes$Gene.Family, fromType = \"ENZYME\", \n .     toType = \"ENTREZID\", OrgDb = org.EcK12.eg.db)",
      "2. suppressWarnings(AnnotationDbi::select(db, keys = geneID, keytype = fromType, \n .     columns = c(fromType, toType)))",
      "3. withCallingHandlers(expr, warning = function(w) if (inherits(w, \n .     classes)) tryInvokeRestart(\"muffleWarning\"))",
      "4. AnnotationDbi::select(db, keys = geneID, keytype = fromType, \n .     columns = c(fromType, toType))",
      "5. AnnotationDbi::select(db, keys = geneID, keytype = fromType, \n .     columns = c(fromType, toType))",
      "6. .select(x, keys, columns, keytype, jointype = jointype, ...)",
      "7. testSelectArgs(x, keys = keys, cols = cols, keytype = keytype, \n .     fks = fks, skipValidKeysTest = skipValidKeysTest)",
      "8. .testForValidKeys(x, keys, keytype, fks)",
      "9. stop(msg)"
     ]
    }
   ],
   "source": [
    "# Convert EC numbers to Entrez IDs\n",
    "gene <- clusterProfiler::bitr(cd_genes$Gene.Family, fromType = \"ENZYME\", toType = \"ENTREZID\", OrgDb = org.EcK12.eg.db)\n",
    "\n",
    "# Convert Entrez IDs to KEGG IDs\n",
    "geneList <- sub(\"^\", \"ncbi-geneid:\", gene[,2])\n",
    "geneList <- keggConv(\"eco\", geneList)"
   ]
  },
  {
   "cell_type": "code",
   "execution_count": 20,
   "metadata": {
    "vscode": {
     "languageId": "r"
    }
   },
   "outputs": [
    {
     "ename": "ERROR",
     "evalue": "Error in h(simpleError(msg, call)): error in evaluating the argument 'x' in selecting a method for function 'gsub': object 'geneList' not found\n",
     "output_type": "error",
     "traceback": [
      "Error in h(simpleError(msg, call)): error in evaluating the argument 'x' in selecting a method for function 'gsub': object 'geneList' not found\nTraceback:\n",
      "1. gsub(\"eco:\", \"\", geneList)",
      "2. .handleSimpleError(function (cond) \n . .Internal(C_tryCatchHelper(addr, 1L, cond)), \"object 'geneList' not found\", \n .     base::quote(gsub(\"eco:\", \"\", geneList)))",
      "3. h(simpleError(msg, call))"
     ]
    }
   ],
   "source": [
    "# Remove preceding 'eco:'\n",
    "geneList <- gsub(\"eco:\", \"\", geneList)\n",
    "\n",
    "kk <- enrichKEGG(gene         = geneList,\n",
    "                 organism     = 'eco',\n",
    "                 pvalueCutoff = 0.05)\n",
    "head(kk)"
   ]
  },
  {
   "cell_type": "code",
   "execution_count": 33,
   "metadata": {
    "vscode": {
     "languageId": "r"
    }
   },
   "outputs": [
    {
     "ename": "ERROR",
     "evalue": "Error in .testForValidKeys(x, keys, keytype, fks): None of the keys entered are valid keys for 'ENZYME'. Please use the keys method to see a listing of valid arguments.\n",
     "output_type": "error",
     "traceback": [
      "Error in .testForValidKeys(x, keys, keytype, fks): None of the keys entered are valid keys for 'ENZYME'. Please use the keys method to see a listing of valid arguments.\nTraceback:\n",
      "1. clusterProfiler::bitr(uc_genes$Gene.Family, fromType = \"ENZYME\", \n .     toType = \"ENTREZID\", OrgDb = org.EcK12.eg.db)",
      "2. suppressWarnings(AnnotationDbi::select(db, keys = geneID, keytype = fromType, \n .     columns = c(fromType, toType)))",
      "3. withCallingHandlers(expr, warning = function(w) if (inherits(w, \n .     classes)) tryInvokeRestart(\"muffleWarning\"))",
      "4. AnnotationDbi::select(db, keys = geneID, keytype = fromType, \n .     columns = c(fromType, toType))",
      "5. AnnotationDbi::select(db, keys = geneID, keytype = fromType, \n .     columns = c(fromType, toType))",
      "6. .select(x, keys, columns, keytype, jointype = jointype, ...)",
      "7. testSelectArgs(x, keys = keys, cols = cols, keytype = keytype, \n .     fks = fks, skipValidKeysTest = skipValidKeysTest)",
      "8. .testForValidKeys(x, keys, keytype, fks)",
      "9. stop(msg)"
     ]
    }
   ],
   "source": [
    "# Convert EC numbers to Entrez IDs\n",
    "gene2 <- clusterProfiler::bitr(uc_genes$Gene.Family, fromType = \"ENZYME\", toType = \"ENTREZID\", OrgDb = org.EcK12.eg.db)\n",
    "\n",
    "# Convert Entrez IDs to KEGG IDs\n",
    "geneList2 <- sub(\"^\", \"ncbi-geneid:\", gene2[,2])\n",
    "geneList2 <- keggConv(\"eco\", geneList2)"
   ]
  },
  {
   "cell_type": "code",
   "execution_count": 34,
   "metadata": {
    "vscode": {
     "languageId": "r"
    }
   },
   "outputs": [
    {
     "ename": "ERROR",
     "evalue": "Error in h(simpleError(msg, call)): error in evaluating the argument 'x' in selecting a method for function 'gsub': object 'geneList2' not found\n",
     "output_type": "error",
     "traceback": [
      "Error in h(simpleError(msg, call)): error in evaluating the argument 'x' in selecting a method for function 'gsub': object 'geneList2' not found\nTraceback:\n",
      "1. gsub(\"eco:\", \"\", geneList2)",
      "2. .handleSimpleError(function (cond) \n . .Internal(C_tryCatchHelper(addr, 1L, cond)), \"object 'geneList2' not found\", \n .     base::quote(gsub(\"eco:\", \"\", geneList2)))",
      "3. h(simpleError(msg, call))"
     ]
    }
   ],
   "source": [
    "# Remove preceding 'eco:'\n",
    "geneList2 <- gsub(\"eco:\", \"\", geneList2)\n",
    "\n",
    "kk2 <- enrichKEGG(gene         = geneList2,\n",
    "                 organism     = 'eco',\n",
    "                 pvalueCutoff = 0.05)\n",
    "head(kk2)"
   ]
  }
 ],
 "metadata": {
  "kernelspec": {
   "display_name": "R",
   "language": "R",
   "name": "ir"
  },
  "language_info": {
   "codemirror_mode": "r",
   "file_extension": ".r",
   "mimetype": "text/x-r-source",
   "name": "R",
   "pygments_lexer": "r",
   "version": "4.1.3"
  },
  "orig_nbformat": 4
 },
 "nbformat": 4,
 "nbformat_minor": 2
}
